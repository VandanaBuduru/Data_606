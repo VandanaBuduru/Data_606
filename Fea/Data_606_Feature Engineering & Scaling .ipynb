{
 "cells": [
  {
   "cell_type": "markdown",
   "metadata": {},
   "source": [
    "# Exploratory  Data Analysis & Logistic Regression Classification Model"
   ]
  },
  {
   "cell_type": "markdown",
   "metadata": {},
   "source": [
    "**Objective** :\n",
    "\n",
    "This project aims at building a complete data science project which analyzes the listing of consumer complaints filed against Insurance companies licensed in Connecticut. This dataset includes the Company, Line of Business, nature of complaint, outcome or resolution, and recovery.\n",
    "\n",
    "This application can be used by any agency, Insurance industry stakeholders, or the general public to predict the status of consumer filings against the insurance companies.\n",
    "\n",
    "This is a complete data-driven application that considers the existing data to predict the Status of the Consumer complaints."
   ]
  },
  {
   "cell_type": "markdown",
   "metadata": {},
   "source": [
    "##### Importing necessary libraries"
   ]
  },
  {
   "cell_type": "code",
   "execution_count": 110,
   "metadata": {},
   "outputs": [],
   "source": [
    "import pandas as pd\n",
    "import numpy as np\n",
    "import matplotlib.pyplot as plt\n",
    "import seaborn as sns\n",
    "import warnings\n",
    "warnings.filterwarnings(\"ignore\")"
   ]
  },
  {
   "cell_type": "markdown",
   "metadata": {},
   "source": [
    "##### Reading the dataframe"
   ]
  },
  {
   "cell_type": "code",
   "execution_count": 111,
   "metadata": {},
   "outputs": [
    {
     "data": {
      "text/html": [
       "<div>\n",
       "<style scoped>\n",
       "    .dataframe tbody tr th:only-of-type {\n",
       "        vertical-align: middle;\n",
       "    }\n",
       "\n",
       "    .dataframe tbody tr th {\n",
       "        vertical-align: top;\n",
       "    }\n",
       "\n",
       "    .dataframe thead th {\n",
       "        text-align: right;\n",
       "    }\n",
       "</style>\n",
       "<table border=\"1\" class=\"dataframe\">\n",
       "  <thead>\n",
       "    <tr style=\"text-align: right;\">\n",
       "      <th></th>\n",
       "      <th>Company</th>\n",
       "      <th>File No.</th>\n",
       "      <th>Opened</th>\n",
       "      <th>Closed</th>\n",
       "      <th>Coverage</th>\n",
       "      <th>SubCoverage</th>\n",
       "      <th>Reason</th>\n",
       "      <th>SubReason</th>\n",
       "      <th>Disposition</th>\n",
       "      <th>Conclusion</th>\n",
       "      <th>Recovery</th>\n",
       "      <th>Status</th>\n",
       "    </tr>\n",
       "  </thead>\n",
       "  <tbody>\n",
       "    <tr>\n",
       "      <th>0</th>\n",
       "      <td>Cigna Health and Life Insurance Company</td>\n",
       "      <td>7015934</td>\n",
       "      <td>07/11/2018</td>\n",
       "      <td>08/13/2018</td>\n",
       "      <td>Group</td>\n",
       "      <td>Health Only</td>\n",
       "      <td>Marketing &amp; Sales</td>\n",
       "      <td>Misrepresentation</td>\n",
       "      <td>Claim Settled</td>\n",
       "      <td>Furnished Information</td>\n",
       "      <td>0.00</td>\n",
       "      <td>Closed</td>\n",
       "    </tr>\n",
       "    <tr>\n",
       "      <th>1</th>\n",
       "      <td>Cigna Health and Life Insurance Company</td>\n",
       "      <td>7013129</td>\n",
       "      <td>02/22/2019</td>\n",
       "      <td>03/18/2019</td>\n",
       "      <td>Individual</td>\n",
       "      <td>Dental</td>\n",
       "      <td>Claim Handling</td>\n",
       "      <td>Unsatisfactory Settlement/Offer</td>\n",
       "      <td>Company Position Substantiated</td>\n",
       "      <td>Furnished Information</td>\n",
       "      <td>0.00</td>\n",
       "      <td>Closed</td>\n",
       "    </tr>\n",
       "    <tr>\n",
       "      <th>2</th>\n",
       "      <td>Cigna Health and Life Insurance Company</td>\n",
       "      <td>7014049</td>\n",
       "      <td>01/25/2019</td>\n",
       "      <td>02/22/2019</td>\n",
       "      <td>Group</td>\n",
       "      <td>Health Only</td>\n",
       "      <td>Claim Handling</td>\n",
       "      <td>Delays</td>\n",
       "      <td>Claim Settled</td>\n",
       "      <td>Justified</td>\n",
       "      <td>593.37</td>\n",
       "      <td>Closed</td>\n",
       "    </tr>\n",
       "    <tr>\n",
       "      <th>3</th>\n",
       "      <td>Cigna Health and Life Insurance Company</td>\n",
       "      <td>7013857</td>\n",
       "      <td>01/23/2019</td>\n",
       "      <td>01/23/2019</td>\n",
       "      <td>Group</td>\n",
       "      <td>Health Only</td>\n",
       "      <td>Claim Handling</td>\n",
       "      <td>UR Case Management</td>\n",
       "      <td>NaN</td>\n",
       "      <td>Furnished Information</td>\n",
       "      <td>0.00</td>\n",
       "      <td>Closed</td>\n",
       "    </tr>\n",
       "    <tr>\n",
       "      <th>4</th>\n",
       "      <td>Cigna Health and Life Insurance Company</td>\n",
       "      <td>7013857</td>\n",
       "      <td>01/23/2019</td>\n",
       "      <td>01/23/2019</td>\n",
       "      <td>Group</td>\n",
       "      <td>Health Only</td>\n",
       "      <td>Claim Handling</td>\n",
       "      <td>UR Case Management</td>\n",
       "      <td>NaN</td>\n",
       "      <td>Refer-Judicial/Attorney</td>\n",
       "      <td>0.00</td>\n",
       "      <td>Closed</td>\n",
       "    </tr>\n",
       "  </tbody>\n",
       "</table>\n",
       "</div>"
      ],
      "text/plain": [
       "                                   Company  File No.      Opened      Closed  \\\n",
       "0  Cigna Health and Life Insurance Company   7015934  07/11/2018  08/13/2018   \n",
       "1  Cigna Health and Life Insurance Company   7013129  02/22/2019  03/18/2019   \n",
       "2  Cigna Health and Life Insurance Company   7014049  01/25/2019  02/22/2019   \n",
       "3  Cigna Health and Life Insurance Company   7013857  01/23/2019  01/23/2019   \n",
       "4  Cigna Health and Life Insurance Company   7013857  01/23/2019  01/23/2019   \n",
       "\n",
       "     Coverage  SubCoverage             Reason  \\\n",
       "0       Group  Health Only  Marketing & Sales   \n",
       "1  Individual       Dental     Claim Handling   \n",
       "2       Group  Health Only     Claim Handling   \n",
       "3       Group  Health Only     Claim Handling   \n",
       "4       Group  Health Only     Claim Handling   \n",
       "\n",
       "                         SubReason                     Disposition  \\\n",
       "0                Misrepresentation                   Claim Settled   \n",
       "1  Unsatisfactory Settlement/Offer  Company Position Substantiated   \n",
       "2                           Delays                   Claim Settled   \n",
       "3               UR Case Management                             NaN   \n",
       "4               UR Case Management                             NaN   \n",
       "\n",
       "                Conclusion  Recovery  Status  \n",
       "0    Furnished Information      0.00  Closed  \n",
       "1    Furnished Information      0.00  Closed  \n",
       "2                Justified    593.37  Closed  \n",
       "3    Furnished Information      0.00  Closed  \n",
       "4  Refer-Judicial/Attorney      0.00  Closed  "
      ]
     },
     "execution_count": 111,
     "metadata": {},
     "output_type": "execute_result"
    }
   ],
   "source": [
    "df=pd.read_csv(\"Insurance_Company_Complaints__Resolutions__Status__and_Recoveries.csv\")\n",
    "df.head()"
   ]
  },
  {
   "cell_type": "code",
   "execution_count": 112,
   "metadata": {},
   "outputs": [
    {
     "name": "stdout",
     "output_type": "stream",
     "text": [
      "<class 'pandas.core.frame.DataFrame'>\n",
      "RangeIndex: 24842 entries, 0 to 24841\n",
      "Data columns (total 12 columns):\n",
      " #   Column       Non-Null Count  Dtype  \n",
      "---  ------       --------------  -----  \n",
      " 0   Company      24842 non-null  object \n",
      " 1   File No.     24842 non-null  int64  \n",
      " 2   Opened       24842 non-null  object \n",
      " 3   Closed       23989 non-null  object \n",
      " 4   Coverage     22994 non-null  object \n",
      " 5   SubCoverage  17880 non-null  object \n",
      " 6   Reason       22637 non-null  object \n",
      " 7   SubReason    22637 non-null  object \n",
      " 8   Disposition  15505 non-null  object \n",
      " 9   Conclusion   21215 non-null  object \n",
      " 10  Recovery     24842 non-null  float64\n",
      " 11  Status       24842 non-null  object \n",
      "dtypes: float64(1), int64(1), object(10)\n",
      "memory usage: 2.3+ MB\n"
     ]
    }
   ],
   "source": [
    "df.info()"
   ]
  },
  {
   "cell_type": "markdown",
   "metadata": {},
   "source": [
    "##### Displaying Unique values in respective columns "
   ]
  },
  {
   "cell_type": "code",
   "execution_count": 113,
   "metadata": {},
   "outputs": [
    {
     "data": {
      "text/plain": [
       "Company          709\n",
       "File No.       15800\n",
       "Opened          1234\n",
       "Closed          1100\n",
       "Coverage          43\n",
       "SubCoverage       87\n",
       "Reason             4\n",
       "SubReason        147\n",
       "Disposition       10\n",
       "Conclusion        48\n",
       "Recovery        2044\n",
       "Status            22\n",
       "dtype: int64"
      ]
     },
     "execution_count": 113,
     "metadata": {},
     "output_type": "execute_result"
    }
   ],
   "source": [
    "df.nunique()"
   ]
  },
  {
   "cell_type": "markdown",
   "metadata": {},
   "source": [
    "Inferences:\n",
    "\n",
    "We can see that the columns Company, File No. has 709, 15800 unique values respectively"
   ]
  },
  {
   "cell_type": "code",
   "execution_count": 114,
   "metadata": {},
   "outputs": [
    {
     "name": "stdout",
     "output_type": "stream",
     "text": [
      "(24842, 12)\n",
      "Number of rows: 24842\n",
      "Number of columns: 12\n"
     ]
    }
   ],
   "source": [
    "#printing the shape of the dataframe\n",
    "print(df.shape)\n",
    "print(\"Number of rows:\", df.shape[0])\n",
    "print(\"Number of columns:\", df.shape[1])"
   ]
  },
  {
   "cell_type": "markdown",
   "metadata": {},
   "source": [
    "#### Null Values in Dataset"
   ]
  },
  {
   "cell_type": "code",
   "execution_count": 115,
   "metadata": {},
   "outputs": [
    {
     "data": {
      "text/plain": [
       "Company           0\n",
       "File No.          0\n",
       "Opened            0\n",
       "Closed          853\n",
       "Coverage       1848\n",
       "SubCoverage    6962\n",
       "Reason         2205\n",
       "SubReason      2205\n",
       "Disposition    9337\n",
       "Conclusion     3627\n",
       "Recovery          0\n",
       "Status            0\n",
       "dtype: int64"
      ]
     },
     "execution_count": 115,
     "metadata": {},
     "output_type": "execute_result"
    }
   ],
   "source": [
    "#Displaying null values in the dataset with respect to the columns\n",
    "df.isna().sum()"
   ]
  },
  {
   "cell_type": "markdown",
   "metadata": {},
   "source": [
    "Inferences: \n",
    "\n",
    "The columns Closed, Coverage, Sub Coverage has 853, 1848, 6962 null values respectively."
   ]
  },
  {
   "cell_type": "markdown",
   "metadata": {},
   "source": [
    "#### Imputing Null Values in the dataset"
   ]
  },
  {
   "cell_type": "code",
   "execution_count": 116,
   "metadata": {},
   "outputs": [],
   "source": [
    "df.fillna(df['Closed'].mode()[0], inplace=True)\n",
    "df.fillna(df['Coverage'].mode()[0], inplace=True)\n",
    "df.fillna(df['SubCoverage'].mode()[0], inplace=True)\n",
    "df.fillna(df['Reason'].mode()[0], inplace=True)\n",
    "df.fillna(df['SubReason'].mode()[0], inplace=True)\n",
    "df.fillna(df['Disposition'].mode()[0], inplace=True)\n",
    "df.fillna(df['Conclusion'].mode()[0], inplace=True)"
   ]
  },
  {
   "cell_type": "markdown",
   "metadata": {},
   "source": [
    "#### Mapping various intermediate Status types to Open/pending and others to closed in Status Column "
   ]
  },
  {
   "cell_type": "code",
   "execution_count": 117,
   "metadata": {},
   "outputs": [],
   "source": [
    "df[\"Status\"] = np.where(df[\"Status\"] == \"Closed\", 0, 1)\n",
    "df['Status'] = df['Status'].map({1:'Open/Pending', 0:'Closed'})"
   ]
  },
  {
   "cell_type": "code",
   "execution_count": 118,
   "metadata": {},
   "outputs": [],
   "source": [
    "df = df[df.Reason != '02/23/2022']\n",
    "df = df[df.Coverage != '02/23/2022']\n",
    "df = df[df.SubCoverage != '02/23/2022']\n",
    "df = df[df.Disposition != '02/23/2022']\n",
    "df = df[df.Conclusion != '02/23/2022']"
   ]
  },
  {
   "cell_type": "markdown",
   "metadata": {},
   "source": [
    "##### Summary of numerical columns"
   ]
  },
  {
   "cell_type": "code",
   "execution_count": 119,
   "metadata": {},
   "outputs": [
    {
     "data": {
      "text/html": [
       "<div>\n",
       "<style scoped>\n",
       "    .dataframe tbody tr th:only-of-type {\n",
       "        vertical-align: middle;\n",
       "    }\n",
       "\n",
       "    .dataframe tbody tr th {\n",
       "        vertical-align: top;\n",
       "    }\n",
       "\n",
       "    .dataframe thead th {\n",
       "        text-align: right;\n",
       "    }\n",
       "</style>\n",
       "<table border=\"1\" class=\"dataframe\">\n",
       "  <thead>\n",
       "    <tr style=\"text-align: right;\">\n",
       "      <th></th>\n",
       "      <th>File No.</th>\n",
       "      <th>Recovery</th>\n",
       "    </tr>\n",
       "  </thead>\n",
       "  <tbody>\n",
       "    <tr>\n",
       "      <th>count</th>\n",
       "      <td>1.126600e+04</td>\n",
       "      <td>11266.000000</td>\n",
       "    </tr>\n",
       "    <tr>\n",
       "      <th>mean</th>\n",
       "      <td>7.017677e+06</td>\n",
       "      <td>985.167081</td>\n",
       "    </tr>\n",
       "    <tr>\n",
       "      <th>std</th>\n",
       "      <td>1.376488e+04</td>\n",
       "      <td>9247.913518</td>\n",
       "    </tr>\n",
       "    <tr>\n",
       "      <th>min</th>\n",
       "      <td>7.000002e+06</td>\n",
       "      <td>0.000000</td>\n",
       "    </tr>\n",
       "    <tr>\n",
       "      <th>25%</th>\n",
       "      <td>7.007318e+06</td>\n",
       "      <td>0.000000</td>\n",
       "    </tr>\n",
       "    <tr>\n",
       "      <th>50%</th>\n",
       "      <td>7.014266e+06</td>\n",
       "      <td>0.000000</td>\n",
       "    </tr>\n",
       "    <tr>\n",
       "      <th>75%</th>\n",
       "      <td>7.020789e+06</td>\n",
       "      <td>0.000000</td>\n",
       "    </tr>\n",
       "    <tr>\n",
       "      <th>max</th>\n",
       "      <td>7.045700e+06</td>\n",
       "      <td>311596.730000</td>\n",
       "    </tr>\n",
       "  </tbody>\n",
       "</table>\n",
       "</div>"
      ],
      "text/plain": [
       "           File No.       Recovery\n",
       "count  1.126600e+04   11266.000000\n",
       "mean   7.017677e+06     985.167081\n",
       "std    1.376488e+04    9247.913518\n",
       "min    7.000002e+06       0.000000\n",
       "25%    7.007318e+06       0.000000\n",
       "50%    7.014266e+06       0.000000\n",
       "75%    7.020789e+06       0.000000\n",
       "max    7.045700e+06  311596.730000"
      ]
     },
     "execution_count": 119,
     "metadata": {},
     "output_type": "execute_result"
    }
   ],
   "source": [
    "#Displaying summary of numerical columns\n",
    "df.describe()"
   ]
  },
  {
   "cell_type": "markdown",
   "metadata": {},
   "source": [
    "Inferences: \n",
    "    \n",
    "We can see that the values in Recovery column  is 80. The recoveries are ranging from 0 to $843825."
   ]
  },
  {
   "cell_type": "code",
   "execution_count": 120,
   "metadata": {},
   "outputs": [
    {
     "data": {
      "text/html": [
       "<div>\n",
       "<style scoped>\n",
       "    .dataframe tbody tr th:only-of-type {\n",
       "        vertical-align: middle;\n",
       "    }\n",
       "\n",
       "    .dataframe tbody tr th {\n",
       "        vertical-align: top;\n",
       "    }\n",
       "\n",
       "    .dataframe thead th {\n",
       "        text-align: right;\n",
       "    }\n",
       "</style>\n",
       "<table border=\"1\" class=\"dataframe\">\n",
       "  <thead>\n",
       "    <tr style=\"text-align: right;\">\n",
       "      <th></th>\n",
       "      <th>Company</th>\n",
       "      <th>File No.</th>\n",
       "      <th>Opened</th>\n",
       "      <th>Closed</th>\n",
       "      <th>Coverage</th>\n",
       "      <th>SubCoverage</th>\n",
       "      <th>Reason</th>\n",
       "      <th>SubReason</th>\n",
       "      <th>Disposition</th>\n",
       "      <th>Conclusion</th>\n",
       "      <th>Recovery</th>\n",
       "      <th>Status</th>\n",
       "    </tr>\n",
       "  </thead>\n",
       "  <tbody>\n",
       "    <tr>\n",
       "      <th>count</th>\n",
       "      <td>11266</td>\n",
       "      <td>1.126600e+04</td>\n",
       "      <td>11266</td>\n",
       "      <td>11266</td>\n",
       "      <td>11266</td>\n",
       "      <td>11266</td>\n",
       "      <td>11266</td>\n",
       "      <td>11266</td>\n",
       "      <td>11266</td>\n",
       "      <td>11266</td>\n",
       "      <td>11266.000000</td>\n",
       "      <td>11266</td>\n",
       "    </tr>\n",
       "    <tr>\n",
       "      <th>unique</th>\n",
       "      <td>478</td>\n",
       "      <td>NaN</td>\n",
       "      <td>1156</td>\n",
       "      <td>1093</td>\n",
       "      <td>23</td>\n",
       "      <td>69</td>\n",
       "      <td>4</td>\n",
       "      <td>120</td>\n",
       "      <td>10</td>\n",
       "      <td>43</td>\n",
       "      <td>NaN</td>\n",
       "      <td>2</td>\n",
       "    </tr>\n",
       "    <tr>\n",
       "      <th>top</th>\n",
       "      <td>Anthem Health Plans, Inc</td>\n",
       "      <td>NaN</td>\n",
       "      <td>06/21/2019</td>\n",
       "      <td>02/23/2022</td>\n",
       "      <td>Private Passenger</td>\n",
       "      <td>Liability</td>\n",
       "      <td>Claim Handling</td>\n",
       "      <td>Denial of Claim</td>\n",
       "      <td>Company Position Substantiated</td>\n",
       "      <td>Unjustified</td>\n",
       "      <td>NaN</td>\n",
       "      <td>Closed</td>\n",
       "    </tr>\n",
       "    <tr>\n",
       "      <th>freq</th>\n",
       "      <td>1251</td>\n",
       "      <td>NaN</td>\n",
       "      <td>58</td>\n",
       "      <td>92</td>\n",
       "      <td>3475</td>\n",
       "      <td>2201</td>\n",
       "      <td>8770</td>\n",
       "      <td>1916</td>\n",
       "      <td>4891</td>\n",
       "      <td>4604</td>\n",
       "      <td>NaN</td>\n",
       "      <td>11178</td>\n",
       "    </tr>\n",
       "    <tr>\n",
       "      <th>mean</th>\n",
       "      <td>NaN</td>\n",
       "      <td>7.017677e+06</td>\n",
       "      <td>NaN</td>\n",
       "      <td>NaN</td>\n",
       "      <td>NaN</td>\n",
       "      <td>NaN</td>\n",
       "      <td>NaN</td>\n",
       "      <td>NaN</td>\n",
       "      <td>NaN</td>\n",
       "      <td>NaN</td>\n",
       "      <td>985.167081</td>\n",
       "      <td>NaN</td>\n",
       "    </tr>\n",
       "    <tr>\n",
       "      <th>std</th>\n",
       "      <td>NaN</td>\n",
       "      <td>1.376488e+04</td>\n",
       "      <td>NaN</td>\n",
       "      <td>NaN</td>\n",
       "      <td>NaN</td>\n",
       "      <td>NaN</td>\n",
       "      <td>NaN</td>\n",
       "      <td>NaN</td>\n",
       "      <td>NaN</td>\n",
       "      <td>NaN</td>\n",
       "      <td>9247.913518</td>\n",
       "      <td>NaN</td>\n",
       "    </tr>\n",
       "    <tr>\n",
       "      <th>min</th>\n",
       "      <td>NaN</td>\n",
       "      <td>7.000002e+06</td>\n",
       "      <td>NaN</td>\n",
       "      <td>NaN</td>\n",
       "      <td>NaN</td>\n",
       "      <td>NaN</td>\n",
       "      <td>NaN</td>\n",
       "      <td>NaN</td>\n",
       "      <td>NaN</td>\n",
       "      <td>NaN</td>\n",
       "      <td>0.000000</td>\n",
       "      <td>NaN</td>\n",
       "    </tr>\n",
       "    <tr>\n",
       "      <th>25%</th>\n",
       "      <td>NaN</td>\n",
       "      <td>7.007318e+06</td>\n",
       "      <td>NaN</td>\n",
       "      <td>NaN</td>\n",
       "      <td>NaN</td>\n",
       "      <td>NaN</td>\n",
       "      <td>NaN</td>\n",
       "      <td>NaN</td>\n",
       "      <td>NaN</td>\n",
       "      <td>NaN</td>\n",
       "      <td>0.000000</td>\n",
       "      <td>NaN</td>\n",
       "    </tr>\n",
       "    <tr>\n",
       "      <th>50%</th>\n",
       "      <td>NaN</td>\n",
       "      <td>7.014266e+06</td>\n",
       "      <td>NaN</td>\n",
       "      <td>NaN</td>\n",
       "      <td>NaN</td>\n",
       "      <td>NaN</td>\n",
       "      <td>NaN</td>\n",
       "      <td>NaN</td>\n",
       "      <td>NaN</td>\n",
       "      <td>NaN</td>\n",
       "      <td>0.000000</td>\n",
       "      <td>NaN</td>\n",
       "    </tr>\n",
       "    <tr>\n",
       "      <th>75%</th>\n",
       "      <td>NaN</td>\n",
       "      <td>7.020789e+06</td>\n",
       "      <td>NaN</td>\n",
       "      <td>NaN</td>\n",
       "      <td>NaN</td>\n",
       "      <td>NaN</td>\n",
       "      <td>NaN</td>\n",
       "      <td>NaN</td>\n",
       "      <td>NaN</td>\n",
       "      <td>NaN</td>\n",
       "      <td>0.000000</td>\n",
       "      <td>NaN</td>\n",
       "    </tr>\n",
       "    <tr>\n",
       "      <th>max</th>\n",
       "      <td>NaN</td>\n",
       "      <td>7.045700e+06</td>\n",
       "      <td>NaN</td>\n",
       "      <td>NaN</td>\n",
       "      <td>NaN</td>\n",
       "      <td>NaN</td>\n",
       "      <td>NaN</td>\n",
       "      <td>NaN</td>\n",
       "      <td>NaN</td>\n",
       "      <td>NaN</td>\n",
       "      <td>311596.730000</td>\n",
       "      <td>NaN</td>\n",
       "    </tr>\n",
       "  </tbody>\n",
       "</table>\n",
       "</div>"
      ],
      "text/plain": [
       "                         Company      File No.      Opened      Closed  \\\n",
       "count                      11266  1.126600e+04       11266       11266   \n",
       "unique                       478           NaN        1156        1093   \n",
       "top     Anthem Health Plans, Inc           NaN  06/21/2019  02/23/2022   \n",
       "freq                        1251           NaN          58          92   \n",
       "mean                         NaN  7.017677e+06         NaN         NaN   \n",
       "std                          NaN  1.376488e+04         NaN         NaN   \n",
       "min                          NaN  7.000002e+06         NaN         NaN   \n",
       "25%                          NaN  7.007318e+06         NaN         NaN   \n",
       "50%                          NaN  7.014266e+06         NaN         NaN   \n",
       "75%                          NaN  7.020789e+06         NaN         NaN   \n",
       "max                          NaN  7.045700e+06         NaN         NaN   \n",
       "\n",
       "                 Coverage SubCoverage          Reason        SubReason  \\\n",
       "count               11266       11266           11266            11266   \n",
       "unique                 23          69               4              120   \n",
       "top     Private Passenger   Liability  Claim Handling  Denial of Claim   \n",
       "freq                 3475        2201            8770             1916   \n",
       "mean                  NaN         NaN             NaN              NaN   \n",
       "std                   NaN         NaN             NaN              NaN   \n",
       "min                   NaN         NaN             NaN              NaN   \n",
       "25%                   NaN         NaN             NaN              NaN   \n",
       "50%                   NaN         NaN             NaN              NaN   \n",
       "75%                   NaN         NaN             NaN              NaN   \n",
       "max                   NaN         NaN             NaN              NaN   \n",
       "\n",
       "                           Disposition   Conclusion       Recovery  Status  \n",
       "count                            11266        11266   11266.000000   11266  \n",
       "unique                              10           43            NaN       2  \n",
       "top     Company Position Substantiated  Unjustified            NaN  Closed  \n",
       "freq                              4891         4604            NaN   11178  \n",
       "mean                               NaN          NaN     985.167081     NaN  \n",
       "std                                NaN          NaN    9247.913518     NaN  \n",
       "min                                NaN          NaN       0.000000     NaN  \n",
       "25%                                NaN          NaN       0.000000     NaN  \n",
       "50%                                NaN          NaN       0.000000     NaN  \n",
       "75%                                NaN          NaN       0.000000     NaN  \n",
       "max                                NaN          NaN  311596.730000     NaN  "
      ]
     },
     "execution_count": 120,
     "metadata": {},
     "output_type": "execute_result"
    }
   ],
   "source": [
    "#Displaying the description of all columns\n",
    "df.describe(include = 'all')"
   ]
  },
  {
   "cell_type": "markdown",
   "metadata": {},
   "source": [
    "Inferences: \n",
    "\n",
    "The statistics of all the columns are displayed."
   ]
  },
  {
   "cell_type": "markdown",
   "metadata": {},
   "source": [
    "###### Displaying Complaints filed by Year"
   ]
  },
  {
   "cell_type": "code",
   "execution_count": 121,
   "metadata": {},
   "outputs": [],
   "source": [
    "df['Filed_Year']=pd.to_datetime(df['Opened']).dt.year\n",
    "df['Filed_Month']=pd.to_datetime(df['Opened']).dt.month\n",
    "df['Settled_Year']=pd.to_datetime(df['Closed']).dt.year\n",
    "df['Settled_Month']=pd.to_datetime(df['Closed']).dt.month"
   ]
  },
  {
   "cell_type": "code",
   "execution_count": 122,
   "metadata": {},
   "outputs": [
    {
     "data": {
      "text/plain": [
       "Text(0, 0.5, 'Count')"
      ]
     },
     "execution_count": 122,
     "metadata": {},
     "output_type": "execute_result"
    },
    {
     "data": {
      "image/png": "[encoded data removed]",
      "text/plain": [
       "<Figure size 1080x288 with 1 Axes>"
      ]
     },
     "metadata": {
      "needs_background": "light"
     },
     "output_type": "display_data"
    }
   ],
   "source": [
    "plt.figure(figsize=(15,4))\n",
    "sns.countplot(data=df, x=\"Filed_Year\")\n",
    "plt.title('Analysis of Consumer complaints Reported with respect to reported year')\n",
    "plt.xlabel('Year')\n",
    "plt.ylabel('Count')"
   ]
  },
  {
   "cell_type": "markdown",
   "metadata": {},
   "source": [
    "Inferences: \n",
    "\n",
    "2021, 2018 are the years with most consumer complaints reported."
   ]
  },
  {
   "cell_type": "markdown",
   "metadata": {},
   "source": [
    "###### Displaying Complaints filed by Month"
   ]
  },
  {
   "cell_type": "code",
   "execution_count": 123,
   "metadata": {},
   "outputs": [
    {
     "data": {
      "text/plain": [
       "Text(0, 0.5, 'Count')"
      ]
     },
     "execution_count": 123,
     "metadata": {},
     "output_type": "execute_result"
    },
    {
     "data": {
      "image/png": "[encoded data removed]",
      "text/plain": [
       "<Figure size 1080x288 with 1 Axes>"
      ]
     },
     "metadata": {
      "needs_background": "light"
     },
     "output_type": "display_data"
    }
   ],
   "source": [
    "plt.figure(figsize=(15,4))\n",
    "sns.countplot(data=df, x=\"Filed_Month\")\n",
    "plt.title('Analysis of Consumer complaints Reported with respect to reported Month')\n",
    "plt.xlabel('Month')\n",
    "plt.ylabel('Count')"
   ]
  },
  {
   "cell_type": "markdown",
   "metadata": {},
   "source": [
    "Inferences: \n",
    "\n",
    "January is month with most consumer complaints reported."
   ]
  },
  {
   "cell_type": "markdown",
   "metadata": {},
   "source": [
    "###### Displaying Complaints filed by Resolved Year"
   ]
  },
  {
   "cell_type": "code",
   "execution_count": 124,
   "metadata": {},
   "outputs": [
    {
     "data": {
      "text/plain": [
       "Text(0, 0.5, 'Count')"
      ]
     },
     "execution_count": 124,
     "metadata": {},
     "output_type": "execute_result"
    },
    {
     "data": {
      "image/png": "[encoded data removed]",
      "text/plain": [
       "<Figure size 1080x288 with 1 Axes>"
      ]
     },
     "metadata": {
      "needs_background": "light"
     },
     "output_type": "display_data"
    }
   ],
   "source": [
    "df['Settled_Year'] = df['Settled_Year'].astype(int)\n",
    "plt.figure(figsize=(15,4))\n",
    "sns.countplot(data=df, x=\"Settled_Year\")\n",
    "plt.title('Analysis of Consumer complaints Resolved with respect to Resolved year')\n",
    "plt.xlabel('Settled Year')\n",
    "plt.ylabel('Count')\n"
   ]
  },
  {
   "cell_type": "markdown",
   "metadata": {},
   "source": [
    "Inferences: \n",
    "\n",
    "2018, 2021 are the years with most consumer complaints settled/resolved."
   ]
  },
  {
   "cell_type": "markdown",
   "metadata": {},
   "source": [
    "###### Displaying Complaints filed by Resolved Month"
   ]
  },
  {
   "cell_type": "code",
   "execution_count": 125,
   "metadata": {},
   "outputs": [
    {
     "data": {
      "text/plain": [
       "Text(0, 0.5, 'Count')"
      ]
     },
     "execution_count": 125,
     "metadata": {},
     "output_type": "execute_result"
    },
    {
     "data": {
      "image/png": "[encoded data removed]",
      "text/plain": [
       "<Figure size 1080x288 with 1 Axes>"
      ]
     },
     "metadata": {
      "needs_background": "light"
     },
     "output_type": "display_data"
    }
   ],
   "source": [
    "df['Settled_Month'] = df['Settled_Month'].astype(int)\n",
    "plt.figure(figsize=(15,4))\n",
    "sns.countplot(data=df, x=\"Settled_Month\")\n",
    "plt.title('Analysis of Consumer complaints Resolved with respect to Resolved Month')\n",
    "plt.xlabel('Settled Month')\n",
    "plt.ylabel('Count')\n"
   ]
  },
  {
   "cell_type": "markdown",
   "metadata": {},
   "source": [
    "Inferences: \n",
    "\n",
    "March, January are the months with most consumer complaints resolved."
   ]
  },
  {
   "cell_type": "markdown",
   "metadata": {},
   "source": [
    "##### Plotting the bar garph for Coverage Type and its individual counts"
   ]
  },
  {
   "cell_type": "code",
   "execution_count": 126,
   "metadata": {},
   "outputs": [
    {
     "data": {
      "text/plain": [
       "Text(0, 0.5, 'Count')"
      ]
     },
     "execution_count": 126,
     "metadata": {},
     "output_type": "execute_result"
    },
    {
     "data": {
      "image/png": "[encoded data removed]",
      "text/plain": [
       "<Figure size 1296x432 with 1 Axes>"
      ]
     },
     "metadata": {
      "needs_background": "light"
     },
     "output_type": "display_data"
    }
   ],
   "source": [
    "plt.figure(figsize=(18,6))\n",
    "df['Coverage'].value_counts().plot(kind='bar', color='r')\n",
    "plt.title('Bar garph showing Variation of Coverage type')\n",
    "plt.xlabel('Coverage Type')\n",
    "plt.ylabel('Count')"
   ]
  },
  {
   "cell_type": "markdown",
   "metadata": {},
   "source": [
    "Inferences: \n",
    "\n",
    "Travel Insurances and Home insurances are the most sought after insurance policies."
   ]
  },
  {
   "cell_type": "markdown",
   "metadata": {},
   "source": [
    "##### Plotting the bar garph for Disposition Types"
   ]
  },
  {
   "cell_type": "code",
   "execution_count": 127,
   "metadata": {},
   "outputs": [
    {
     "data": {
      "text/plain": [
       "Text(0, 0.5, 'Count')"
      ]
     },
     "execution_count": 127,
     "metadata": {},
     "output_type": "execute_result"
    },
    {
     "data": {
      "image/png": "[encoded data removed]",
      "text/plain": [
       "<Figure size 648x432 with 1 Axes>"
      ]
     },
     "metadata": {
      "needs_background": "light"
     },
     "output_type": "display_data"
    }
   ],
   "source": [
    "plt.figure(figsize=(9,6))\n",
    "df['Disposition'].value_counts().plot(kind='bar', color='b')\n",
    "plt.title('Bar garph showing distrubution of Complaint Reasons')\n",
    "plt.xlabel('Disposition')\n",
    "plt.ylabel('Count')"
   ]
  },
  {
   "cell_type": "markdown",
   "metadata": {},
   "source": [
    "Inferences:\n",
    "    \n",
    "We can see that the disposition type Company Position Substantiated has the highest values in the dataset"
   ]
  },
  {
   "cell_type": "markdown",
   "metadata": {},
   "source": [
    "##### Plotting the bar garph for Claim Reasons"
   ]
  },
  {
   "cell_type": "code",
   "execution_count": 128,
   "metadata": {},
   "outputs": [
    {
     "data": {
      "text/plain": [
       "Text(0, 0.5, 'Count')"
      ]
     },
     "execution_count": 128,
     "metadata": {},
     "output_type": "execute_result"
    },
    {
     "data": {
      "image/png": "[encoded data removed]",
      "text/plain": [
       "<Figure size 648x432 with 1 Axes>"
      ]
     },
     "metadata": {
      "needs_background": "light"
     },
     "output_type": "display_data"
    }
   ],
   "source": [
    "plt.figure(figsize=(9,6))\n",
    "df['Reason'].value_counts().plot(kind='bar', color='g')\n",
    "plt.title('Bar garph showing distrubution of Complaint Reasons')\n",
    "plt.xlabel('Reason')\n",
    "plt.ylabel('Count')"
   ]
  },
  {
   "cell_type": "markdown",
   "metadata": {},
   "source": [
    "Inferences: \n",
    "\n",
    "The improper claim settlemets are the primary reason for complaint filings."
   ]
  },
  {
   "cell_type": "markdown",
   "metadata": {},
   "source": [
    "##### Depicting the reasons and their percent of share in complaint filings"
   ]
  },
  {
   "cell_type": "code",
   "execution_count": 129,
   "metadata": {},
   "outputs": [
    {
     "data": {
      "text/plain": [
       "Text(0.5, 1.0, 'Bar garph showing distrubution of Complaint Reasons')"
      ]
     },
     "execution_count": 129,
     "metadata": {},
     "output_type": "execute_result"
    },
    {
     "data": {
      "image/png": "[encoded data removed]",
      "text/plain": [
       "<Figure size 720x360 with 1 Axes>"
      ]
     },
     "metadata": {},
     "output_type": "display_data"
    }
   ],
   "source": [
    "status_counts=df.Reason.value_counts()\n",
    "plt.figure(figsize=(10,5))\n",
    "plt.pie(status_counts,labels=status_counts.index);\n",
    "plt.title('Bar garph showing distrubution of Complaint Reasons')\n"
   ]
  },
  {
   "cell_type": "markdown",
   "metadata": {},
   "source": [
    "Inferences: \n",
    "\n",
    "The improper claim settlemets are the primary reason for complaint filings."
   ]
  },
  {
   "cell_type": "markdown",
   "metadata": {},
   "source": [
    "##### Plottings the variation of Complaint status vs Filed Year."
   ]
  },
  {
   "cell_type": "code",
   "execution_count": 130,
   "metadata": {},
   "outputs": [
    {
     "data": {
      "text/plain": [
       "<seaborn.axisgrid.FacetGrid at 0x25363175908>"
      ]
     },
     "execution_count": 130,
     "metadata": {},
     "output_type": "execute_result"
    },
    {
     "data": {
      "image/png": "[encoded data removed]",
      "text/plain": [
       "<Figure size 720x360 with 2 Axes>"
      ]
     },
     "metadata": {
      "needs_background": "light"
     },
     "output_type": "display_data"
    }
   ],
   "source": [
    "sns.displot(df, x=\"Filed_Year\", col=\"Status\")\n"
   ]
  },
  {
   "cell_type": "markdown",
   "metadata": {},
   "source": [
    "Inferences: \n",
    "\n",
    "2021 is the year with most complaints filed and 2022 is the year with most of them resolved."
   ]
  },
  {
   "cell_type": "markdown",
   "metadata": {},
   "source": [
    "##### Plotting the variation in Reasons vs recovered amounts"
   ]
  },
  {
   "cell_type": "code",
   "execution_count": 131,
   "metadata": {},
   "outputs": [
    {
     "data": {
      "text/plain": [
       "Text(0.5, 1.0, 'Bar garph showing the variation in Reasons vs recovered amounts')"
      ]
     },
     "execution_count": 131,
     "metadata": {},
     "output_type": "execute_result"
    },
    {
     "data": {
      "image/png": "[encoded data removed]",
      "text/plain": [
       "<Figure size 432x288 with 1 Axes>"
      ]
     },
     "metadata": {
      "needs_background": "light"
     },
     "output_type": "display_data"
    }
   ],
   "source": [
    "sns.barplot(x='Recovery', y='Reason', data=df,\n",
    "            palette=['purple', 'steelblue'])\n",
    "plt.title('Bar garph showing the variation in Reasons vs recovered amounts')\n"
   ]
  },
  {
   "cell_type": "markdown",
   "metadata": {},
   "source": [
    "Inferences: \n",
    "\n",
    "Claim handling segment is the most highest segmnet with high recovery amounts then followed by complaints due to marketing and sales segments."
   ]
  },
  {
   "cell_type": "markdown",
   "metadata": {},
   "source": [
    "##### Graph showing the variations of Recovey Amounts with respect to Reported_Year"
   ]
  },
  {
   "cell_type": "code",
   "execution_count": 132,
   "metadata": {},
   "outputs": [
    {
     "data": {
      "image/png": "[encoded data removed]",
      "text/plain": [
       "<Figure size 1080x288 with 1 Axes>"
      ]
     },
     "metadata": {
      "needs_background": "light"
     },
     "output_type": "display_data"
    }
   ],
   "source": [
    "plt.figure(figsize=(15,4))\n",
    "sns.lineplot(x='Filed_Year',y='Recovery', data =df, color = 'b')\n",
    "plt.title(\"Graph showing the variations of Recovey Amounts with respect to Reported_Year\")\n",
    "plt.xlabel(\"Reported_Year\")\n",
    "plt.show()"
   ]
  },
  {
   "cell_type": "markdown",
   "metadata": {},
   "source": [
    "Inferences: \n",
    "\n",
    "2018 is the year with highest sum of claims recovered."
   ]
  },
  {
   "cell_type": "markdown",
   "metadata": {},
   "source": [
    "##### Graph showing the variations of Recovey Amounts with respect to Reported_Month"
   ]
  },
  {
   "cell_type": "code",
   "execution_count": 133,
   "metadata": {},
   "outputs": [
    {
     "data": {
      "image/png": "[encoded data removed]",
      "text/plain": [
       "<Figure size 1080x288 with 1 Axes>"
      ]
     },
     "metadata": {
      "needs_background": "light"
     },
     "output_type": "display_data"
    }
   ],
   "source": [
    "plt.figure(figsize=(15,4))\n",
    "sns.lineplot(x='Filed_Month',y='Recovery', data =df, color = 'b')\n",
    "plt.title(\"Graph showing the variations of Recovey Amounts with respect to Reported_Month\")\n",
    "plt.xlabel(\"Reported_Month\")\n",
    "plt.show()"
   ]
  },
  {
   "cell_type": "markdown",
   "metadata": {},
   "source": [
    "Inferences: \n",
    "\n",
    "February is the Month with highest sum of claims recovered."
   ]
  },
  {
   "cell_type": "markdown",
   "metadata": {},
   "source": [
    "##### Graph showing the distribution of Recovery amounts"
   ]
  },
  {
   "cell_type": "code",
   "execution_count": 134,
   "metadata": {},
   "outputs": [
    {
     "data": {
      "text/plain": [
       "Text(0.5, 1.0, 'Graph showing the distribution of Recovery amounts')"
      ]
     },
     "execution_count": 134,
     "metadata": {},
     "output_type": "execute_result"
    },
    {
     "data": {
      "image/png": "[encoded data removed]",
      "text/plain": [
       "<Figure size 432x288 with 1 Axes>"
      ]
     },
     "metadata": {
      "needs_background": "light"
     },
     "output_type": "display_data"
    }
   ],
   "source": [
    "sns.stripplot(x='Filed_Year',y='Recovery',data=df)\n",
    "plt.title('Graph showing the distribution of Recovery amounts')"
   ]
  },
  {
   "cell_type": "markdown",
   "metadata": {},
   "source": [
    "##### Graph showing the variation if compaint status vs Recovery amounts and Reason filed"
   ]
  },
  {
   "cell_type": "code",
   "execution_count": 135,
   "metadata": {},
   "outputs": [
    {
     "data": {
      "text/plain": [
       "<seaborn.axisgrid.FacetGrid at 0x253653aa348>"
      ]
     },
     "execution_count": 135,
     "metadata": {},
     "output_type": "execute_result"
    },
    {
     "data": {
      "image/png": "[encoded data removed]",
      "text/plain": [
       "<Figure size 1008x360 with 4 Axes>"
      ]
     },
     "metadata": {
      "needs_background": "light"
     },
     "output_type": "display_data"
    }
   ],
   "source": [
    "sns.catplot(x='Status',y='Recovery', col = 'Reason', data=df,kind='bar', aspect=.7, palette='Set2') "
   ]
  },
  {
   "cell_type": "markdown",
   "metadata": {},
   "source": [
    "Inferences: \n",
    "    \n",
    "We can see that the most of the compaints are resolved with the highest recovery amounts in Claim handling category."
   ]
  },
  {
   "cell_type": "code",
   "execution_count": 136,
   "metadata": {},
   "outputs": [],
   "source": [
    "# Removing columns that are not used in our analysis.\n",
    "df = df.drop('File No.', axis=1)\n",
    "df = df.drop('Opened', axis=1)\n",
    "df = df.drop('Closed', axis=1)"
   ]
  },
  {
   "cell_type": "markdown",
   "metadata": {},
   "source": [
    "##### Coorelation matrix"
   ]
  },
  {
   "cell_type": "code",
   "execution_count": 137,
   "metadata": {},
   "outputs": [
    {
     "data": {
      "text/plain": [
       "<matplotlib.axes._subplots.AxesSubplot at 0x253656a6a48>"
      ]
     },
     "execution_count": 137,
     "metadata": {},
     "output_type": "execute_result"
    },
    {
     "data": {
      "image/png": "[encoded data removed]",
      "text/plain": [
       "<Figure size 1296x648 with 2 Axes>"
      ]
     },
     "metadata": {
      "needs_background": "light"
     },
     "output_type": "display_data"
    }
   ],
   "source": [
    "plt.figure(figsize=(18,9))\n",
    "sns.heatmap(df.corr(),annot=True)"
   ]
  },
  {
   "cell_type": "code",
   "execution_count": 138,
   "metadata": {},
   "outputs": [],
   "source": [
    "df = df[df.Reason != '02/23/2022']\n",
    "df = df[df.Coverage != '02/23/2022']\n",
    "df = df[df.SubCoverage != '02/23/2022']\n",
    "df = df[df.Disposition != '02/23/2022']\n",
    "df = df[df.Conclusion != '02/23/2022']"
   ]
  },
  {
   "cell_type": "code",
   "execution_count": 139,
   "metadata": {},
   "outputs": [
    {
     "data": {
      "text/plain": [
       "['Anthem Health Plans, Inc',\n",
       " 'ConnectiCare Insurance Company, Inc',\n",
       " 'UnitedHealthcare Insurance Company',\n",
       " 'ConnectiCare Benefits, Inc.',\n",
       " 'Progressive Direct Insurance Company',\n",
       " 'Allstate Fire and Casualty Insurance Company',\n",
       " 'Cigna Health and Life Insurance Company',\n",
       " 'Progressive Casualty Insurance Company',\n",
       " 'State Farm Fire & Casualty Company',\n",
       " 'State Farm Mutual Automobile Insurance Company',\n",
       " 'Oxford Health Plans (CT), Inc',\n",
       " 'GEICO General Insurance Company',\n",
       " 'Transamerica Life Insurance Company',\n",
       " 'Allstate Insurance Company',\n",
       " 'SAFECO Insurance Company of Illinois',\n",
       " 'LM General Insurance Company',\n",
       " 'GEICO Indemnity Company',\n",
       " 'Brighthouse Life Insurance Company',\n",
       " 'ConnectiCare Inc',\n",
       " 'Travelers Home and Marine Insurance Company (The)',\n",
       " 'Genworth Life Insurance Company',\n",
       " 'American Commerce Insurance Company',\n",
       " 'Metropolitan Life Insurance Company',\n",
       " 'USAA Casualty Insurance Company',\n",
       " 'Standard Fire Insurance Company (The)']"
      ]
     },
     "execution_count": 139,
     "metadata": {},
     "output_type": "execute_result"
    }
   ],
   "source": [
    "df['Company'].value_counts()[:25].index.tolist()"
   ]
  },
  {
   "cell_type": "markdown",
   "metadata": {},
   "source": [
    "##### Data Cleaning : Removing unwanted data from the dataframe"
   ]
  },
  {
   "cell_type": "code",
   "execution_count": 140,
   "metadata": {},
   "outputs": [],
   "source": [
    "df=df[np.isin(df.Company, ['Anthem Health Plans, Inc',\n",
    " 'ConnectiCare Insurance Company, Inc',\n",
    " 'UnitedHealthcare Insurance Company',\n",
    " 'ConnectiCare Benefits, Inc.',\n",
    " 'Progressive Direct Insurance Company',\n",
    " 'Allstate Fire and Casualty Insurance Company',\n",
    " 'Cigna Health and Life Insurance Company',\n",
    " 'Progressive Casualty Insurance Company',\n",
    " 'State Farm Fire & Casualty Company',\n",
    " 'State Farm Mutual Automobile Insurance Company',\n",
    " 'Oxford Health Plans (CT), Inc',\n",
    " 'GEICO General Insurance Company',\n",
    " 'Transamerica Life Insurance Company',\n",
    " 'Allstate Insurance Company',\n",
    " 'SAFECO Insurance Company of Illinois',\n",
    " 'LM General Insurance Company',\n",
    " 'Brighthouse Life Insurance Company',\n",
    " 'GEICO Indemnity Company',\n",
    " 'ConnectiCare Inc',\n",
    " 'Travelers Home and Marine Insurance Company (The)',\n",
    " 'Genworth Life Insurance Company',\n",
    " 'American Commerce Insurance Company',\n",
    " 'Metropolitan Life Insurance Company',\n",
    " 'USAA Casualty Insurance Company',\n",
    " 'Standard Fire Insurance Company (The)'])]"
   ]
  },
  {
   "cell_type": "markdown",
   "metadata": {},
   "source": [
    "### Feature Engineering & Feature Selection "
   ]
  },
  {
   "cell_type": "markdown",
   "metadata": {},
   "source": [
    "##### Treating & Outliers Removal"
   ]
  },
  {
   "cell_type": "markdown",
   "metadata": {},
   "source": [
    "Outlier: A data point in a data set that is far from all other observations is known as an outlier.\n",
    "\n",
    "Outliers can be treated using \n",
    "\n",
    "1.Using boxplots\n",
    "\n",
    "2.Using scatter plots\n",
    "\n",
    "3.Using Z score\n",
    "\n",
    "4.Using the IQR interquartile range"
   ]
  },
  {
   "cell_type": "code",
   "execution_count": 141,
   "metadata": {},
   "outputs": [
    {
     "data": {
      "image/png": "[encoded data removed]",
      "text/plain": [
       "<Figure size 432x288 with 1 Axes>"
      ]
     },
     "metadata": {
      "needs_background": "light"
     },
     "output_type": "display_data"
    }
   ],
   "source": [
    "boxplot = df.boxplot()  "
   ]
  },
  {
   "cell_type": "markdown",
   "metadata": {},
   "source": [
    "Here, We employ IQR interquartile range method to detect outliers. The outliers can be seen in above box graph. IQR is the first quartile subtracted from the third quartile. Anything that lies above or below the IQR is an outlier"
   ]
  },
  {
   "cell_type": "code",
   "execution_count": 142,
   "metadata": {},
   "outputs": [],
   "source": [
    "Q1=df.quantile(0.25)\n",
    "Q3=df.quantile(0.75)\n",
    "IQR=Q3-Q1"
   ]
  },
  {
   "cell_type": "code",
   "execution_count": 143,
   "metadata": {},
   "outputs": [],
   "source": [
    "df = df[~((df < (Q1 - 1.5 * IQR)) |(df > (Q3 + 1.5 * IQR))).any(axis=1)]"
   ]
  },
  {
   "cell_type": "markdown",
   "metadata": {},
   "source": [
    "##### One-hot encoding"
   ]
  },
  {
   "cell_type": "markdown",
   "metadata": {},
   "source": [
    "One hot encoding, which improves predictions and classification accuracy of a model, is the crucial process of changing the categorical data variables into Numeric variables which are further fed to machine and deep learning algorithms."
   ]
  },
  {
   "cell_type": "code",
   "execution_count": 144,
   "metadata": {},
   "outputs": [
    {
     "data": {
      "text/html": [
       "<div>\n",
       "<style scoped>\n",
       "    .dataframe tbody tr th:only-of-type {\n",
       "        vertical-align: middle;\n",
       "    }\n",
       "\n",
       "    .dataframe tbody tr th {\n",
       "        vertical-align: top;\n",
       "    }\n",
       "\n",
       "    .dataframe thead th {\n",
       "        text-align: right;\n",
       "    }\n",
       "</style>\n",
       "<table border=\"1\" class=\"dataframe\">\n",
       "  <thead>\n",
       "    <tr style=\"text-align: right;\">\n",
       "      <th></th>\n",
       "      <th>Recovery</th>\n",
       "      <th>Status</th>\n",
       "      <th>Filed_Year</th>\n",
       "      <th>Filed_Month</th>\n",
       "      <th>Settled_Year</th>\n",
       "      <th>Settled_Month</th>\n",
       "      <th>Company_Allstate Insurance Company</th>\n",
       "      <th>Company_American Commerce Insurance Company</th>\n",
       "      <th>Company_Anthem Health Plans, Inc</th>\n",
       "      <th>Company_Brighthouse Life Insurance Company</th>\n",
       "      <th>...</th>\n",
       "      <th>Conclusion_Policy not written in CT</th>\n",
       "      <th>Conclusion_Questionable</th>\n",
       "      <th>Conclusion_Rate Increase Explained</th>\n",
       "      <th>Conclusion_Record Only</th>\n",
       "      <th>Conclusion_Refer To Appraisal</th>\n",
       "      <th>Conclusion_Refer-Judicial/Attorney</th>\n",
       "      <th>Conclusion_Satisfactory Explanation</th>\n",
       "      <th>Conclusion_Satisfied</th>\n",
       "      <th>Conclusion_Unjustified</th>\n",
       "      <th>Conclusion_Voluntary Reconsideration</th>\n",
       "    </tr>\n",
       "  </thead>\n",
       "  <tbody>\n",
       "    <tr>\n",
       "      <th>0</th>\n",
       "      <td>0.0</td>\n",
       "      <td>0</td>\n",
       "      <td>2018</td>\n",
       "      <td>7</td>\n",
       "      <td>2018</td>\n",
       "      <td>8</td>\n",
       "      <td>0</td>\n",
       "      <td>0</td>\n",
       "      <td>0</td>\n",
       "      <td>0</td>\n",
       "      <td>...</td>\n",
       "      <td>0</td>\n",
       "      <td>0</td>\n",
       "      <td>0</td>\n",
       "      <td>0</td>\n",
       "      <td>0</td>\n",
       "      <td>0</td>\n",
       "      <td>0</td>\n",
       "      <td>0</td>\n",
       "      <td>0</td>\n",
       "      <td>0</td>\n",
       "    </tr>\n",
       "    <tr>\n",
       "      <th>1</th>\n",
       "      <td>0.0</td>\n",
       "      <td>0</td>\n",
       "      <td>2019</td>\n",
       "      <td>2</td>\n",
       "      <td>2019</td>\n",
       "      <td>3</td>\n",
       "      <td>0</td>\n",
       "      <td>0</td>\n",
       "      <td>0</td>\n",
       "      <td>0</td>\n",
       "      <td>...</td>\n",
       "      <td>0</td>\n",
       "      <td>0</td>\n",
       "      <td>0</td>\n",
       "      <td>0</td>\n",
       "      <td>0</td>\n",
       "      <td>0</td>\n",
       "      <td>0</td>\n",
       "      <td>0</td>\n",
       "      <td>0</td>\n",
       "      <td>0</td>\n",
       "    </tr>\n",
       "    <tr>\n",
       "      <th>7</th>\n",
       "      <td>0.0</td>\n",
       "      <td>0</td>\n",
       "      <td>2019</td>\n",
       "      <td>1</td>\n",
       "      <td>2019</td>\n",
       "      <td>2</td>\n",
       "      <td>0</td>\n",
       "      <td>0</td>\n",
       "      <td>0</td>\n",
       "      <td>0</td>\n",
       "      <td>...</td>\n",
       "      <td>0</td>\n",
       "      <td>0</td>\n",
       "      <td>0</td>\n",
       "      <td>0</td>\n",
       "      <td>0</td>\n",
       "      <td>0</td>\n",
       "      <td>0</td>\n",
       "      <td>0</td>\n",
       "      <td>0</td>\n",
       "      <td>0</td>\n",
       "    </tr>\n",
       "    <tr>\n",
       "      <th>8</th>\n",
       "      <td>0.0</td>\n",
       "      <td>0</td>\n",
       "      <td>2018</td>\n",
       "      <td>8</td>\n",
       "      <td>2019</td>\n",
       "      <td>9</td>\n",
       "      <td>0</td>\n",
       "      <td>0</td>\n",
       "      <td>0</td>\n",
       "      <td>0</td>\n",
       "      <td>...</td>\n",
       "      <td>0</td>\n",
       "      <td>0</td>\n",
       "      <td>0</td>\n",
       "      <td>0</td>\n",
       "      <td>0</td>\n",
       "      <td>0</td>\n",
       "      <td>0</td>\n",
       "      <td>0</td>\n",
       "      <td>0</td>\n",
       "      <td>0</td>\n",
       "    </tr>\n",
       "    <tr>\n",
       "      <th>9</th>\n",
       "      <td>0.0</td>\n",
       "      <td>0</td>\n",
       "      <td>2019</td>\n",
       "      <td>11</td>\n",
       "      <td>2019</td>\n",
       "      <td>12</td>\n",
       "      <td>0</td>\n",
       "      <td>0</td>\n",
       "      <td>0</td>\n",
       "      <td>0</td>\n",
       "      <td>...</td>\n",
       "      <td>0</td>\n",
       "      <td>0</td>\n",
       "      <td>0</td>\n",
       "      <td>0</td>\n",
       "      <td>0</td>\n",
       "      <td>0</td>\n",
       "      <td>0</td>\n",
       "      <td>0</td>\n",
       "      <td>0</td>\n",
       "      <td>0</td>\n",
       "    </tr>\n",
       "    <tr>\n",
       "      <th>...</th>\n",
       "      <td>...</td>\n",
       "      <td>...</td>\n",
       "      <td>...</td>\n",
       "      <td>...</td>\n",
       "      <td>...</td>\n",
       "      <td>...</td>\n",
       "      <td>...</td>\n",
       "      <td>...</td>\n",
       "      <td>...</td>\n",
       "      <td>...</td>\n",
       "      <td>...</td>\n",
       "      <td>...</td>\n",
       "      <td>...</td>\n",
       "      <td>...</td>\n",
       "      <td>...</td>\n",
       "      <td>...</td>\n",
       "      <td>...</td>\n",
       "      <td>...</td>\n",
       "      <td>...</td>\n",
       "      <td>...</td>\n",
       "      <td>...</td>\n",
       "    </tr>\n",
       "    <tr>\n",
       "      <th>24793</th>\n",
       "      <td>0.0</td>\n",
       "      <td>0</td>\n",
       "      <td>2022</td>\n",
       "      <td>6</td>\n",
       "      <td>2022</td>\n",
       "      <td>6</td>\n",
       "      <td>0</td>\n",
       "      <td>0</td>\n",
       "      <td>0</td>\n",
       "      <td>0</td>\n",
       "      <td>...</td>\n",
       "      <td>0</td>\n",
       "      <td>0</td>\n",
       "      <td>0</td>\n",
       "      <td>0</td>\n",
       "      <td>0</td>\n",
       "      <td>0</td>\n",
       "      <td>0</td>\n",
       "      <td>0</td>\n",
       "      <td>0</td>\n",
       "      <td>0</td>\n",
       "    </tr>\n",
       "    <tr>\n",
       "      <th>24814</th>\n",
       "      <td>0.0</td>\n",
       "      <td>0</td>\n",
       "      <td>2022</td>\n",
       "      <td>6</td>\n",
       "      <td>2022</td>\n",
       "      <td>6</td>\n",
       "      <td>0</td>\n",
       "      <td>0</td>\n",
       "      <td>0</td>\n",
       "      <td>0</td>\n",
       "      <td>...</td>\n",
       "      <td>0</td>\n",
       "      <td>0</td>\n",
       "      <td>0</td>\n",
       "      <td>0</td>\n",
       "      <td>0</td>\n",
       "      <td>0</td>\n",
       "      <td>0</td>\n",
       "      <td>0</td>\n",
       "      <td>0</td>\n",
       "      <td>0</td>\n",
       "    </tr>\n",
       "    <tr>\n",
       "      <th>24821</th>\n",
       "      <td>0.0</td>\n",
       "      <td>0</td>\n",
       "      <td>2022</td>\n",
       "      <td>6</td>\n",
       "      <td>2022</td>\n",
       "      <td>6</td>\n",
       "      <td>0</td>\n",
       "      <td>0</td>\n",
       "      <td>1</td>\n",
       "      <td>0</td>\n",
       "      <td>...</td>\n",
       "      <td>0</td>\n",
       "      <td>0</td>\n",
       "      <td>0</td>\n",
       "      <td>0</td>\n",
       "      <td>0</td>\n",
       "      <td>0</td>\n",
       "      <td>0</td>\n",
       "      <td>0</td>\n",
       "      <td>0</td>\n",
       "      <td>0</td>\n",
       "    </tr>\n",
       "    <tr>\n",
       "      <th>24822</th>\n",
       "      <td>0.0</td>\n",
       "      <td>0</td>\n",
       "      <td>2022</td>\n",
       "      <td>4</td>\n",
       "      <td>2022</td>\n",
       "      <td>6</td>\n",
       "      <td>0</td>\n",
       "      <td>0</td>\n",
       "      <td>1</td>\n",
       "      <td>0</td>\n",
       "      <td>...</td>\n",
       "      <td>0</td>\n",
       "      <td>0</td>\n",
       "      <td>0</td>\n",
       "      <td>0</td>\n",
       "      <td>0</td>\n",
       "      <td>0</td>\n",
       "      <td>0</td>\n",
       "      <td>0</td>\n",
       "      <td>0</td>\n",
       "      <td>0</td>\n",
       "    </tr>\n",
       "    <tr>\n",
       "      <th>24833</th>\n",
       "      <td>0.0</td>\n",
       "      <td>0</td>\n",
       "      <td>2022</td>\n",
       "      <td>6</td>\n",
       "      <td>2022</td>\n",
       "      <td>6</td>\n",
       "      <td>0</td>\n",
       "      <td>0</td>\n",
       "      <td>1</td>\n",
       "      <td>0</td>\n",
       "      <td>...</td>\n",
       "      <td>0</td>\n",
       "      <td>0</td>\n",
       "      <td>0</td>\n",
       "      <td>0</td>\n",
       "      <td>0</td>\n",
       "      <td>0</td>\n",
       "      <td>0</td>\n",
       "      <td>0</td>\n",
       "      <td>0</td>\n",
       "      <td>0</td>\n",
       "    </tr>\n",
       "  </tbody>\n",
       "</table>\n",
       "<p>4889 rows × 236 columns</p>\n",
       "</div>"
      ],
      "text/plain": [
       "       Recovery  Status  Filed_Year  Filed_Month  Settled_Year  Settled_Month  \\\n",
       "0           0.0       0        2018            7          2018              8   \n",
       "1           0.0       0        2019            2          2019              3   \n",
       "7           0.0       0        2019            1          2019              2   \n",
       "8           0.0       0        2018            8          2019              9   \n",
       "9           0.0       0        2019           11          2019             12   \n",
       "...         ...     ...         ...          ...           ...            ...   \n",
       "24793       0.0       0        2022            6          2022              6   \n",
       "24814       0.0       0        2022            6          2022              6   \n",
       "24821       0.0       0        2022            6          2022              6   \n",
       "24822       0.0       0        2022            4          2022              6   \n",
       "24833       0.0       0        2022            6          2022              6   \n",
       "\n",
       "       Company_Allstate Insurance Company  \\\n",
       "0                                       0   \n",
       "1                                       0   \n",
       "7                                       0   \n",
       "8                                       0   \n",
       "9                                       0   \n",
       "...                                   ...   \n",
       "24793                                   0   \n",
       "24814                                   0   \n",
       "24821                                   0   \n",
       "24822                                   0   \n",
       "24833                                   0   \n",
       "\n",
       "       Company_American Commerce Insurance Company  \\\n",
       "0                                                0   \n",
       "1                                                0   \n",
       "7                                                0   \n",
       "8                                                0   \n",
       "9                                                0   \n",
       "...                                            ...   \n",
       "24793                                            0   \n",
       "24814                                            0   \n",
       "24821                                            0   \n",
       "24822                                            0   \n",
       "24833                                            0   \n",
       "\n",
       "       Company_Anthem Health Plans, Inc  \\\n",
       "0                                     0   \n",
       "1                                     0   \n",
       "7                                     0   \n",
       "8                                     0   \n",
       "9                                     0   \n",
       "...                                 ...   \n",
       "24793                                 0   \n",
       "24814                                 0   \n",
       "24821                                 1   \n",
       "24822                                 1   \n",
       "24833                                 1   \n",
       "\n",
       "       Company_Brighthouse Life Insurance Company  ...  \\\n",
       "0                                               0  ...   \n",
       "1                                               0  ...   \n",
       "7                                               0  ...   \n",
       "8                                               0  ...   \n",
       "9                                               0  ...   \n",
       "...                                           ...  ...   \n",
       "24793                                           0  ...   \n",
       "24814                                           0  ...   \n",
       "24821                                           0  ...   \n",
       "24822                                           0  ...   \n",
       "24833                                           0  ...   \n",
       "\n",
       "       Conclusion_Policy not written in CT  Conclusion_Questionable  \\\n",
       "0                                        0                        0   \n",
       "1                                        0                        0   \n",
       "7                                        0                        0   \n",
       "8                                        0                        0   \n",
       "9                                        0                        0   \n",
       "...                                    ...                      ...   \n",
       "24793                                    0                        0   \n",
       "24814                                    0                        0   \n",
       "24821                                    0                        0   \n",
       "24822                                    0                        0   \n",
       "24833                                    0                        0   \n",
       "\n",
       "       Conclusion_Rate Increase Explained  Conclusion_Record Only  \\\n",
       "0                                       0                       0   \n",
       "1                                       0                       0   \n",
       "7                                       0                       0   \n",
       "8                                       0                       0   \n",
       "9                                       0                       0   \n",
       "...                                   ...                     ...   \n",
       "24793                                   0                       0   \n",
       "24814                                   0                       0   \n",
       "24821                                   0                       0   \n",
       "24822                                   0                       0   \n",
       "24833                                   0                       0   \n",
       "\n",
       "       Conclusion_Refer To Appraisal  Conclusion_Refer-Judicial/Attorney  \\\n",
       "0                                  0                                   0   \n",
       "1                                  0                                   0   \n",
       "7                                  0                                   0   \n",
       "8                                  0                                   0   \n",
       "9                                  0                                   0   \n",
       "...                              ...                                 ...   \n",
       "24793                              0                                   0   \n",
       "24814                              0                                   0   \n",
       "24821                              0                                   0   \n",
       "24822                              0                                   0   \n",
       "24833                              0                                   0   \n",
       "\n",
       "       Conclusion_Satisfactory Explanation  Conclusion_Satisfied  \\\n",
       "0                                        0                     0   \n",
       "1                                        0                     0   \n",
       "7                                        0                     0   \n",
       "8                                        0                     0   \n",
       "9                                        0                     0   \n",
       "...                                    ...                   ...   \n",
       "24793                                    0                     0   \n",
       "24814                                    0                     0   \n",
       "24821                                    0                     0   \n",
       "24822                                    0                     0   \n",
       "24833                                    0                     0   \n",
       "\n",
       "       Conclusion_Unjustified  Conclusion_Voluntary Reconsideration  \n",
       "0                           0                                     0  \n",
       "1                           0                                     0  \n",
       "7                           0                                     0  \n",
       "8                           0                                     0  \n",
       "9                           0                                     0  \n",
       "...                       ...                                   ...  \n",
       "24793                       0                                     0  \n",
       "24814                       0                                     0  \n",
       "24821                       0                                     0  \n",
       "24822                       0                                     0  \n",
       "24833                       0                                     0  \n",
       "\n",
       "[4889 rows x 236 columns]"
      ]
     },
     "execution_count": 144,
     "metadata": {},
     "output_type": "execute_result"
    }
   ],
   "source": [
    "df['Status'] = df['Status'].map({'Open/Pending':1, 'Closed':0})\n",
    "df = pd.get_dummies(df, drop_first=True)\n",
    "df"
   ]
  },
  {
   "cell_type": "markdown",
   "metadata": {},
   "source": [
    "##### Feature scaling"
   ]
  },
  {
   "cell_type": "markdown",
   "metadata": {},
   "source": [
    "Feature Scaling is primarily used because to reduce the variance effect and to overcome the fitting problem. There are two types of feature scaling techniques. \n",
    "\n",
    "1. Standardization\n",
    "\n",
    "\n",
    "2. Normalisation\n",
    "\n",
    "In standardization, the mean of the features is 0 and the standard deviation is 1."
   ]
  },
  {
   "cell_type": "code",
   "execution_count": 145,
   "metadata": {},
   "outputs": [],
   "source": [
    "from sklearn import preprocessing\n",
    "scaling=preprocessing.StandardScaler()\n",
    "df1=scaling.fit_transform(df)"
   ]
  },
  {
   "cell_type": "code",
   "execution_count": 146,
   "metadata": {},
   "outputs": [
    {
     "data": {
      "text/plain": [
       "Index(['Recovery', 'Status', 'Filed_Year', 'Filed_Month', 'Settled_Year',\n",
       "       'Settled_Month', 'Company_Allstate Insurance Company',\n",
       "       'Company_American Commerce Insurance Company',\n",
       "       'Company_Anthem Health Plans, Inc',\n",
       "       'Company_Brighthouse Life Insurance Company',\n",
       "       ...\n",
       "       'Conclusion_Policy not written in CT', 'Conclusion_Questionable',\n",
       "       'Conclusion_Rate Increase Explained', 'Conclusion_Record Only',\n",
       "       'Conclusion_Refer To Appraisal', 'Conclusion_Refer-Judicial/Attorney',\n",
       "       'Conclusion_Satisfactory Explanation', 'Conclusion_Satisfied',\n",
       "       'Conclusion_Unjustified', 'Conclusion_Voluntary Reconsideration'],\n",
       "      dtype='object', length=236)"
      ]
     },
     "execution_count": 146,
     "metadata": {},
     "output_type": "execute_result"
    }
   ],
   "source": [
    "df_col=df.columns\n",
    "df_col"
   ]
  },
  {
   "cell_type": "code",
   "execution_count": 147,
   "metadata": {},
   "outputs": [
    {
     "data": {
      "text/html": [
       "<div>\n",
       "<style scoped>\n",
       "    .dataframe tbody tr th:only-of-type {\n",
       "        vertical-align: middle;\n",
       "    }\n",
       "\n",
       "    .dataframe tbody tr th {\n",
       "        vertical-align: top;\n",
       "    }\n",
       "\n",
       "    .dataframe thead th {\n",
       "        text-align: right;\n",
       "    }\n",
       "</style>\n",
       "<table border=\"1\" class=\"dataframe\">\n",
       "  <thead>\n",
       "    <tr style=\"text-align: right;\">\n",
       "      <th></th>\n",
       "      <th>Recovery</th>\n",
       "      <th>Status</th>\n",
       "      <th>Filed_Year</th>\n",
       "      <th>Filed_Month</th>\n",
       "      <th>Settled_Year</th>\n",
       "      <th>Settled_Month</th>\n",
       "      <th>Company_Allstate Insurance Company</th>\n",
       "      <th>Company_American Commerce Insurance Company</th>\n",
       "      <th>Company_Anthem Health Plans, Inc</th>\n",
       "      <th>Company_Brighthouse Life Insurance Company</th>\n",
       "      <th>...</th>\n",
       "      <th>Conclusion_Policy not written in CT</th>\n",
       "      <th>Conclusion_Questionable</th>\n",
       "      <th>Conclusion_Rate Increase Explained</th>\n",
       "      <th>Conclusion_Record Only</th>\n",
       "      <th>Conclusion_Refer To Appraisal</th>\n",
       "      <th>Conclusion_Refer-Judicial/Attorney</th>\n",
       "      <th>Conclusion_Satisfactory Explanation</th>\n",
       "      <th>Conclusion_Satisfied</th>\n",
       "      <th>Conclusion_Unjustified</th>\n",
       "      <th>Conclusion_Voluntary Reconsideration</th>\n",
       "    </tr>\n",
       "  </thead>\n",
       "  <tbody>\n",
       "    <tr>\n",
       "      <th>0</th>\n",
       "      <td>0.0</td>\n",
       "      <td>0</td>\n",
       "      <td>2018</td>\n",
       "      <td>7</td>\n",
       "      <td>2018</td>\n",
       "      <td>8</td>\n",
       "      <td>0</td>\n",
       "      <td>0</td>\n",
       "      <td>0</td>\n",
       "      <td>0</td>\n",
       "      <td>...</td>\n",
       "      <td>0</td>\n",
       "      <td>0</td>\n",
       "      <td>0</td>\n",
       "      <td>0</td>\n",
       "      <td>0</td>\n",
       "      <td>0</td>\n",
       "      <td>0</td>\n",
       "      <td>0</td>\n",
       "      <td>0</td>\n",
       "      <td>0</td>\n",
       "    </tr>\n",
       "    <tr>\n",
       "      <th>1</th>\n",
       "      <td>0.0</td>\n",
       "      <td>0</td>\n",
       "      <td>2019</td>\n",
       "      <td>2</td>\n",
       "      <td>2019</td>\n",
       "      <td>3</td>\n",
       "      <td>0</td>\n",
       "      <td>0</td>\n",
       "      <td>0</td>\n",
       "      <td>0</td>\n",
       "      <td>...</td>\n",
       "      <td>0</td>\n",
       "      <td>0</td>\n",
       "      <td>0</td>\n",
       "      <td>0</td>\n",
       "      <td>0</td>\n",
       "      <td>0</td>\n",
       "      <td>0</td>\n",
       "      <td>0</td>\n",
       "      <td>0</td>\n",
       "      <td>0</td>\n",
       "    </tr>\n",
       "    <tr>\n",
       "      <th>7</th>\n",
       "      <td>0.0</td>\n",
       "      <td>0</td>\n",
       "      <td>2019</td>\n",
       "      <td>1</td>\n",
       "      <td>2019</td>\n",
       "      <td>2</td>\n",
       "      <td>0</td>\n",
       "      <td>0</td>\n",
       "      <td>0</td>\n",
       "      <td>0</td>\n",
       "      <td>...</td>\n",
       "      <td>0</td>\n",
       "      <td>0</td>\n",
       "      <td>0</td>\n",
       "      <td>0</td>\n",
       "      <td>0</td>\n",
       "      <td>0</td>\n",
       "      <td>0</td>\n",
       "      <td>0</td>\n",
       "      <td>0</td>\n",
       "      <td>0</td>\n",
       "    </tr>\n",
       "    <tr>\n",
       "      <th>8</th>\n",
       "      <td>0.0</td>\n",
       "      <td>0</td>\n",
       "      <td>2018</td>\n",
       "      <td>8</td>\n",
       "      <td>2019</td>\n",
       "      <td>9</td>\n",
       "      <td>0</td>\n",
       "      <td>0</td>\n",
       "      <td>0</td>\n",
       "      <td>0</td>\n",
       "      <td>...</td>\n",
       "      <td>0</td>\n",
       "      <td>0</td>\n",
       "      <td>0</td>\n",
       "      <td>0</td>\n",
       "      <td>0</td>\n",
       "      <td>0</td>\n",
       "      <td>0</td>\n",
       "      <td>0</td>\n",
       "      <td>0</td>\n",
       "      <td>0</td>\n",
       "    </tr>\n",
       "    <tr>\n",
       "      <th>9</th>\n",
       "      <td>0.0</td>\n",
       "      <td>0</td>\n",
       "      <td>2019</td>\n",
       "      <td>11</td>\n",
       "      <td>2019</td>\n",
       "      <td>12</td>\n",
       "      <td>0</td>\n",
       "      <td>0</td>\n",
       "      <td>0</td>\n",
       "      <td>0</td>\n",
       "      <td>...</td>\n",
       "      <td>0</td>\n",
       "      <td>0</td>\n",
       "      <td>0</td>\n",
       "      <td>0</td>\n",
       "      <td>0</td>\n",
       "      <td>0</td>\n",
       "      <td>0</td>\n",
       "      <td>0</td>\n",
       "      <td>0</td>\n",
       "      <td>0</td>\n",
       "    </tr>\n",
       "    <tr>\n",
       "      <th>...</th>\n",
       "      <td>...</td>\n",
       "      <td>...</td>\n",
       "      <td>...</td>\n",
       "      <td>...</td>\n",
       "      <td>...</td>\n",
       "      <td>...</td>\n",
       "      <td>...</td>\n",
       "      <td>...</td>\n",
       "      <td>...</td>\n",
       "      <td>...</td>\n",
       "      <td>...</td>\n",
       "      <td>...</td>\n",
       "      <td>...</td>\n",
       "      <td>...</td>\n",
       "      <td>...</td>\n",
       "      <td>...</td>\n",
       "      <td>...</td>\n",
       "      <td>...</td>\n",
       "      <td>...</td>\n",
       "      <td>...</td>\n",
       "      <td>...</td>\n",
       "    </tr>\n",
       "    <tr>\n",
       "      <th>24793</th>\n",
       "      <td>0.0</td>\n",
       "      <td>0</td>\n",
       "      <td>2022</td>\n",
       "      <td>6</td>\n",
       "      <td>2022</td>\n",
       "      <td>6</td>\n",
       "      <td>0</td>\n",
       "      <td>0</td>\n",
       "      <td>0</td>\n",
       "      <td>0</td>\n",
       "      <td>...</td>\n",
       "      <td>0</td>\n",
       "      <td>0</td>\n",
       "      <td>0</td>\n",
       "      <td>0</td>\n",
       "      <td>0</td>\n",
       "      <td>0</td>\n",
       "      <td>0</td>\n",
       "      <td>0</td>\n",
       "      <td>0</td>\n",
       "      <td>0</td>\n",
       "    </tr>\n",
       "    <tr>\n",
       "      <th>24814</th>\n",
       "      <td>0.0</td>\n",
       "      <td>0</td>\n",
       "      <td>2022</td>\n",
       "      <td>6</td>\n",
       "      <td>2022</td>\n",
       "      <td>6</td>\n",
       "      <td>0</td>\n",
       "      <td>0</td>\n",
       "      <td>0</td>\n",
       "      <td>0</td>\n",
       "      <td>...</td>\n",
       "      <td>0</td>\n",
       "      <td>0</td>\n",
       "      <td>0</td>\n",
       "      <td>0</td>\n",
       "      <td>0</td>\n",
       "      <td>0</td>\n",
       "      <td>0</td>\n",
       "      <td>0</td>\n",
       "      <td>0</td>\n",
       "      <td>0</td>\n",
       "    </tr>\n",
       "    <tr>\n",
       "      <th>24821</th>\n",
       "      <td>0.0</td>\n",
       "      <td>0</td>\n",
       "      <td>2022</td>\n",
       "      <td>6</td>\n",
       "      <td>2022</td>\n",
       "      <td>6</td>\n",
       "      <td>0</td>\n",
       "      <td>0</td>\n",
       "      <td>1</td>\n",
       "      <td>0</td>\n",
       "      <td>...</td>\n",
       "      <td>0</td>\n",
       "      <td>0</td>\n",
       "      <td>0</td>\n",
       "      <td>0</td>\n",
       "      <td>0</td>\n",
       "      <td>0</td>\n",
       "      <td>0</td>\n",
       "      <td>0</td>\n",
       "      <td>0</td>\n",
       "      <td>0</td>\n",
       "    </tr>\n",
       "    <tr>\n",
       "      <th>24822</th>\n",
       "      <td>0.0</td>\n",
       "      <td>0</td>\n",
       "      <td>2022</td>\n",
       "      <td>4</td>\n",
       "      <td>2022</td>\n",
       "      <td>6</td>\n",
       "      <td>0</td>\n",
       "      <td>0</td>\n",
       "      <td>1</td>\n",
       "      <td>0</td>\n",
       "      <td>...</td>\n",
       "      <td>0</td>\n",
       "      <td>0</td>\n",
       "      <td>0</td>\n",
       "      <td>0</td>\n",
       "      <td>0</td>\n",
       "      <td>0</td>\n",
       "      <td>0</td>\n",
       "      <td>0</td>\n",
       "      <td>0</td>\n",
       "      <td>0</td>\n",
       "    </tr>\n",
       "    <tr>\n",
       "      <th>24833</th>\n",
       "      <td>0.0</td>\n",
       "      <td>0</td>\n",
       "      <td>2022</td>\n",
       "      <td>6</td>\n",
       "      <td>2022</td>\n",
       "      <td>6</td>\n",
       "      <td>0</td>\n",
       "      <td>0</td>\n",
       "      <td>1</td>\n",
       "      <td>0</td>\n",
       "      <td>...</td>\n",
       "      <td>0</td>\n",
       "      <td>0</td>\n",
       "      <td>0</td>\n",
       "      <td>0</td>\n",
       "      <td>0</td>\n",
       "      <td>0</td>\n",
       "      <td>0</td>\n",
       "      <td>0</td>\n",
       "      <td>0</td>\n",
       "      <td>0</td>\n",
       "    </tr>\n",
       "  </tbody>\n",
       "</table>\n",
       "<p>4889 rows × 236 columns</p>\n",
       "</div>"
      ],
      "text/plain": [
       "       Recovery  Status  Filed_Year  Filed_Month  Settled_Year  Settled_Month  \\\n",
       "0           0.0       0        2018            7          2018              8   \n",
       "1           0.0       0        2019            2          2019              3   \n",
       "7           0.0       0        2019            1          2019              2   \n",
       "8           0.0       0        2018            8          2019              9   \n",
       "9           0.0       0        2019           11          2019             12   \n",
       "...         ...     ...         ...          ...           ...            ...   \n",
       "24793       0.0       0        2022            6          2022              6   \n",
       "24814       0.0       0        2022            6          2022              6   \n",
       "24821       0.0       0        2022            6          2022              6   \n",
       "24822       0.0       0        2022            4          2022              6   \n",
       "24833       0.0       0        2022            6          2022              6   \n",
       "\n",
       "       Company_Allstate Insurance Company  \\\n",
       "0                                       0   \n",
       "1                                       0   \n",
       "7                                       0   \n",
       "8                                       0   \n",
       "9                                       0   \n",
       "...                                   ...   \n",
       "24793                                   0   \n",
       "24814                                   0   \n",
       "24821                                   0   \n",
       "24822                                   0   \n",
       "24833                                   0   \n",
       "\n",
       "       Company_American Commerce Insurance Company  \\\n",
       "0                                                0   \n",
       "1                                                0   \n",
       "7                                                0   \n",
       "8                                                0   \n",
       "9                                                0   \n",
       "...                                            ...   \n",
       "24793                                            0   \n",
       "24814                                            0   \n",
       "24821                                            0   \n",
       "24822                                            0   \n",
       "24833                                            0   \n",
       "\n",
       "       Company_Anthem Health Plans, Inc  \\\n",
       "0                                     0   \n",
       "1                                     0   \n",
       "7                                     0   \n",
       "8                                     0   \n",
       "9                                     0   \n",
       "...                                 ...   \n",
       "24793                                 0   \n",
       "24814                                 0   \n",
       "24821                                 1   \n",
       "24822                                 1   \n",
       "24833                                 1   \n",
       "\n",
       "       Company_Brighthouse Life Insurance Company  ...  \\\n",
       "0                                               0  ...   \n",
       "1                                               0  ...   \n",
       "7                                               0  ...   \n",
       "8                                               0  ...   \n",
       "9                                               0  ...   \n",
       "...                                           ...  ...   \n",
       "24793                                           0  ...   \n",
       "24814                                           0  ...   \n",
       "24821                                           0  ...   \n",
       "24822                                           0  ...   \n",
       "24833                                           0  ...   \n",
       "\n",
       "       Conclusion_Policy not written in CT  Conclusion_Questionable  \\\n",
       "0                                        0                        0   \n",
       "1                                        0                        0   \n",
       "7                                        0                        0   \n",
       "8                                        0                        0   \n",
       "9                                        0                        0   \n",
       "...                                    ...                      ...   \n",
       "24793                                    0                        0   \n",
       "24814                                    0                        0   \n",
       "24821                                    0                        0   \n",
       "24822                                    0                        0   \n",
       "24833                                    0                        0   \n",
       "\n",
       "       Conclusion_Rate Increase Explained  Conclusion_Record Only  \\\n",
       "0                                       0                       0   \n",
       "1                                       0                       0   \n",
       "7                                       0                       0   \n",
       "8                                       0                       0   \n",
       "9                                       0                       0   \n",
       "...                                   ...                     ...   \n",
       "24793                                   0                       0   \n",
       "24814                                   0                       0   \n",
       "24821                                   0                       0   \n",
       "24822                                   0                       0   \n",
       "24833                                   0                       0   \n",
       "\n",
       "       Conclusion_Refer To Appraisal  Conclusion_Refer-Judicial/Attorney  \\\n",
       "0                                  0                                   0   \n",
       "1                                  0                                   0   \n",
       "7                                  0                                   0   \n",
       "8                                  0                                   0   \n",
       "9                                  0                                   0   \n",
       "...                              ...                                 ...   \n",
       "24793                              0                                   0   \n",
       "24814                              0                                   0   \n",
       "24821                              0                                   0   \n",
       "24822                              0                                   0   \n",
       "24833                              0                                   0   \n",
       "\n",
       "       Conclusion_Satisfactory Explanation  Conclusion_Satisfied  \\\n",
       "0                                        0                     0   \n",
       "1                                        0                     0   \n",
       "7                                        0                     0   \n",
       "8                                        0                     0   \n",
       "9                                        0                     0   \n",
       "...                                    ...                   ...   \n",
       "24793                                    0                     0   \n",
       "24814                                    0                     0   \n",
       "24821                                    0                     0   \n",
       "24822                                    0                     0   \n",
       "24833                                    0                     0   \n",
       "\n",
       "       Conclusion_Unjustified  Conclusion_Voluntary Reconsideration  \n",
       "0                           0                                     0  \n",
       "1                           0                                     0  \n",
       "7                           0                                     0  \n",
       "8                           0                                     0  \n",
       "9                           0                                     0  \n",
       "...                       ...                                   ...  \n",
       "24793                       0                                     0  \n",
       "24814                       0                                     0  \n",
       "24821                       0                                     0  \n",
       "24822                       0                                     0  \n",
       "24833                       0                                     0  \n",
       "\n",
       "[4889 rows x 236 columns]"
      ]
     },
     "execution_count": 147,
     "metadata": {},
     "output_type": "execute_result"
    }
   ],
   "source": [
    "df1=pd.DataFrame(df, columns=df_col)\n",
    "df1"
   ]
  }
 ],
 "metadata": {
  "kernelspec": {
   "display_name": "Python 3",
   "language": "python",
   "name": "python3"
  },
  "language_info": {
   "codemirror_mode": {
    "name": "ipython",
    "version": 3
   },
   "file_extension": ".py",
   "mimetype": "text/x-python",
   "name": "python",
   "nbconvert_exporter": "python",
   "pygments_lexer": "ipython3",
   "version": "3.7.6"
  }
 },
 "nbformat": 4,
 "nbformat_minor": 4
}
