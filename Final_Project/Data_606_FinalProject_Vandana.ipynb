{
 "cells": [
  {
   "cell_type": "markdown",
   "metadata": {},
   "source": [
    "**Objective** :\n",
    "\n",
    "This project aims at building a complete data science project which analyzes the listing of consumer complaints filed against Insurance companies licensed in Connecticut. This dataset includes the Company, Line of Business, nature of complaint, outcome or resolution, and recovery.\n",
    "\n",
    "This application can be used by any agency, Insurance industry stakeholders, or the general public to predict the status of consumer filings against the insurance companies.\n",
    "\n",
    "This is a complete data-driven application that considers the existing data to predict the Status of the Consumer complaints."
   ]
  },
  {
   "cell_type": "markdown",
   "metadata": {},
   "source": [
    "##### Importing necessary libraries"
   ]
  },
  {
   "cell_type": "code",
   "execution_count": 3,
   "metadata": {},
   "outputs": [],
   "source": [
    "import pandas as pd\n",
    "import numpy as np\n",
    "import matplotlib.pyplot as plt\n",
    "import seaborn as sns\n",
    "import warnings\n",
    "warnings.filterwarnings(\"ignore\")"
   ]
  },
  {
   "cell_type": "markdown",
   "metadata": {},
   "source": [
    "##### Reading the dataframe"
   ]
  },
  {
   "cell_type": "code",
   "execution_count": 4,
   "metadata": {},
   "outputs": [
    {
     "data": {
      "text/html": [
       "<div>\n",
       "<style scoped>\n",
       "    .dataframe tbody tr th:only-of-type {\n",
       "        vertical-align: middle;\n",
       "    }\n",
       "\n",
       "    .dataframe tbody tr th {\n",
       "        vertical-align: top;\n",
       "    }\n",
       "\n",
       "    .dataframe thead th {\n",
       "        text-align: right;\n",
       "    }\n",
       "</style>\n",
       "<table border=\"1\" class=\"dataframe\">\n",
       "  <thead>\n",
       "    <tr style=\"text-align: right;\">\n",
       "      <th></th>\n",
       "      <th>Company</th>\n",
       "      <th>File No.</th>\n",
       "      <th>Opened</th>\n",
       "      <th>Closed</th>\n",
       "      <th>Coverage</th>\n",
       "      <th>SubCoverage</th>\n",
       "      <th>Reason</th>\n",
       "      <th>SubReason</th>\n",
       "      <th>Disposition</th>\n",
       "      <th>Conclusion</th>\n",
       "      <th>Recovery</th>\n",
       "      <th>Status</th>\n",
       "    </tr>\n",
       "  </thead>\n",
       "  <tbody>\n",
       "    <tr>\n",
       "      <th>0</th>\n",
       "      <td>Cigna Health and Life Insurance Company</td>\n",
       "      <td>7015934</td>\n",
       "      <td>07/11/2018</td>\n",
       "      <td>08/13/2018</td>\n",
       "      <td>Group</td>\n",
       "      <td>Health Only</td>\n",
       "      <td>Marketing &amp; Sales</td>\n",
       "      <td>Misrepresentation</td>\n",
       "      <td>Claim Settled</td>\n",
       "      <td>Furnished Information</td>\n",
       "      <td>0.00</td>\n",
       "      <td>Closed</td>\n",
       "    </tr>\n",
       "    <tr>\n",
       "      <th>1</th>\n",
       "      <td>Cigna Health and Life Insurance Company</td>\n",
       "      <td>7013129</td>\n",
       "      <td>02/22/2019</td>\n",
       "      <td>03/18/2019</td>\n",
       "      <td>Individual</td>\n",
       "      <td>Dental</td>\n",
       "      <td>Claim Handling</td>\n",
       "      <td>Unsatisfactory Settlement/Offer</td>\n",
       "      <td>Company Position Substantiated</td>\n",
       "      <td>Furnished Information</td>\n",
       "      <td>0.00</td>\n",
       "      <td>Closed</td>\n",
       "    </tr>\n",
       "    <tr>\n",
       "      <th>2</th>\n",
       "      <td>Cigna Health and Life Insurance Company</td>\n",
       "      <td>7014049</td>\n",
       "      <td>01/25/2019</td>\n",
       "      <td>02/22/2019</td>\n",
       "      <td>Group</td>\n",
       "      <td>Health Only</td>\n",
       "      <td>Claim Handling</td>\n",
       "      <td>Delays</td>\n",
       "      <td>Claim Settled</td>\n",
       "      <td>Justified</td>\n",
       "      <td>593.37</td>\n",
       "      <td>Closed</td>\n",
       "    </tr>\n",
       "    <tr>\n",
       "      <th>3</th>\n",
       "      <td>Cigna Health and Life Insurance Company</td>\n",
       "      <td>7013857</td>\n",
       "      <td>01/23/2019</td>\n",
       "      <td>01/23/2019</td>\n",
       "      <td>Group</td>\n",
       "      <td>Health Only</td>\n",
       "      <td>Claim Handling</td>\n",
       "      <td>UR Case Management</td>\n",
       "      <td>NaN</td>\n",
       "      <td>Furnished Information</td>\n",
       "      <td>0.00</td>\n",
       "      <td>Closed</td>\n",
       "    </tr>\n",
       "    <tr>\n",
       "      <th>4</th>\n",
       "      <td>Cigna Health and Life Insurance Company</td>\n",
       "      <td>7013857</td>\n",
       "      <td>01/23/2019</td>\n",
       "      <td>01/23/2019</td>\n",
       "      <td>Group</td>\n",
       "      <td>Health Only</td>\n",
       "      <td>Claim Handling</td>\n",
       "      <td>UR Case Management</td>\n",
       "      <td>NaN</td>\n",
       "      <td>Refer-Judicial/Attorney</td>\n",
       "      <td>0.00</td>\n",
       "      <td>Closed</td>\n",
       "    </tr>\n",
       "  </tbody>\n",
       "</table>\n",
       "</div>"
      ],
      "text/plain": [
       "                                   Company  File No.      Opened      Closed  \\\n",
       "0  Cigna Health and Life Insurance Company   7015934  07/11/2018  08/13/2018   \n",
       "1  Cigna Health and Life Insurance Company   7013129  02/22/2019  03/18/2019   \n",
       "2  Cigna Health and Life Insurance Company   7014049  01/25/2019  02/22/2019   \n",
       "3  Cigna Health and Life Insurance Company   7013857  01/23/2019  01/23/2019   \n",
       "4  Cigna Health and Life Insurance Company   7013857  01/23/2019  01/23/2019   \n",
       "\n",
       "     Coverage  SubCoverage             Reason  \\\n",
       "0       Group  Health Only  Marketing & Sales   \n",
       "1  Individual       Dental     Claim Handling   \n",
       "2       Group  Health Only     Claim Handling   \n",
       "3       Group  Health Only     Claim Handling   \n",
       "4       Group  Health Only     Claim Handling   \n",
       "\n",
       "                         SubReason                     Disposition  \\\n",
       "0                Misrepresentation                   Claim Settled   \n",
       "1  Unsatisfactory Settlement/Offer  Company Position Substantiated   \n",
       "2                           Delays                   Claim Settled   \n",
       "3               UR Case Management                             NaN   \n",
       "4               UR Case Management                             NaN   \n",
       "\n",
       "                Conclusion  Recovery  Status  \n",
       "0    Furnished Information      0.00  Closed  \n",
       "1    Furnished Information      0.00  Closed  \n",
       "2                Justified    593.37  Closed  \n",
       "3    Furnished Information      0.00  Closed  \n",
       "4  Refer-Judicial/Attorney      0.00  Closed  "
      ]
     },
     "execution_count": 4,
     "metadata": {},
     "output_type": "execute_result"
    }
   ],
   "source": [
    "df=pd.read_csv(\"Insurance_Company_Complaints__Resolutions__Status__and_Recoveries.csv\")\n",
    "df.head()"
   ]
  },
  {
   "cell_type": "code",
   "execution_count": 5,
   "metadata": {},
   "outputs": [
    {
     "name": "stdout",
     "output_type": "stream",
     "text": [
      "<class 'pandas.core.frame.DataFrame'>\n",
      "RangeIndex: 24842 entries, 0 to 24841\n",
      "Data columns (total 12 columns):\n",
      " #   Column       Non-Null Count  Dtype  \n",
      "---  ------       --------------  -----  \n",
      " 0   Company      24842 non-null  object \n",
      " 1   File No.     24842 non-null  int64  \n",
      " 2   Opened       24842 non-null  object \n",
      " 3   Closed       23989 non-null  object \n",
      " 4   Coverage     22994 non-null  object \n",
      " 5   SubCoverage  17880 non-null  object \n",
      " 6   Reason       22637 non-null  object \n",
      " 7   SubReason    22637 non-null  object \n",
      " 8   Disposition  15505 non-null  object \n",
      " 9   Conclusion   21215 non-null  object \n",
      " 10  Recovery     24842 non-null  float64\n",
      " 11  Status       24842 non-null  object \n",
      "dtypes: float64(1), int64(1), object(10)\n",
      "memory usage: 2.3+ MB\n"
     ]
    }
   ],
   "source": [
    "df.info()"
   ]
  },
  {
   "cell_type": "markdown",
   "metadata": {},
   "source": [
    "##### Displaying Unique values in respective columns "
   ]
  },
  {
   "cell_type": "code",
   "execution_count": 6,
   "metadata": {},
   "outputs": [
    {
     "data": {
      "text/plain": [
       "Company          709\n",
       "File No.       15800\n",
       "Opened          1234\n",
       "Closed          1100\n",
       "Coverage          43\n",
       "SubCoverage       87\n",
       "Reason             4\n",
       "SubReason        147\n",
       "Disposition       10\n",
       "Conclusion        48\n",
       "Recovery        2044\n",
       "Status            22\n",
       "dtype: int64"
      ]
     },
     "execution_count": 6,
     "metadata": {},
     "output_type": "execute_result"
    }
   ],
   "source": [
    "df.nunique()"
   ]
  },
  {
   "cell_type": "markdown",
   "metadata": {},
   "source": [
    "Inferences:\n",
    "\n",
    "We can see that the columns Company, File No. has 709, 15800 unique values respectively"
   ]
  },
  {
   "cell_type": "code",
   "execution_count": 7,
   "metadata": {},
   "outputs": [
    {
     "name": "stdout",
     "output_type": "stream",
     "text": [
      "(24842, 12)\n",
      "Number of rows: 24842\n",
      "Number of columns: 12\n"
     ]
    }
   ],
   "source": [
    "#printing the shape of the dataframe\n",
    "print(df.shape)\n",
    "print(\"Number of rows:\", df.shape[0])\n",
    "print(\"Number of columns:\", df.shape[1])"
   ]
  },
  {
   "cell_type": "markdown",
   "metadata": {},
   "source": [
    "#### Null Values in Dataset"
   ]
  },
  {
   "cell_type": "code",
   "execution_count": 8,
   "metadata": {},
   "outputs": [
    {
     "data": {
      "text/plain": [
       "Company           0\n",
       "File No.          0\n",
       "Opened            0\n",
       "Closed          853\n",
       "Coverage       1848\n",
       "SubCoverage    6962\n",
       "Reason         2205\n",
       "SubReason      2205\n",
       "Disposition    9337\n",
       "Conclusion     3627\n",
       "Recovery          0\n",
       "Status            0\n",
       "dtype: int64"
      ]
     },
     "execution_count": 8,
     "metadata": {},
     "output_type": "execute_result"
    }
   ],
   "source": [
    "#Displaying null values in the dataset with respect to the columns\n",
    "df.isna().sum()"
   ]
  },
  {
   "cell_type": "markdown",
   "metadata": {},
   "source": [
    "Inferences: \n",
    "\n",
    "The columns Closed, Coverage, Sub Coverage has 853, 1848, 6962 null values respectively."
   ]
  },
  {
   "cell_type": "markdown",
   "metadata": {},
   "source": [
    "#### Imputing Null Values in the dataset"
   ]
  },
  {
   "cell_type": "code",
   "execution_count": 9,
   "metadata": {},
   "outputs": [],
   "source": [
    "df.fillna(df['Closed'].mode()[0], inplace=True)\n",
    "df.fillna(df['Coverage'].mode()[0], inplace=True)\n",
    "df.fillna(df['SubCoverage'].mode()[0], inplace=True)\n",
    "df.fillna(df['Reason'].mode()[0], inplace=True)\n",
    "df.fillna(df['SubReason'].mode()[0], inplace=True)\n",
    "df.fillna(df['Disposition'].mode()[0], inplace=True)\n",
    "df.fillna(df['Conclusion'].mode()[0], inplace=True)"
   ]
  },
  {
   "cell_type": "markdown",
   "metadata": {},
   "source": [
    "#### Mapping various intermediate Status types to Open/pending and others to closed in Status Column "
   ]
  },
  {
   "cell_type": "code",
   "execution_count": 10,
   "metadata": {},
   "outputs": [],
   "source": [
    "df[\"Status\"] = np.where(df[\"Status\"] == \"Closed\", 0, 1)\n",
    "df['Status'] = df['Status'].map({1:'Open/Pending', 0:'Closed'})"
   ]
  },
  {
   "cell_type": "code",
   "execution_count": 11,
   "metadata": {},
   "outputs": [],
   "source": [
    "df = df[df.Reason != '02/23/2022']\n",
    "df = df[df.Coverage != '02/23/2022']\n",
    "df = df[df.SubCoverage != '02/23/2022']\n",
    "df = df[df.Disposition != '02/23/2022']\n",
    "df = df[df.Conclusion != '02/23/2022']"
   ]
  },
  {
   "cell_type": "markdown",
   "metadata": {},
   "source": [
    "##### Summary of numerical columns"
   ]
  },
  {
   "cell_type": "code",
   "execution_count": 12,
   "metadata": {},
   "outputs": [
    {
     "data": {
      "text/html": [
       "<div>\n",
       "<style scoped>\n",
       "    .dataframe tbody tr th:only-of-type {\n",
       "        vertical-align: middle;\n",
       "    }\n",
       "\n",
       "    .dataframe tbody tr th {\n",
       "        vertical-align: top;\n",
       "    }\n",
       "\n",
       "    .dataframe thead th {\n",
       "        text-align: right;\n",
       "    }\n",
       "</style>\n",
       "<table border=\"1\" class=\"dataframe\">\n",
       "  <thead>\n",
       "    <tr style=\"text-align: right;\">\n",
       "      <th></th>\n",
       "      <th>File No.</th>\n",
       "      <th>Recovery</th>\n",
       "    </tr>\n",
       "  </thead>\n",
       "  <tbody>\n",
       "    <tr>\n",
       "      <th>count</th>\n",
       "      <td>1.126600e+04</td>\n",
       "      <td>11266.000000</td>\n",
       "    </tr>\n",
       "    <tr>\n",
       "      <th>mean</th>\n",
       "      <td>7.017677e+06</td>\n",
       "      <td>985.167081</td>\n",
       "    </tr>\n",
       "    <tr>\n",
       "      <th>std</th>\n",
       "      <td>1.376488e+04</td>\n",
       "      <td>9247.913518</td>\n",
       "    </tr>\n",
       "    <tr>\n",
       "      <th>min</th>\n",
       "      <td>7.000002e+06</td>\n",
       "      <td>0.000000</td>\n",
       "    </tr>\n",
       "    <tr>\n",
       "      <th>25%</th>\n",
       "      <td>7.007318e+06</td>\n",
       "      <td>0.000000</td>\n",
       "    </tr>\n",
       "    <tr>\n",
       "      <th>50%</th>\n",
       "      <td>7.014266e+06</td>\n",
       "      <td>0.000000</td>\n",
       "    </tr>\n",
       "    <tr>\n",
       "      <th>75%</th>\n",
       "      <td>7.020789e+06</td>\n",
       "      <td>0.000000</td>\n",
       "    </tr>\n",
       "    <tr>\n",
       "      <th>max</th>\n",
       "      <td>7.045700e+06</td>\n",
       "      <td>311596.730000</td>\n",
       "    </tr>\n",
       "  </tbody>\n",
       "</table>\n",
       "</div>"
      ],
      "text/plain": [
       "           File No.       Recovery\n",
       "count  1.126600e+04   11266.000000\n",
       "mean   7.017677e+06     985.167081\n",
       "std    1.376488e+04    9247.913518\n",
       "min    7.000002e+06       0.000000\n",
       "25%    7.007318e+06       0.000000\n",
       "50%    7.014266e+06       0.000000\n",
       "75%    7.020789e+06       0.000000\n",
       "max    7.045700e+06  311596.730000"
      ]
     },
     "execution_count": 12,
     "metadata": {},
     "output_type": "execute_result"
    }
   ],
   "source": [
    "#Displaying summary of numerical columns\n",
    "df.describe()"
   ]
  },
  {
   "cell_type": "markdown",
   "metadata": {},
   "source": [
    "Inferences: \n",
    "    \n",
    "We can see that the values in Recovery column  is 80. The recoveries are ranging from 0 to $843825."
   ]
  },
  {
   "cell_type": "code",
   "execution_count": 13,
   "metadata": {},
   "outputs": [
    {
     "data": {
      "text/html": [
       "<div>\n",
       "<style scoped>\n",
       "    .dataframe tbody tr th:only-of-type {\n",
       "        vertical-align: middle;\n",
       "    }\n",
       "\n",
       "    .dataframe tbody tr th {\n",
       "        vertical-align: top;\n",
       "    }\n",
       "\n",
       "    .dataframe thead th {\n",
       "        text-align: right;\n",
       "    }\n",
       "</style>\n",
       "<table border=\"1\" class=\"dataframe\">\n",
       "  <thead>\n",
       "    <tr style=\"text-align: right;\">\n",
       "      <th></th>\n",
       "      <th>Company</th>\n",
       "      <th>File No.</th>\n",
       "      <th>Opened</th>\n",
       "      <th>Closed</th>\n",
       "      <th>Coverage</th>\n",
       "      <th>SubCoverage</th>\n",
       "      <th>Reason</th>\n",
       "      <th>SubReason</th>\n",
       "      <th>Disposition</th>\n",
       "      <th>Conclusion</th>\n",
       "      <th>Recovery</th>\n",
       "      <th>Status</th>\n",
       "    </tr>\n",
       "  </thead>\n",
       "  <tbody>\n",
       "    <tr>\n",
       "      <th>count</th>\n",
       "      <td>11266</td>\n",
       "      <td>1.126600e+04</td>\n",
       "      <td>11266</td>\n",
       "      <td>11266</td>\n",
       "      <td>11266</td>\n",
       "      <td>11266</td>\n",
       "      <td>11266</td>\n",
       "      <td>11266</td>\n",
       "      <td>11266</td>\n",
       "      <td>11266</td>\n",
       "      <td>11266.000000</td>\n",
       "      <td>11266</td>\n",
       "    </tr>\n",
       "    <tr>\n",
       "      <th>unique</th>\n",
       "      <td>478</td>\n",
       "      <td>NaN</td>\n",
       "      <td>1156</td>\n",
       "      <td>1093</td>\n",
       "      <td>23</td>\n",
       "      <td>69</td>\n",
       "      <td>4</td>\n",
       "      <td>120</td>\n",
       "      <td>10</td>\n",
       "      <td>43</td>\n",
       "      <td>NaN</td>\n",
       "      <td>2</td>\n",
       "    </tr>\n",
       "    <tr>\n",
       "      <th>top</th>\n",
       "      <td>Anthem Health Plans, Inc</td>\n",
       "      <td>NaN</td>\n",
       "      <td>06/21/2019</td>\n",
       "      <td>02/23/2022</td>\n",
       "      <td>Private Passenger</td>\n",
       "      <td>Liability</td>\n",
       "      <td>Claim Handling</td>\n",
       "      <td>Denial of Claim</td>\n",
       "      <td>Company Position Substantiated</td>\n",
       "      <td>Unjustified</td>\n",
       "      <td>NaN</td>\n",
       "      <td>Closed</td>\n",
       "    </tr>\n",
       "    <tr>\n",
       "      <th>freq</th>\n",
       "      <td>1251</td>\n",
       "      <td>NaN</td>\n",
       "      <td>58</td>\n",
       "      <td>92</td>\n",
       "      <td>3475</td>\n",
       "      <td>2201</td>\n",
       "      <td>8770</td>\n",
       "      <td>1916</td>\n",
       "      <td>4891</td>\n",
       "      <td>4604</td>\n",
       "      <td>NaN</td>\n",
       "      <td>11178</td>\n",
       "    </tr>\n",
       "    <tr>\n",
       "      <th>mean</th>\n",
       "      <td>NaN</td>\n",
       "      <td>7.017677e+06</td>\n",
       "      <td>NaN</td>\n",
       "      <td>NaN</td>\n",
       "      <td>NaN</td>\n",
       "      <td>NaN</td>\n",
       "      <td>NaN</td>\n",
       "      <td>NaN</td>\n",
       "      <td>NaN</td>\n",
       "      <td>NaN</td>\n",
       "      <td>985.167081</td>\n",
       "      <td>NaN</td>\n",
       "    </tr>\n",
       "    <tr>\n",
       "      <th>std</th>\n",
       "      <td>NaN</td>\n",
       "      <td>1.376488e+04</td>\n",
       "      <td>NaN</td>\n",
       "      <td>NaN</td>\n",
       "      <td>NaN</td>\n",
       "      <td>NaN</td>\n",
       "      <td>NaN</td>\n",
       "      <td>NaN</td>\n",
       "      <td>NaN</td>\n",
       "      <td>NaN</td>\n",
       "      <td>9247.913518</td>\n",
       "      <td>NaN</td>\n",
       "    </tr>\n",
       "    <tr>\n",
       "      <th>min</th>\n",
       "      <td>NaN</td>\n",
       "      <td>7.000002e+06</td>\n",
       "      <td>NaN</td>\n",
       "      <td>NaN</td>\n",
       "      <td>NaN</td>\n",
       "      <td>NaN</td>\n",
       "      <td>NaN</td>\n",
       "      <td>NaN</td>\n",
       "      <td>NaN</td>\n",
       "      <td>NaN</td>\n",
       "      <td>0.000000</td>\n",
       "      <td>NaN</td>\n",
       "    </tr>\n",
       "    <tr>\n",
       "      <th>25%</th>\n",
       "      <td>NaN</td>\n",
       "      <td>7.007318e+06</td>\n",
       "      <td>NaN</td>\n",
       "      <td>NaN</td>\n",
       "      <td>NaN</td>\n",
       "      <td>NaN</td>\n",
       "      <td>NaN</td>\n",
       "      <td>NaN</td>\n",
       "      <td>NaN</td>\n",
       "      <td>NaN</td>\n",
       "      <td>0.000000</td>\n",
       "      <td>NaN</td>\n",
       "    </tr>\n",
       "    <tr>\n",
       "      <th>50%</th>\n",
       "      <td>NaN</td>\n",
       "      <td>7.014266e+06</td>\n",
       "      <td>NaN</td>\n",
       "      <td>NaN</td>\n",
       "      <td>NaN</td>\n",
       "      <td>NaN</td>\n",
       "      <td>NaN</td>\n",
       "      <td>NaN</td>\n",
       "      <td>NaN</td>\n",
       "      <td>NaN</td>\n",
       "      <td>0.000000</td>\n",
       "      <td>NaN</td>\n",
       "    </tr>\n",
       "    <tr>\n",
       "      <th>75%</th>\n",
       "      <td>NaN</td>\n",
       "      <td>7.020789e+06</td>\n",
       "      <td>NaN</td>\n",
       "      <td>NaN</td>\n",
       "      <td>NaN</td>\n",
       "      <td>NaN</td>\n",
       "      <td>NaN</td>\n",
       "      <td>NaN</td>\n",
       "      <td>NaN</td>\n",
       "      <td>NaN</td>\n",
       "      <td>0.000000</td>\n",
       "      <td>NaN</td>\n",
       "    </tr>\n",
       "    <tr>\n",
       "      <th>max</th>\n",
       "      <td>NaN</td>\n",
       "      <td>7.045700e+06</td>\n",
       "      <td>NaN</td>\n",
       "      <td>NaN</td>\n",
       "      <td>NaN</td>\n",
       "      <td>NaN</td>\n",
       "      <td>NaN</td>\n",
       "      <td>NaN</td>\n",
       "      <td>NaN</td>\n",
       "      <td>NaN</td>\n",
       "      <td>311596.730000</td>\n",
       "      <td>NaN</td>\n",
       "    </tr>\n",
       "  </tbody>\n",
       "</table>\n",
       "</div>"
      ],
      "text/plain": [
       "                         Company      File No.      Opened      Closed  \\\n",
       "count                      11266  1.126600e+04       11266       11266   \n",
       "unique                       478           NaN        1156        1093   \n",
       "top     Anthem Health Plans, Inc           NaN  06/21/2019  02/23/2022   \n",
       "freq                        1251           NaN          58          92   \n",
       "mean                         NaN  7.017677e+06         NaN         NaN   \n",
       "std                          NaN  1.376488e+04         NaN         NaN   \n",
       "min                          NaN  7.000002e+06         NaN         NaN   \n",
       "25%                          NaN  7.007318e+06         NaN         NaN   \n",
       "50%                          NaN  7.014266e+06         NaN         NaN   \n",
       "75%                          NaN  7.020789e+06         NaN         NaN   \n",
       "max                          NaN  7.045700e+06         NaN         NaN   \n",
       "\n",
       "                 Coverage SubCoverage          Reason        SubReason  \\\n",
       "count               11266       11266           11266            11266   \n",
       "unique                 23          69               4              120   \n",
       "top     Private Passenger   Liability  Claim Handling  Denial of Claim   \n",
       "freq                 3475        2201            8770             1916   \n",
       "mean                  NaN         NaN             NaN              NaN   \n",
       "std                   NaN         NaN             NaN              NaN   \n",
       "min                   NaN         NaN             NaN              NaN   \n",
       "25%                   NaN         NaN             NaN              NaN   \n",
       "50%                   NaN         NaN             NaN              NaN   \n",
       "75%                   NaN         NaN             NaN              NaN   \n",
       "max                   NaN         NaN             NaN              NaN   \n",
       "\n",
       "                           Disposition   Conclusion       Recovery  Status  \n",
       "count                            11266        11266   11266.000000   11266  \n",
       "unique                              10           43            NaN       2  \n",
       "top     Company Position Substantiated  Unjustified            NaN  Closed  \n",
       "freq                              4891         4604            NaN   11178  \n",
       "mean                               NaN          NaN     985.167081     NaN  \n",
       "std                                NaN          NaN    9247.913518     NaN  \n",
       "min                                NaN          NaN       0.000000     NaN  \n",
       "25%                                NaN          NaN       0.000000     NaN  \n",
       "50%                                NaN          NaN       0.000000     NaN  \n",
       "75%                                NaN          NaN       0.000000     NaN  \n",
       "max                                NaN          NaN  311596.730000     NaN  "
      ]
     },
     "execution_count": 13,
     "metadata": {},
     "output_type": "execute_result"
    }
   ],
   "source": [
    "#Displaying the description of all columns\n",
    "df.describe(include = 'all')"
   ]
  },
  {
   "cell_type": "markdown",
   "metadata": {},
   "source": [
    "Inferences: \n",
    "\n",
    "The statistics of all the columns are displayed."
   ]
  },
  {
   "cell_type": "markdown",
   "metadata": {},
   "source": [
    "###### Displaying Complaints filed by Year"
   ]
  },
  {
   "cell_type": "code",
   "execution_count": 14,
   "metadata": {},
   "outputs": [],
   "source": [
    "df['Filed_Year']=pd.to_datetime(df['Opened']).dt.year\n",
    "df['Filed_Month']=pd.to_datetime(df['Opened']).dt.month\n",
    "df['Settled_Year']=pd.to_datetime(df['Closed']).dt.year\n",
    "df['Settled_Month']=pd.to_datetime(df['Closed']).dt.month"
   ]
  },
  {
   "cell_type": "code",
   "execution_count": 15,
   "metadata": {},
   "outputs": [
    {
     "data": {
      "text/plain": [
       "Text(0, 0.5, 'Count')"
      ]
     },
     "execution_count": 15,
     "metadata": {},
     "output_type": "execute_result"
    },
    {
     "data": {
      "image/png": "[encoded data removed]",
      "text/plain": [
       "<Figure size 1080x288 with 1 Axes>"
      ]
     },
     "metadata": {
      "needs_background": "light"
     },
     "output_type": "display_data"
    }
   ],
   "source": [
    "plt.figure(figsize=(15,4))\n",
    "sns.countplot(data=df, x=\"Filed_Year\")\n",
    "plt.title('Analysis of Consumer complaints Reported with respect to reported year')\n",
    "plt.xlabel('Year')\n",
    "plt.ylabel('Count')"
   ]
  },
  {
   "cell_type": "markdown",
   "metadata": {},
   "source": [
    "Inferences: \n",
    "\n",
    "2021, 2018 are the years with most consumer complaints reported."
   ]
  },
  {
   "cell_type": "markdown",
   "metadata": {},
   "source": [
    "###### Displaying Complaints filed by Month"
   ]
  },
  {
   "cell_type": "code",
   "execution_count": 16,
   "metadata": {},
   "outputs": [
    {
     "data": {
      "text/plain": [
       "Text(0, 0.5, 'Count')"
      ]
     },
     "execution_count": 16,
     "metadata": {},
     "output_type": "execute_result"
    },
    {
     "data": {
      "image/png": "[encoded data removed]",
      "text/plain": [
       "<Figure size 1080x288 with 1 Axes>"
      ]
     },
     "metadata": {
      "needs_background": "light"
     },
     "output_type": "display_data"
    }
   ],
   "source": [
    "plt.figure(figsize=(15,4))\n",
    "sns.countplot(data=df, x=\"Filed_Month\")\n",
    "plt.title('Analysis of Consumer complaints Reported with respect to reported Month')\n",
    "plt.xlabel('Month')\n",
    "plt.ylabel('Count')"
   ]
  },
  {
   "cell_type": "markdown",
   "metadata": {},
   "source": [
    "Inferences: \n",
    "\n",
    "January is month with most consumer complaints reported."
   ]
  },
  {
   "cell_type": "markdown",
   "metadata": {},
   "source": [
    "###### Displaying Complaints filed by Resolved Year"
   ]
  },
  {
   "cell_type": "code",
   "execution_count": 17,
   "metadata": {},
   "outputs": [
    {
     "data": {
      "text/plain": [
       "Text(0, 0.5, 'Count')"
      ]
     },
     "execution_count": 17,
     "metadata": {},
     "output_type": "execute_result"
    },
    {
     "data": {
      "image/png": "[encoded data removed]",
      "text/plain": [
       "<Figure size 1080x288 with 1 Axes>"
      ]
     },
     "metadata": {
      "needs_background": "light"
     },
     "output_type": "display_data"
    }
   ],
   "source": [
    "df['Settled_Year'] = df['Settled_Year'].astype(int)\n",
    "plt.figure(figsize=(15,4))\n",
    "sns.countplot(data=df, x=\"Settled_Year\")\n",
    "plt.title('Analysis of Consumer complaints Resolved with respect to Resolved year')\n",
    "plt.xlabel('Settled Year')\n",
    "plt.ylabel('Count')\n"
   ]
  },
  {
   "cell_type": "markdown",
   "metadata": {},
   "source": [
    "Inferences: \n",
    "\n",
    "2018, 2021 are the years with most consumer complaints settled/resolved."
   ]
  },
  {
   "cell_type": "markdown",
   "metadata": {},
   "source": [
    "###### Displaying Complaints filed by Resolved Month"
   ]
  },
  {
   "cell_type": "code",
   "execution_count": 18,
   "metadata": {},
   "outputs": [
    {
     "data": {
      "text/plain": [
       "Text(0, 0.5, 'Count')"
      ]
     },
     "execution_count": 18,
     "metadata": {},
     "output_type": "execute_result"
    },
    {
     "data": {
      "image/png": "[encoded data removed]",
      "text/plain": [
       "<Figure size 1080x288 with 1 Axes>"
      ]
     },
     "metadata": {
      "needs_background": "light"
     },
     "output_type": "display_data"
    }
   ],
   "source": [
    "df['Settled_Month'] = df['Settled_Month'].astype(int)\n",
    "plt.figure(figsize=(15,4))\n",
    "sns.countplot(data=df, x=\"Settled_Month\")\n",
    "plt.title('Analysis of Consumer complaints Resolved with respect to Resolved Month')\n",
    "plt.xlabel('Settled Month')\n",
    "plt.ylabel('Count')\n"
   ]
  },
  {
   "cell_type": "markdown",
   "metadata": {},
   "source": [
    "Inferences: \n",
    "\n",
    "March, January are the months with most consumer complaints resolved."
   ]
  },
  {
   "cell_type": "markdown",
   "metadata": {},
   "source": [
    "##### Plotting the bar garph for Coverage Type and its individual counts"
   ]
  },
  {
   "cell_type": "code",
   "execution_count": 19,
   "metadata": {},
   "outputs": [
    {
     "data": {
      "text/plain": [
       "Text(0, 0.5, 'Count')"
      ]
     },
     "execution_count": 19,
     "metadata": {},
     "output_type": "execute_result"
    },
    {
     "data": {
      "image/png": "[encoded data removed]",
      "text/plain": [
       "<Figure size 1296x432 with 1 Axes>"
      ]
     },
     "metadata": {
      "needs_background": "light"
     },
     "output_type": "display_data"
    }
   ],
   "source": [
    "plt.figure(figsize=(18,6))\n",
    "df['Coverage'].value_counts().plot(kind='bar', color='r')\n",
    "plt.title('Bar garph showing Variation of Coverage type')\n",
    "plt.xlabel('Coverage Type')\n",
    "plt.ylabel('Count')"
   ]
  },
  {
   "cell_type": "markdown",
   "metadata": {},
   "source": [
    "Inferences: \n",
    "\n",
    "Travel Insurances and Home insurances are the most sought after insurance policies."
   ]
  },
  {
   "cell_type": "markdown",
   "metadata": {},
   "source": [
    "##### Plotting the bar garph for Disposition Types"
   ]
  },
  {
   "cell_type": "code",
   "execution_count": 20,
   "metadata": {},
   "outputs": [
    {
     "data": {
      "text/plain": [
       "Text(0, 0.5, 'Count')"
      ]
     },
     "execution_count": 20,
     "metadata": {},
     "output_type": "execute_result"
    },
    {
     "data": {
      "image/png": "[encoded data removed]",
      "text/plain": [
       "<Figure size 648x432 with 1 Axes>"
      ]
     },
     "metadata": {
      "needs_background": "light"
     },
     "output_type": "display_data"
    }
   ],
   "source": [
    "plt.figure(figsize=(9,6))\n",
    "df['Disposition'].value_counts().plot(kind='bar', color='b')\n",
    "plt.title('Bar garph showing distrubution of Complaint Reasons')\n",
    "plt.xlabel('Disposition')\n",
    "plt.ylabel('Count')"
   ]
  },
  {
   "cell_type": "markdown",
   "metadata": {},
   "source": [
    "Inferences:\n",
    "    \n",
    "We can see that the disposition type Company Position Substantiated has the highest values in the dataset"
   ]
  },
  {
   "cell_type": "markdown",
   "metadata": {},
   "source": [
    "##### Plotting the bar garph for Claim Reasons"
   ]
  },
  {
   "cell_type": "code",
   "execution_count": 21,
   "metadata": {},
   "outputs": [
    {
     "data": {
      "text/plain": [
       "Text(0, 0.5, 'Count')"
      ]
     },
     "execution_count": 21,
     "metadata": {},
     "output_type": "execute_result"
    },
    {
     "data": {
      "image/png": "[encoded data removed]",
      "text/plain": [
       "<Figure size 648x432 with 1 Axes>"
      ]
     },
     "metadata": {
      "needs_background": "light"
     },
     "output_type": "display_data"
    }
   ],
   "source": [
    "plt.figure(figsize=(9,6))\n",
    "df['Reason'].value_counts().plot(kind='bar', color='g')\n",
    "plt.title('Bar garph showing distrubution of Complaint Reasons')\n",
    "plt.xlabel('Reason')\n",
    "plt.ylabel('Count')"
   ]
  },
  {
   "cell_type": "markdown",
   "metadata": {},
   "source": [
    "Inferences: \n",
    "\n",
    "The improper claim settlemets are the primary reason for complaint filings."
   ]
  },
  {
   "cell_type": "markdown",
   "metadata": {},
   "source": [
    "##### Depicting the reasons and their percent of share in complaint filings"
   ]
  },
  {
   "cell_type": "code",
   "execution_count": 22,
   "metadata": {},
   "outputs": [
    {
     "data": {
      "text/plain": [
       "Text(0.5, 1.0, 'Bar garph showing distrubution of Complaint Reasons')"
      ]
     },
     "execution_count": 22,
     "metadata": {},
     "output_type": "execute_result"
    },
    {
     "data": {
      "image/png": "[encoded data removed]",
      "text/plain": [
       "<Figure size 720x360 with 1 Axes>"
      ]
     },
     "metadata": {},
     "output_type": "display_data"
    }
   ],
   "source": [
    "status_counts=df.Reason.value_counts()\n",
    "plt.figure(figsize=(10,5))\n",
    "plt.pie(status_counts,labels=status_counts.index);\n",
    "plt.title('Bar garph showing distrubution of Complaint Reasons')\n"
   ]
  },
  {
   "cell_type": "markdown",
   "metadata": {},
   "source": [
    "Inferences: \n",
    "\n",
    "The improper claim settlemets are the primary reason for complaint filings."
   ]
  },
  {
   "cell_type": "markdown",
   "metadata": {},
   "source": [
    "##### Plottings the variation of Complaint status vs Filed Year."
   ]
  },
  {
   "cell_type": "code",
   "execution_count": 23,
   "metadata": {},
   "outputs": [
    {
     "data": {
      "text/plain": [
       "<seaborn.axisgrid.FacetGrid at 0x121652b9f48>"
      ]
     },
     "execution_count": 23,
     "metadata": {},
     "output_type": "execute_result"
    },
    {
     "data": {
      "image/png": "[encoded data removed]",
      "text/plain": [
       "<Figure size 720x360 with 2 Axes>"
      ]
     },
     "metadata": {
      "needs_background": "light"
     },
     "output_type": "display_data"
    }
   ],
   "source": [
    "sns.displot(df, x=\"Filed_Year\", col=\"Status\")\n"
   ]
  },
  {
   "cell_type": "markdown",
   "metadata": {},
   "source": [
    "Inferences: \n",
    "\n",
    "2021 is the year with most complaints filed and 2022 is the year with most of them resolved."
   ]
  },
  {
   "cell_type": "markdown",
   "metadata": {},
   "source": [
    "##### Plotting the variation in Reasons vs recovered amounts"
   ]
  },
  {
   "cell_type": "code",
   "execution_count": 24,
   "metadata": {},
   "outputs": [
    {
     "data": {
      "text/plain": [
       "Text(0.5, 1.0, 'Bar garph showing the variation in Reasons vs recovered amounts')"
      ]
     },
     "execution_count": 24,
     "metadata": {},
     "output_type": "execute_result"
    },
    {
     "data": {
      "image/png": "[encoded data removed]",
      "text/plain": [
       "<Figure size 432x288 with 1 Axes>"
      ]
     },
     "metadata": {
      "needs_background": "light"
     },
     "output_type": "display_data"
    }
   ],
   "source": [
    "sns.barplot(x='Recovery', y='Reason', data=df,\n",
    "            palette=['purple', 'steelblue'])\n",
    "plt.title('Bar garph showing the variation in Reasons vs recovered amounts')\n"
   ]
  },
  {
   "cell_type": "markdown",
   "metadata": {},
   "source": [
    "Inferences: \n",
    "\n",
    "Claim handling segment is the most highest segmnet with high recovery amounts then followed by complaints due to marketing and sales segments."
   ]
  },
  {
   "cell_type": "markdown",
   "metadata": {},
   "source": [
    "##### Graph showing the variations of Recovey Amounts with respect to Reported_Year"
   ]
  },
  {
   "cell_type": "code",
   "execution_count": 25,
   "metadata": {},
   "outputs": [
    {
     "data": {
      "image/png": "[encoded data removed]",
      "text/plain": [
       "<Figure size 1080x288 with 1 Axes>"
      ]
     },
     "metadata": {
      "needs_background": "light"
     },
     "output_type": "display_data"
    }
   ],
   "source": [
    "plt.figure(figsize=(15,4))\n",
    "sns.lineplot(x='Filed_Year',y='Recovery', data =df, color = 'b')\n",
    "plt.title(\"Graph showing the variations of Recovey Amounts with respect to Reported_Year\")\n",
    "plt.xlabel(\"Reported_Year\")\n",
    "plt.show()"
   ]
  },
  {
   "cell_type": "markdown",
   "metadata": {},
   "source": [
    "Inferences: \n",
    "\n",
    "2018 is the year with highest sum of claims recovered."
   ]
  },
  {
   "cell_type": "markdown",
   "metadata": {},
   "source": [
    "##### Graph showing the variations of Recovey Amounts with respect to Reported_Month"
   ]
  },
  {
   "cell_type": "code",
   "execution_count": 26,
   "metadata": {},
   "outputs": [
    {
     "data": {
      "image/png": "[encoded data removed]",
      "text/plain": [
       "<Figure size 1080x288 with 1 Axes>"
      ]
     },
     "metadata": {
      "needs_background": "light"
     },
     "output_type": "display_data"
    }
   ],
   "source": [
    "plt.figure(figsize=(15,4))\n",
    "sns.lineplot(x='Filed_Month',y='Recovery', data =df, color = 'b')\n",
    "plt.title(\"Graph showing the variations of Recovey Amounts with respect to Reported_Month\")\n",
    "plt.xlabel(\"Reported_Month\")\n",
    "plt.show()"
   ]
  },
  {
   "cell_type": "markdown",
   "metadata": {},
   "source": [
    "Inferences: \n",
    "\n",
    "February is the Month with highest sum of claims recovered."
   ]
  },
  {
   "cell_type": "markdown",
   "metadata": {},
   "source": [
    "##### Graph showing the distribution of Recovery amounts"
   ]
  },
  {
   "cell_type": "code",
   "execution_count": 27,
   "metadata": {},
   "outputs": [
    {
     "data": {
      "text/plain": [
       "Text(0.5, 1.0, 'Graph showing the distribution of Recovery amounts')"
      ]
     },
     "execution_count": 27,
     "metadata": {},
     "output_type": "execute_result"
    },
    {
     "data": {
      "image/png": "[encoded data removed]",
      "text/plain": [
       "<Figure size 432x288 with 1 Axes>"
      ]
     },
     "metadata": {
      "needs_background": "light"
     },
     "output_type": "display_data"
    }
   ],
   "source": [
    "sns.stripplot(x='Filed_Year',y='Recovery',data=df)\n",
    "plt.title('Graph showing the distribution of Recovery amounts')"
   ]
  },
  {
   "cell_type": "markdown",
   "metadata": {},
   "source": [
    "##### Graph showing the variation if compaint status vs Recovery amounts and Reason filed"
   ]
  },
  {
   "cell_type": "code",
   "execution_count": 28,
   "metadata": {},
   "outputs": [
    {
     "data": {
      "text/plain": [
       "<seaborn.axisgrid.FacetGrid at 0x12166bcc2c8>"
      ]
     },
     "execution_count": 28,
     "metadata": {},
     "output_type": "execute_result"
    },
    {
     "data": {
      "image/png": "[encoded data removed]",
      "text/plain": [
       "<Figure size 1008x360 with 4 Axes>"
      ]
     },
     "metadata": {
      "needs_background": "light"
     },
     "output_type": "display_data"
    }
   ],
   "source": [
    "sns.catplot(x='Status',y='Recovery', col = 'Reason', data=df,kind='bar', aspect=.7, palette='Set2') "
   ]
  },
  {
   "cell_type": "markdown",
   "metadata": {},
   "source": [
    "Inferences: \n",
    "    \n",
    "We can see that the most of the compaints are resolved with the highest recovery amounts in Claim handling category."
   ]
  },
  {
   "cell_type": "code",
   "execution_count": 29,
   "metadata": {},
   "outputs": [],
   "source": [
    "# Removing columns that are not used in our analysis.\n",
    "df = df.drop('File No.', axis=1)\n",
    "df = df.drop('Opened', axis=1)\n",
    "df = df.drop('Closed', axis=1)"
   ]
  },
  {
   "cell_type": "markdown",
   "metadata": {},
   "source": [
    "##### Coorelation matrix"
   ]
  },
  {
   "cell_type": "code",
   "execution_count": 30,
   "metadata": {},
   "outputs": [
    {
     "data": {
      "text/plain": [
       "<matplotlib.axes._subplots.AxesSubplot at 0x1216705a2c8>"
      ]
     },
     "execution_count": 30,
     "metadata": {},
     "output_type": "execute_result"
    },
    {
     "data": {
      "image/png": "[encoded data removed]",
      "text/plain": [
       "<Figure size 1296x648 with 2 Axes>"
      ]
     },
     "metadata": {
      "needs_background": "light"
     },
     "output_type": "display_data"
    }
   ],
   "source": [
    "plt.figure(figsize=(18,9))\n",
    "sns.heatmap(df.corr(),annot=True)"
   ]
  },
  {
   "cell_type": "code",
   "execution_count": 31,
   "metadata": {},
   "outputs": [],
   "source": [
    "df = df[df.Reason != '02/23/2022']\n",
    "df = df[df.Coverage != '02/23/2022']\n",
    "df = df[df.SubCoverage != '02/23/2022']\n",
    "df = df[df.Disposition != '02/23/2022']\n",
    "df = df[df.Conclusion != '02/23/2022']"
   ]
  },
  {
   "cell_type": "code",
   "execution_count": 32,
   "metadata": {},
   "outputs": [
    {
     "data": {
      "text/plain": [
       "['Anthem Health Plans, Inc',\n",
       " 'ConnectiCare Insurance Company, Inc',\n",
       " 'UnitedHealthcare Insurance Company',\n",
       " 'ConnectiCare Benefits, Inc.',\n",
       " 'Progressive Direct Insurance Company',\n",
       " 'Allstate Fire and Casualty Insurance Company',\n",
       " 'Cigna Health and Life Insurance Company',\n",
       " 'Progressive Casualty Insurance Company',\n",
       " 'State Farm Fire & Casualty Company',\n",
       " 'State Farm Mutual Automobile Insurance Company',\n",
       " 'Oxford Health Plans (CT), Inc',\n",
       " 'GEICO General Insurance Company',\n",
       " 'Transamerica Life Insurance Company',\n",
       " 'Allstate Insurance Company',\n",
       " 'SAFECO Insurance Company of Illinois',\n",
       " 'LM General Insurance Company',\n",
       " 'Brighthouse Life Insurance Company',\n",
       " 'GEICO Indemnity Company',\n",
       " 'ConnectiCare Inc',\n",
       " 'Travelers Home and Marine Insurance Company (The)',\n",
       " 'Genworth Life Insurance Company',\n",
       " 'American Commerce Insurance Company',\n",
       " 'Metropolitan Life Insurance Company',\n",
       " 'USAA Casualty Insurance Company',\n",
       " 'Standard Fire Insurance Company (The)']"
      ]
     },
     "execution_count": 32,
     "metadata": {},
     "output_type": "execute_result"
    }
   ],
   "source": [
    "df['Company'].value_counts()[:25].index.tolist()"
   ]
  },
  {
   "cell_type": "markdown",
   "metadata": {},
   "source": [
    "##### Data Cleaning : Removing unwanted data from the dataframe"
   ]
  },
  {
   "cell_type": "code",
   "execution_count": 33,
   "metadata": {},
   "outputs": [],
   "source": [
    "df=df[np.isin(df.Company, ['Anthem Health Plans, Inc',\n",
    " 'ConnectiCare Insurance Company, Inc',\n",
    " 'UnitedHealthcare Insurance Company',\n",
    " 'ConnectiCare Benefits, Inc.',\n",
    " 'Progressive Direct Insurance Company',\n",
    " 'Allstate Fire and Casualty Insurance Company',\n",
    " 'Cigna Health and Life Insurance Company',\n",
    " 'Progressive Casualty Insurance Company',\n",
    " 'State Farm Fire & Casualty Company',\n",
    " 'State Farm Mutual Automobile Insurance Company',\n",
    " 'Oxford Health Plans (CT), Inc',\n",
    " 'GEICO General Insurance Company',\n",
    " 'Transamerica Life Insurance Company',\n",
    " 'Allstate Insurance Company',\n",
    " 'SAFECO Insurance Company of Illinois',\n",
    " 'LM General Insurance Company',\n",
    " 'Brighthouse Life Insurance Company',\n",
    " 'GEICO Indemnity Company',\n",
    " 'ConnectiCare Inc',\n",
    " 'Travelers Home and Marine Insurance Company (The)',\n",
    " 'Genworth Life Insurance Company',\n",
    " 'American Commerce Insurance Company',\n",
    " 'Metropolitan Life Insurance Company',\n",
    " 'USAA Casualty Insurance Company',\n",
    " 'Standard Fire Insurance Company (The)'])]"
   ]
  },
  {
   "cell_type": "markdown",
   "metadata": {},
   "source": [
    "### Feature Engineering & Feature Selection "
   ]
  },
  {
   "cell_type": "markdown",
   "metadata": {},
   "source": [
    "##### Treating & Outliers Removal"
   ]
  },
  {
   "cell_type": "markdown",
   "metadata": {},
   "source": [
    "Outlier: A data point in a data set that is far from all other observations is known as an outlier.\n",
    "\n",
    "Outliers can be treated using \n",
    "\n",
    "1.Using boxplots\n",
    "\n",
    "2.Using scatter plots\n",
    "\n",
    "3.Using Z score\n",
    "\n",
    "4.Using the IQR interquartile range"
   ]
  },
  {
   "cell_type": "code",
   "execution_count": 34,
   "metadata": {},
   "outputs": [
    {
     "data": {
      "image/png": "[encoded data removed]",
      "text/plain": [
       "<Figure size 432x288 with 1 Axes>"
      ]
     },
     "metadata": {
      "needs_background": "light"
     },
     "output_type": "display_data"
    }
   ],
   "source": [
    "boxplot = df.boxplot()  "
   ]
  },
  {
   "cell_type": "markdown",
   "metadata": {},
   "source": [
    "Here, We employ IQR interquartile range method to detect outliers. The outliers can be seen in above box graph. IQR is the first quartile subtracted from the third quartile. Anything that lies above or below the IQR is an outlier"
   ]
  },
  {
   "cell_type": "code",
   "execution_count": 35,
   "metadata": {},
   "outputs": [],
   "source": [
    "Q1=df.quantile(0.25)\n",
    "Q3=df.quantile(0.75)\n",
    "IQR=Q3-Q1"
   ]
  },
  {
   "cell_type": "code",
   "execution_count": 36,
   "metadata": {},
   "outputs": [],
   "source": [
    "df = df[~((df < (Q1 - 1.5 * IQR)) |(df > (Q3 + 1.5 * IQR))).any(axis=1)]"
   ]
  },
  {
   "cell_type": "markdown",
   "metadata": {},
   "source": [
    "##### One-hot encoding"
   ]
  },
  {
   "cell_type": "markdown",
   "metadata": {},
   "source": [
    "One hot encoding, which improves predictions and classification accuracy of a model, is the crucial process of changing the categorical data variables into Numeric variables which are further fed to machine and deep learning algorithms."
   ]
  },
  {
   "cell_type": "code",
   "execution_count": 37,
   "metadata": {},
   "outputs": [
    {
     "data": {
      "text/html": [
       "<div>\n",
       "<style scoped>\n",
       "    .dataframe tbody tr th:only-of-type {\n",
       "        vertical-align: middle;\n",
       "    }\n",
       "\n",
       "    .dataframe tbody tr th {\n",
       "        vertical-align: top;\n",
       "    }\n",
       "\n",
       "    .dataframe thead th {\n",
       "        text-align: right;\n",
       "    }\n",
       "</style>\n",
       "<table border=\"1\" class=\"dataframe\">\n",
       "  <thead>\n",
       "    <tr style=\"text-align: right;\">\n",
       "      <th></th>\n",
       "      <th>Recovery</th>\n",
       "      <th>Status</th>\n",
       "      <th>Filed_Year</th>\n",
       "      <th>Filed_Month</th>\n",
       "      <th>Settled_Year</th>\n",
       "      <th>Settled_Month</th>\n",
       "      <th>Company_Allstate Insurance Company</th>\n",
       "      <th>Company_American Commerce Insurance Company</th>\n",
       "      <th>Company_Anthem Health Plans, Inc</th>\n",
       "      <th>Company_Brighthouse Life Insurance Company</th>\n",
       "      <th>...</th>\n",
       "      <th>Conclusion_Policy not written in CT</th>\n",
       "      <th>Conclusion_Questionable</th>\n",
       "      <th>Conclusion_Rate Increase Explained</th>\n",
       "      <th>Conclusion_Record Only</th>\n",
       "      <th>Conclusion_Refer To Appraisal</th>\n",
       "      <th>Conclusion_Refer-Judicial/Attorney</th>\n",
       "      <th>Conclusion_Satisfactory Explanation</th>\n",
       "      <th>Conclusion_Satisfied</th>\n",
       "      <th>Conclusion_Unjustified</th>\n",
       "      <th>Conclusion_Voluntary Reconsideration</th>\n",
       "    </tr>\n",
       "  </thead>\n",
       "  <tbody>\n",
       "    <tr>\n",
       "      <th>0</th>\n",
       "      <td>0.0</td>\n",
       "      <td>0</td>\n",
       "      <td>2018</td>\n",
       "      <td>7</td>\n",
       "      <td>2018</td>\n",
       "      <td>8</td>\n",
       "      <td>0</td>\n",
       "      <td>0</td>\n",
       "      <td>0</td>\n",
       "      <td>0</td>\n",
       "      <td>...</td>\n",
       "      <td>0</td>\n",
       "      <td>0</td>\n",
       "      <td>0</td>\n",
       "      <td>0</td>\n",
       "      <td>0</td>\n",
       "      <td>0</td>\n",
       "      <td>0</td>\n",
       "      <td>0</td>\n",
       "      <td>0</td>\n",
       "      <td>0</td>\n",
       "    </tr>\n",
       "    <tr>\n",
       "      <th>1</th>\n",
       "      <td>0.0</td>\n",
       "      <td>0</td>\n",
       "      <td>2019</td>\n",
       "      <td>2</td>\n",
       "      <td>2019</td>\n",
       "      <td>3</td>\n",
       "      <td>0</td>\n",
       "      <td>0</td>\n",
       "      <td>0</td>\n",
       "      <td>0</td>\n",
       "      <td>...</td>\n",
       "      <td>0</td>\n",
       "      <td>0</td>\n",
       "      <td>0</td>\n",
       "      <td>0</td>\n",
       "      <td>0</td>\n",
       "      <td>0</td>\n",
       "      <td>0</td>\n",
       "      <td>0</td>\n",
       "      <td>0</td>\n",
       "      <td>0</td>\n",
       "    </tr>\n",
       "    <tr>\n",
       "      <th>7</th>\n",
       "      <td>0.0</td>\n",
       "      <td>0</td>\n",
       "      <td>2019</td>\n",
       "      <td>1</td>\n",
       "      <td>2019</td>\n",
       "      <td>2</td>\n",
       "      <td>0</td>\n",
       "      <td>0</td>\n",
       "      <td>0</td>\n",
       "      <td>0</td>\n",
       "      <td>...</td>\n",
       "      <td>0</td>\n",
       "      <td>0</td>\n",
       "      <td>0</td>\n",
       "      <td>0</td>\n",
       "      <td>0</td>\n",
       "      <td>0</td>\n",
       "      <td>0</td>\n",
       "      <td>0</td>\n",
       "      <td>0</td>\n",
       "      <td>0</td>\n",
       "    </tr>\n",
       "    <tr>\n",
       "      <th>8</th>\n",
       "      <td>0.0</td>\n",
       "      <td>0</td>\n",
       "      <td>2018</td>\n",
       "      <td>8</td>\n",
       "      <td>2019</td>\n",
       "      <td>9</td>\n",
       "      <td>0</td>\n",
       "      <td>0</td>\n",
       "      <td>0</td>\n",
       "      <td>0</td>\n",
       "      <td>...</td>\n",
       "      <td>0</td>\n",
       "      <td>0</td>\n",
       "      <td>0</td>\n",
       "      <td>0</td>\n",
       "      <td>0</td>\n",
       "      <td>0</td>\n",
       "      <td>0</td>\n",
       "      <td>0</td>\n",
       "      <td>0</td>\n",
       "      <td>0</td>\n",
       "    </tr>\n",
       "    <tr>\n",
       "      <th>9</th>\n",
       "      <td>0.0</td>\n",
       "      <td>0</td>\n",
       "      <td>2019</td>\n",
       "      <td>11</td>\n",
       "      <td>2019</td>\n",
       "      <td>12</td>\n",
       "      <td>0</td>\n",
       "      <td>0</td>\n",
       "      <td>0</td>\n",
       "      <td>0</td>\n",
       "      <td>...</td>\n",
       "      <td>0</td>\n",
       "      <td>0</td>\n",
       "      <td>0</td>\n",
       "      <td>0</td>\n",
       "      <td>0</td>\n",
       "      <td>0</td>\n",
       "      <td>0</td>\n",
       "      <td>0</td>\n",
       "      <td>0</td>\n",
       "      <td>0</td>\n",
       "    </tr>\n",
       "    <tr>\n",
       "      <th>...</th>\n",
       "      <td>...</td>\n",
       "      <td>...</td>\n",
       "      <td>...</td>\n",
       "      <td>...</td>\n",
       "      <td>...</td>\n",
       "      <td>...</td>\n",
       "      <td>...</td>\n",
       "      <td>...</td>\n",
       "      <td>...</td>\n",
       "      <td>...</td>\n",
       "      <td>...</td>\n",
       "      <td>...</td>\n",
       "      <td>...</td>\n",
       "      <td>...</td>\n",
       "      <td>...</td>\n",
       "      <td>...</td>\n",
       "      <td>...</td>\n",
       "      <td>...</td>\n",
       "      <td>...</td>\n",
       "      <td>...</td>\n",
       "      <td>...</td>\n",
       "    </tr>\n",
       "    <tr>\n",
       "      <th>24793</th>\n",
       "      <td>0.0</td>\n",
       "      <td>0</td>\n",
       "      <td>2022</td>\n",
       "      <td>6</td>\n",
       "      <td>2022</td>\n",
       "      <td>6</td>\n",
       "      <td>0</td>\n",
       "      <td>0</td>\n",
       "      <td>0</td>\n",
       "      <td>0</td>\n",
       "      <td>...</td>\n",
       "      <td>0</td>\n",
       "      <td>0</td>\n",
       "      <td>0</td>\n",
       "      <td>0</td>\n",
       "      <td>0</td>\n",
       "      <td>0</td>\n",
       "      <td>0</td>\n",
       "      <td>0</td>\n",
       "      <td>0</td>\n",
       "      <td>0</td>\n",
       "    </tr>\n",
       "    <tr>\n",
       "      <th>24814</th>\n",
       "      <td>0.0</td>\n",
       "      <td>0</td>\n",
       "      <td>2022</td>\n",
       "      <td>6</td>\n",
       "      <td>2022</td>\n",
       "      <td>6</td>\n",
       "      <td>0</td>\n",
       "      <td>0</td>\n",
       "      <td>0</td>\n",
       "      <td>0</td>\n",
       "      <td>...</td>\n",
       "      <td>0</td>\n",
       "      <td>0</td>\n",
       "      <td>0</td>\n",
       "      <td>0</td>\n",
       "      <td>0</td>\n",
       "      <td>0</td>\n",
       "      <td>0</td>\n",
       "      <td>0</td>\n",
       "      <td>0</td>\n",
       "      <td>0</td>\n",
       "    </tr>\n",
       "    <tr>\n",
       "      <th>24821</th>\n",
       "      <td>0.0</td>\n",
       "      <td>0</td>\n",
       "      <td>2022</td>\n",
       "      <td>6</td>\n",
       "      <td>2022</td>\n",
       "      <td>6</td>\n",
       "      <td>0</td>\n",
       "      <td>0</td>\n",
       "      <td>1</td>\n",
       "      <td>0</td>\n",
       "      <td>...</td>\n",
       "      <td>0</td>\n",
       "      <td>0</td>\n",
       "      <td>0</td>\n",
       "      <td>0</td>\n",
       "      <td>0</td>\n",
       "      <td>0</td>\n",
       "      <td>0</td>\n",
       "      <td>0</td>\n",
       "      <td>0</td>\n",
       "      <td>0</td>\n",
       "    </tr>\n",
       "    <tr>\n",
       "      <th>24822</th>\n",
       "      <td>0.0</td>\n",
       "      <td>0</td>\n",
       "      <td>2022</td>\n",
       "      <td>4</td>\n",
       "      <td>2022</td>\n",
       "      <td>6</td>\n",
       "      <td>0</td>\n",
       "      <td>0</td>\n",
       "      <td>1</td>\n",
       "      <td>0</td>\n",
       "      <td>...</td>\n",
       "      <td>0</td>\n",
       "      <td>0</td>\n",
       "      <td>0</td>\n",
       "      <td>0</td>\n",
       "      <td>0</td>\n",
       "      <td>0</td>\n",
       "      <td>0</td>\n",
       "      <td>0</td>\n",
       "      <td>0</td>\n",
       "      <td>0</td>\n",
       "    </tr>\n",
       "    <tr>\n",
       "      <th>24833</th>\n",
       "      <td>0.0</td>\n",
       "      <td>0</td>\n",
       "      <td>2022</td>\n",
       "      <td>6</td>\n",
       "      <td>2022</td>\n",
       "      <td>6</td>\n",
       "      <td>0</td>\n",
       "      <td>0</td>\n",
       "      <td>1</td>\n",
       "      <td>0</td>\n",
       "      <td>...</td>\n",
       "      <td>0</td>\n",
       "      <td>0</td>\n",
       "      <td>0</td>\n",
       "      <td>0</td>\n",
       "      <td>0</td>\n",
       "      <td>0</td>\n",
       "      <td>0</td>\n",
       "      <td>0</td>\n",
       "      <td>0</td>\n",
       "      <td>0</td>\n",
       "    </tr>\n",
       "  </tbody>\n",
       "</table>\n",
       "<p>4889 rows × 236 columns</p>\n",
       "</div>"
      ],
      "text/plain": [
       "       Recovery  Status  Filed_Year  Filed_Month  Settled_Year  Settled_Month  \\\n",
       "0           0.0       0        2018            7          2018              8   \n",
       "1           0.0       0        2019            2          2019              3   \n",
       "7           0.0       0        2019            1          2019              2   \n",
       "8           0.0       0        2018            8          2019              9   \n",
       "9           0.0       0        2019           11          2019             12   \n",
       "...         ...     ...         ...          ...           ...            ...   \n",
       "24793       0.0       0        2022            6          2022              6   \n",
       "24814       0.0       0        2022            6          2022              6   \n",
       "24821       0.0       0        2022            6          2022              6   \n",
       "24822       0.0       0        2022            4          2022              6   \n",
       "24833       0.0       0        2022            6          2022              6   \n",
       "\n",
       "       Company_Allstate Insurance Company  \\\n",
       "0                                       0   \n",
       "1                                       0   \n",
       "7                                       0   \n",
       "8                                       0   \n",
       "9                                       0   \n",
       "...                                   ...   \n",
       "24793                                   0   \n",
       "24814                                   0   \n",
       "24821                                   0   \n",
       "24822                                   0   \n",
       "24833                                   0   \n",
       "\n",
       "       Company_American Commerce Insurance Company  \\\n",
       "0                                                0   \n",
       "1                                                0   \n",
       "7                                                0   \n",
       "8                                                0   \n",
       "9                                                0   \n",
       "...                                            ...   \n",
       "24793                                            0   \n",
       "24814                                            0   \n",
       "24821                                            0   \n",
       "24822                                            0   \n",
       "24833                                            0   \n",
       "\n",
       "       Company_Anthem Health Plans, Inc  \\\n",
       "0                                     0   \n",
       "1                                     0   \n",
       "7                                     0   \n",
       "8                                     0   \n",
       "9                                     0   \n",
       "...                                 ...   \n",
       "24793                                 0   \n",
       "24814                                 0   \n",
       "24821                                 1   \n",
       "24822                                 1   \n",
       "24833                                 1   \n",
       "\n",
       "       Company_Brighthouse Life Insurance Company  ...  \\\n",
       "0                                               0  ...   \n",
       "1                                               0  ...   \n",
       "7                                               0  ...   \n",
       "8                                               0  ...   \n",
       "9                                               0  ...   \n",
       "...                                           ...  ...   \n",
       "24793                                           0  ...   \n",
       "24814                                           0  ...   \n",
       "24821                                           0  ...   \n",
       "24822                                           0  ...   \n",
       "24833                                           0  ...   \n",
       "\n",
       "       Conclusion_Policy not written in CT  Conclusion_Questionable  \\\n",
       "0                                        0                        0   \n",
       "1                                        0                        0   \n",
       "7                                        0                        0   \n",
       "8                                        0                        0   \n",
       "9                                        0                        0   \n",
       "...                                    ...                      ...   \n",
       "24793                                    0                        0   \n",
       "24814                                    0                        0   \n",
       "24821                                    0                        0   \n",
       "24822                                    0                        0   \n",
       "24833                                    0                        0   \n",
       "\n",
       "       Conclusion_Rate Increase Explained  Conclusion_Record Only  \\\n",
       "0                                       0                       0   \n",
       "1                                       0                       0   \n",
       "7                                       0                       0   \n",
       "8                                       0                       0   \n",
       "9                                       0                       0   \n",
       "...                                   ...                     ...   \n",
       "24793                                   0                       0   \n",
       "24814                                   0                       0   \n",
       "24821                                   0                       0   \n",
       "24822                                   0                       0   \n",
       "24833                                   0                       0   \n",
       "\n",
       "       Conclusion_Refer To Appraisal  Conclusion_Refer-Judicial/Attorney  \\\n",
       "0                                  0                                   0   \n",
       "1                                  0                                   0   \n",
       "7                                  0                                   0   \n",
       "8                                  0                                   0   \n",
       "9                                  0                                   0   \n",
       "...                              ...                                 ...   \n",
       "24793                              0                                   0   \n",
       "24814                              0                                   0   \n",
       "24821                              0                                   0   \n",
       "24822                              0                                   0   \n",
       "24833                              0                                   0   \n",
       "\n",
       "       Conclusion_Satisfactory Explanation  Conclusion_Satisfied  \\\n",
       "0                                        0                     0   \n",
       "1                                        0                     0   \n",
       "7                                        0                     0   \n",
       "8                                        0                     0   \n",
       "9                                        0                     0   \n",
       "...                                    ...                   ...   \n",
       "24793                                    0                     0   \n",
       "24814                                    0                     0   \n",
       "24821                                    0                     0   \n",
       "24822                                    0                     0   \n",
       "24833                                    0                     0   \n",
       "\n",
       "       Conclusion_Unjustified  Conclusion_Voluntary Reconsideration  \n",
       "0                           0                                     0  \n",
       "1                           0                                     0  \n",
       "7                           0                                     0  \n",
       "8                           0                                     0  \n",
       "9                           0                                     0  \n",
       "...                       ...                                   ...  \n",
       "24793                       0                                     0  \n",
       "24814                       0                                     0  \n",
       "24821                       0                                     0  \n",
       "24822                       0                                     0  \n",
       "24833                       0                                     0  \n",
       "\n",
       "[4889 rows x 236 columns]"
      ]
     },
     "execution_count": 37,
     "metadata": {},
     "output_type": "execute_result"
    }
   ],
   "source": [
    "df['Status'] = df['Status'].map({'Open/Pending':1, 'Closed':0})\n",
    "df = pd.get_dummies(df, drop_first=True)\n",
    "df"
   ]
  },
  {
   "cell_type": "markdown",
   "metadata": {},
   "source": [
    "##### Feature scaling"
   ]
  },
  {
   "cell_type": "markdown",
   "metadata": {},
   "source": [
    "Feature Scaling is primarily used because to reduce the variance effect and to overcome the fitting problem. There are two types of feature scaling techniques. \n",
    "\n",
    "1. Standardization\n",
    "\n",
    "\n",
    "2. Normalisation\n",
    "\n",
    "In standardization, the mean of the features is 0 and the standard deviation is 1."
   ]
  },
  {
   "cell_type": "code",
   "execution_count": 38,
   "metadata": {},
   "outputs": [],
   "source": [
    "from sklearn import preprocessing\n",
    "scaling=preprocessing.StandardScaler()\n",
    "df1=scaling.fit_transform(df)"
   ]
  },
  {
   "cell_type": "code",
   "execution_count": 39,
   "metadata": {},
   "outputs": [
    {
     "data": {
      "text/plain": [
       "Index(['Recovery', 'Status', 'Filed_Year', 'Filed_Month', 'Settled_Year',\n",
       "       'Settled_Month', 'Company_Allstate Insurance Company',\n",
       "       'Company_American Commerce Insurance Company',\n",
       "       'Company_Anthem Health Plans, Inc',\n",
       "       'Company_Brighthouse Life Insurance Company',\n",
       "       ...\n",
       "       'Conclusion_Policy not written in CT', 'Conclusion_Questionable',\n",
       "       'Conclusion_Rate Increase Explained', 'Conclusion_Record Only',\n",
       "       'Conclusion_Refer To Appraisal', 'Conclusion_Refer-Judicial/Attorney',\n",
       "       'Conclusion_Satisfactory Explanation', 'Conclusion_Satisfied',\n",
       "       'Conclusion_Unjustified', 'Conclusion_Voluntary Reconsideration'],\n",
       "      dtype='object', length=236)"
      ]
     },
     "execution_count": 39,
     "metadata": {},
     "output_type": "execute_result"
    }
   ],
   "source": [
    "df_col=df.columns\n",
    "df_col"
   ]
  },
  {
   "cell_type": "code",
   "execution_count": 40,
   "metadata": {},
   "outputs": [
    {
     "data": {
      "text/html": [
       "<div>\n",
       "<style scoped>\n",
       "    .dataframe tbody tr th:only-of-type {\n",
       "        vertical-align: middle;\n",
       "    }\n",
       "\n",
       "    .dataframe tbody tr th {\n",
       "        vertical-align: top;\n",
       "    }\n",
       "\n",
       "    .dataframe thead th {\n",
       "        text-align: right;\n",
       "    }\n",
       "</style>\n",
       "<table border=\"1\" class=\"dataframe\">\n",
       "  <thead>\n",
       "    <tr style=\"text-align: right;\">\n",
       "      <th></th>\n",
       "      <th>Recovery</th>\n",
       "      <th>Status</th>\n",
       "      <th>Filed_Year</th>\n",
       "      <th>Filed_Month</th>\n",
       "      <th>Settled_Year</th>\n",
       "      <th>Settled_Month</th>\n",
       "      <th>Company_Allstate Insurance Company</th>\n",
       "      <th>Company_American Commerce Insurance Company</th>\n",
       "      <th>Company_Anthem Health Plans, Inc</th>\n",
       "      <th>Company_Brighthouse Life Insurance Company</th>\n",
       "      <th>...</th>\n",
       "      <th>Conclusion_Policy not written in CT</th>\n",
       "      <th>Conclusion_Questionable</th>\n",
       "      <th>Conclusion_Rate Increase Explained</th>\n",
       "      <th>Conclusion_Record Only</th>\n",
       "      <th>Conclusion_Refer To Appraisal</th>\n",
       "      <th>Conclusion_Refer-Judicial/Attorney</th>\n",
       "      <th>Conclusion_Satisfactory Explanation</th>\n",
       "      <th>Conclusion_Satisfied</th>\n",
       "      <th>Conclusion_Unjustified</th>\n",
       "      <th>Conclusion_Voluntary Reconsideration</th>\n",
       "    </tr>\n",
       "  </thead>\n",
       "  <tbody>\n",
       "    <tr>\n",
       "      <th>0</th>\n",
       "      <td>0.0</td>\n",
       "      <td>0</td>\n",
       "      <td>2018</td>\n",
       "      <td>7</td>\n",
       "      <td>2018</td>\n",
       "      <td>8</td>\n",
       "      <td>0</td>\n",
       "      <td>0</td>\n",
       "      <td>0</td>\n",
       "      <td>0</td>\n",
       "      <td>...</td>\n",
       "      <td>0</td>\n",
       "      <td>0</td>\n",
       "      <td>0</td>\n",
       "      <td>0</td>\n",
       "      <td>0</td>\n",
       "      <td>0</td>\n",
       "      <td>0</td>\n",
       "      <td>0</td>\n",
       "      <td>0</td>\n",
       "      <td>0</td>\n",
       "    </tr>\n",
       "    <tr>\n",
       "      <th>1</th>\n",
       "      <td>0.0</td>\n",
       "      <td>0</td>\n",
       "      <td>2019</td>\n",
       "      <td>2</td>\n",
       "      <td>2019</td>\n",
       "      <td>3</td>\n",
       "      <td>0</td>\n",
       "      <td>0</td>\n",
       "      <td>0</td>\n",
       "      <td>0</td>\n",
       "      <td>...</td>\n",
       "      <td>0</td>\n",
       "      <td>0</td>\n",
       "      <td>0</td>\n",
       "      <td>0</td>\n",
       "      <td>0</td>\n",
       "      <td>0</td>\n",
       "      <td>0</td>\n",
       "      <td>0</td>\n",
       "      <td>0</td>\n",
       "      <td>0</td>\n",
       "    </tr>\n",
       "    <tr>\n",
       "      <th>7</th>\n",
       "      <td>0.0</td>\n",
       "      <td>0</td>\n",
       "      <td>2019</td>\n",
       "      <td>1</td>\n",
       "      <td>2019</td>\n",
       "      <td>2</td>\n",
       "      <td>0</td>\n",
       "      <td>0</td>\n",
       "      <td>0</td>\n",
       "      <td>0</td>\n",
       "      <td>...</td>\n",
       "      <td>0</td>\n",
       "      <td>0</td>\n",
       "      <td>0</td>\n",
       "      <td>0</td>\n",
       "      <td>0</td>\n",
       "      <td>0</td>\n",
       "      <td>0</td>\n",
       "      <td>0</td>\n",
       "      <td>0</td>\n",
       "      <td>0</td>\n",
       "    </tr>\n",
       "    <tr>\n",
       "      <th>8</th>\n",
       "      <td>0.0</td>\n",
       "      <td>0</td>\n",
       "      <td>2018</td>\n",
       "      <td>8</td>\n",
       "      <td>2019</td>\n",
       "      <td>9</td>\n",
       "      <td>0</td>\n",
       "      <td>0</td>\n",
       "      <td>0</td>\n",
       "      <td>0</td>\n",
       "      <td>...</td>\n",
       "      <td>0</td>\n",
       "      <td>0</td>\n",
       "      <td>0</td>\n",
       "      <td>0</td>\n",
       "      <td>0</td>\n",
       "      <td>0</td>\n",
       "      <td>0</td>\n",
       "      <td>0</td>\n",
       "      <td>0</td>\n",
       "      <td>0</td>\n",
       "    </tr>\n",
       "    <tr>\n",
       "      <th>9</th>\n",
       "      <td>0.0</td>\n",
       "      <td>0</td>\n",
       "      <td>2019</td>\n",
       "      <td>11</td>\n",
       "      <td>2019</td>\n",
       "      <td>12</td>\n",
       "      <td>0</td>\n",
       "      <td>0</td>\n",
       "      <td>0</td>\n",
       "      <td>0</td>\n",
       "      <td>...</td>\n",
       "      <td>0</td>\n",
       "      <td>0</td>\n",
       "      <td>0</td>\n",
       "      <td>0</td>\n",
       "      <td>0</td>\n",
       "      <td>0</td>\n",
       "      <td>0</td>\n",
       "      <td>0</td>\n",
       "      <td>0</td>\n",
       "      <td>0</td>\n",
       "    </tr>\n",
       "    <tr>\n",
       "      <th>...</th>\n",
       "      <td>...</td>\n",
       "      <td>...</td>\n",
       "      <td>...</td>\n",
       "      <td>...</td>\n",
       "      <td>...</td>\n",
       "      <td>...</td>\n",
       "      <td>...</td>\n",
       "      <td>...</td>\n",
       "      <td>...</td>\n",
       "      <td>...</td>\n",
       "      <td>...</td>\n",
       "      <td>...</td>\n",
       "      <td>...</td>\n",
       "      <td>...</td>\n",
       "      <td>...</td>\n",
       "      <td>...</td>\n",
       "      <td>...</td>\n",
       "      <td>...</td>\n",
       "      <td>...</td>\n",
       "      <td>...</td>\n",
       "      <td>...</td>\n",
       "    </tr>\n",
       "    <tr>\n",
       "      <th>24793</th>\n",
       "      <td>0.0</td>\n",
       "      <td>0</td>\n",
       "      <td>2022</td>\n",
       "      <td>6</td>\n",
       "      <td>2022</td>\n",
       "      <td>6</td>\n",
       "      <td>0</td>\n",
       "      <td>0</td>\n",
       "      <td>0</td>\n",
       "      <td>0</td>\n",
       "      <td>...</td>\n",
       "      <td>0</td>\n",
       "      <td>0</td>\n",
       "      <td>0</td>\n",
       "      <td>0</td>\n",
       "      <td>0</td>\n",
       "      <td>0</td>\n",
       "      <td>0</td>\n",
       "      <td>0</td>\n",
       "      <td>0</td>\n",
       "      <td>0</td>\n",
       "    </tr>\n",
       "    <tr>\n",
       "      <th>24814</th>\n",
       "      <td>0.0</td>\n",
       "      <td>0</td>\n",
       "      <td>2022</td>\n",
       "      <td>6</td>\n",
       "      <td>2022</td>\n",
       "      <td>6</td>\n",
       "      <td>0</td>\n",
       "      <td>0</td>\n",
       "      <td>0</td>\n",
       "      <td>0</td>\n",
       "      <td>...</td>\n",
       "      <td>0</td>\n",
       "      <td>0</td>\n",
       "      <td>0</td>\n",
       "      <td>0</td>\n",
       "      <td>0</td>\n",
       "      <td>0</td>\n",
       "      <td>0</td>\n",
       "      <td>0</td>\n",
       "      <td>0</td>\n",
       "      <td>0</td>\n",
       "    </tr>\n",
       "    <tr>\n",
       "      <th>24821</th>\n",
       "      <td>0.0</td>\n",
       "      <td>0</td>\n",
       "      <td>2022</td>\n",
       "      <td>6</td>\n",
       "      <td>2022</td>\n",
       "      <td>6</td>\n",
       "      <td>0</td>\n",
       "      <td>0</td>\n",
       "      <td>1</td>\n",
       "      <td>0</td>\n",
       "      <td>...</td>\n",
       "      <td>0</td>\n",
       "      <td>0</td>\n",
       "      <td>0</td>\n",
       "      <td>0</td>\n",
       "      <td>0</td>\n",
       "      <td>0</td>\n",
       "      <td>0</td>\n",
       "      <td>0</td>\n",
       "      <td>0</td>\n",
       "      <td>0</td>\n",
       "    </tr>\n",
       "    <tr>\n",
       "      <th>24822</th>\n",
       "      <td>0.0</td>\n",
       "      <td>0</td>\n",
       "      <td>2022</td>\n",
       "      <td>4</td>\n",
       "      <td>2022</td>\n",
       "      <td>6</td>\n",
       "      <td>0</td>\n",
       "      <td>0</td>\n",
       "      <td>1</td>\n",
       "      <td>0</td>\n",
       "      <td>...</td>\n",
       "      <td>0</td>\n",
       "      <td>0</td>\n",
       "      <td>0</td>\n",
       "      <td>0</td>\n",
       "      <td>0</td>\n",
       "      <td>0</td>\n",
       "      <td>0</td>\n",
       "      <td>0</td>\n",
       "      <td>0</td>\n",
       "      <td>0</td>\n",
       "    </tr>\n",
       "    <tr>\n",
       "      <th>24833</th>\n",
       "      <td>0.0</td>\n",
       "      <td>0</td>\n",
       "      <td>2022</td>\n",
       "      <td>6</td>\n",
       "      <td>2022</td>\n",
       "      <td>6</td>\n",
       "      <td>0</td>\n",
       "      <td>0</td>\n",
       "      <td>1</td>\n",
       "      <td>0</td>\n",
       "      <td>...</td>\n",
       "      <td>0</td>\n",
       "      <td>0</td>\n",
       "      <td>0</td>\n",
       "      <td>0</td>\n",
       "      <td>0</td>\n",
       "      <td>0</td>\n",
       "      <td>0</td>\n",
       "      <td>0</td>\n",
       "      <td>0</td>\n",
       "      <td>0</td>\n",
       "    </tr>\n",
       "  </tbody>\n",
       "</table>\n",
       "<p>4889 rows × 236 columns</p>\n",
       "</div>"
      ],
      "text/plain": [
       "       Recovery  Status  Filed_Year  Filed_Month  Settled_Year  Settled_Month  \\\n",
       "0           0.0       0        2018            7          2018              8   \n",
       "1           0.0       0        2019            2          2019              3   \n",
       "7           0.0       0        2019            1          2019              2   \n",
       "8           0.0       0        2018            8          2019              9   \n",
       "9           0.0       0        2019           11          2019             12   \n",
       "...         ...     ...         ...          ...           ...            ...   \n",
       "24793       0.0       0        2022            6          2022              6   \n",
       "24814       0.0       0        2022            6          2022              6   \n",
       "24821       0.0       0        2022            6          2022              6   \n",
       "24822       0.0       0        2022            4          2022              6   \n",
       "24833       0.0       0        2022            6          2022              6   \n",
       "\n",
       "       Company_Allstate Insurance Company  \\\n",
       "0                                       0   \n",
       "1                                       0   \n",
       "7                                       0   \n",
       "8                                       0   \n",
       "9                                       0   \n",
       "...                                   ...   \n",
       "24793                                   0   \n",
       "24814                                   0   \n",
       "24821                                   0   \n",
       "24822                                   0   \n",
       "24833                                   0   \n",
       "\n",
       "       Company_American Commerce Insurance Company  \\\n",
       "0                                                0   \n",
       "1                                                0   \n",
       "7                                                0   \n",
       "8                                                0   \n",
       "9                                                0   \n",
       "...                                            ...   \n",
       "24793                                            0   \n",
       "24814                                            0   \n",
       "24821                                            0   \n",
       "24822                                            0   \n",
       "24833                                            0   \n",
       "\n",
       "       Company_Anthem Health Plans, Inc  \\\n",
       "0                                     0   \n",
       "1                                     0   \n",
       "7                                     0   \n",
       "8                                     0   \n",
       "9                                     0   \n",
       "...                                 ...   \n",
       "24793                                 0   \n",
       "24814                                 0   \n",
       "24821                                 1   \n",
       "24822                                 1   \n",
       "24833                                 1   \n",
       "\n",
       "       Company_Brighthouse Life Insurance Company  ...  \\\n",
       "0                                               0  ...   \n",
       "1                                               0  ...   \n",
       "7                                               0  ...   \n",
       "8                                               0  ...   \n",
       "9                                               0  ...   \n",
       "...                                           ...  ...   \n",
       "24793                                           0  ...   \n",
       "24814                                           0  ...   \n",
       "24821                                           0  ...   \n",
       "24822                                           0  ...   \n",
       "24833                                           0  ...   \n",
       "\n",
       "       Conclusion_Policy not written in CT  Conclusion_Questionable  \\\n",
       "0                                        0                        0   \n",
       "1                                        0                        0   \n",
       "7                                        0                        0   \n",
       "8                                        0                        0   \n",
       "9                                        0                        0   \n",
       "...                                    ...                      ...   \n",
       "24793                                    0                        0   \n",
       "24814                                    0                        0   \n",
       "24821                                    0                        0   \n",
       "24822                                    0                        0   \n",
       "24833                                    0                        0   \n",
       "\n",
       "       Conclusion_Rate Increase Explained  Conclusion_Record Only  \\\n",
       "0                                       0                       0   \n",
       "1                                       0                       0   \n",
       "7                                       0                       0   \n",
       "8                                       0                       0   \n",
       "9                                       0                       0   \n",
       "...                                   ...                     ...   \n",
       "24793                                   0                       0   \n",
       "24814                                   0                       0   \n",
       "24821                                   0                       0   \n",
       "24822                                   0                       0   \n",
       "24833                                   0                       0   \n",
       "\n",
       "       Conclusion_Refer To Appraisal  Conclusion_Refer-Judicial/Attorney  \\\n",
       "0                                  0                                   0   \n",
       "1                                  0                                   0   \n",
       "7                                  0                                   0   \n",
       "8                                  0                                   0   \n",
       "9                                  0                                   0   \n",
       "...                              ...                                 ...   \n",
       "24793                              0                                   0   \n",
       "24814                              0                                   0   \n",
       "24821                              0                                   0   \n",
       "24822                              0                                   0   \n",
       "24833                              0                                   0   \n",
       "\n",
       "       Conclusion_Satisfactory Explanation  Conclusion_Satisfied  \\\n",
       "0                                        0                     0   \n",
       "1                                        0                     0   \n",
       "7                                        0                     0   \n",
       "8                                        0                     0   \n",
       "9                                        0                     0   \n",
       "...                                    ...                   ...   \n",
       "24793                                    0                     0   \n",
       "24814                                    0                     0   \n",
       "24821                                    0                     0   \n",
       "24822                                    0                     0   \n",
       "24833                                    0                     0   \n",
       "\n",
       "       Conclusion_Unjustified  Conclusion_Voluntary Reconsideration  \n",
       "0                           0                                     0  \n",
       "1                           0                                     0  \n",
       "7                           0                                     0  \n",
       "8                           0                                     0  \n",
       "9                           0                                     0  \n",
       "...                       ...                                   ...  \n",
       "24793                       0                                     0  \n",
       "24814                       0                                     0  \n",
       "24821                       0                                     0  \n",
       "24822                       0                                     0  \n",
       "24833                       0                                     0  \n",
       "\n",
       "[4889 rows x 236 columns]"
      ]
     },
     "execution_count": 40,
     "metadata": {},
     "output_type": "execute_result"
    }
   ],
   "source": [
    "df1=pd.DataFrame(df, columns=df_col)\n",
    "df1"
   ]
  },
  {
   "cell_type": "markdown",
   "metadata": {},
   "source": [
    "##### Seperating features and target variable"
   ]
  },
  {
   "cell_type": "code",
   "execution_count": 41,
   "metadata": {},
   "outputs": [],
   "source": [
    "x = [x for x in df1.columns if x != 'Status']\n",
    "X=df1[x]\n",
    "y= df1['Status']"
   ]
  },
  {
   "cell_type": "markdown",
   "metadata": {},
   "source": [
    "##### Chi Square test for selecting importent features that are used for further analysis."
   ]
  },
  {
   "cell_type": "code",
   "execution_count": 42,
   "metadata": {},
   "outputs": [],
   "source": [
    "from sklearn.feature_selection import SelectKBest\n",
    "from sklearn.feature_selection import chi2\n",
    "bestfeatures = SelectKBest(score_func=chi2, k=10)"
   ]
  },
  {
   "cell_type": "code",
   "execution_count": 43,
   "metadata": {},
   "outputs": [],
   "source": [
    "fit = bestfeatures.fit(X,y)\n",
    "dfscores = pd.DataFrame(fit.scores_)\n",
    "dfcolumns = pd.DataFrame(X.columns)"
   ]
  },
  {
   "cell_type": "code",
   "execution_count": 44,
   "metadata": {},
   "outputs": [],
   "source": [
    "#concat two dataframes for Interoperability \n",
    "featureScores = pd.concat([dfcolumns,dfscores],axis=1)\n",
    "featureScores.columns = ['Features','Score'] "
   ]
  },
  {
   "cell_type": "markdown",
   "metadata": {},
   "source": [
    "##### Handling imbalanced data"
   ]
  },
  {
   "cell_type": "markdown",
   "metadata": {},
   "source": [
    "Imbalanced data must be handled to reduce overfitting and underfitting problems. The ways to handle imbalanced data are below.\n",
    "\n",
    "1. Under-sampling majority class\n",
    " \n",
    " \n",
    "2. Over Sampling Minority class by duplication\n",
    "\n",
    "\n",
    "3. Over Sampling minority class using Synthetic Minority Oversampling Technique (SMOTE)\n",
    "\n",
    "\n",
    "Here, SMOTE technique is employed as it creates identical synthetic minority class samples as for the majority class."
   ]
  },
  {
   "cell_type": "code",
   "execution_count": 45,
   "metadata": {},
   "outputs": [
    {
     "name": "stdout",
     "output_type": "stream",
     "text": [
      "Requirement already satisfied: scikit-learn in c:\\users\\lenovo\\anaconda3\\lib\\site-packages (1.0.2)\n",
      "Requirement already satisfied: threadpoolctl>=2.0.0 in c:\\users\\lenovo\\anaconda3\\lib\\site-packages (from scikit-learn) (3.1.0)\n",
      "Requirement already satisfied: scipy>=1.1.0 in c:\\users\\lenovo\\anaconda3\\lib\\site-packages (from scikit-learn) (1.4.1)\n",
      "Requirement already satisfied: joblib>=0.11 in c:\\users\\lenovo\\anaconda3\\lib\\site-packages (from scikit-learn) (0.14.1)\n",
      "Requirement already satisfied: numpy>=1.14.6 in c:\\users\\lenovo\\anaconda3\\lib\\site-packages (from scikit-learn) (1.18.1)\n",
      "Requirement already satisfied: imblearn in c:\\users\\lenovo\\anaconda3\\lib\\site-packages (0.0)\n",
      "Requirement already satisfied: imbalanced-learn in c:\\users\\lenovo\\anaconda3\\lib\\site-packages (from imblearn) (0.9.0)\n",
      "Requirement already satisfied: numpy>=1.14.6 in c:\\users\\lenovo\\anaconda3\\lib\\site-packages (from imbalanced-learn->imblearn) (1.18.1)\n",
      "Requirement already satisfied: joblib>=0.11 in c:\\users\\lenovo\\anaconda3\\lib\\site-packages (from imbalanced-learn->imblearn) (0.14.1)\n",
      "Requirement already satisfied: scikit-learn>=1.0.1 in c:\\users\\lenovo\\anaconda3\\lib\\site-packages (from imbalanced-learn->imblearn) (1.0.2)\n",
      "Requirement already satisfied: threadpoolctl>=2.0.0 in c:\\users\\lenovo\\anaconda3\\lib\\site-packages (from imbalanced-learn->imblearn) (3.1.0)\n",
      "Requirement already satisfied: scipy>=1.1.0 in c:\\users\\lenovo\\anaconda3\\lib\\site-packages (from imbalanced-learn->imblearn) (1.4.1)\n"
     ]
    }
   ],
   "source": [
    "!pip install --upgrade scikit-learn\n",
    "!pip install imblearn"
   ]
  },
  {
   "cell_type": "code",
   "execution_count": 46,
   "metadata": {},
   "outputs": [],
   "source": [
    "from imblearn.over_sampling import SMOTE\n",
    "s=SMOTE(sampling_strategy='minority')\n",
    "X_s,y_s=s.fit_resample(X,y)"
   ]
  },
  {
   "cell_type": "markdown",
   "metadata": {},
   "source": [
    "**Evaluation Metric: F-Score**\n",
    "\n",
    "The metrics such as Precision, Sensitivity, Recall, Specificity, F-Score, ROC-AUC Curve is used to evaluate the binary or multi calss Classification problem.\n",
    "\n",
    "Here, we could observe that the data in target variable is imbalanced , here we could use the F-1 Score. \n",
    "F-1 score is generally useful when working with the imbalanced dataset and it combines precision and recall into a single number as it is harmonic mean of precision and recall.\n",
    "\n",
    "Basically. harmonic mean penalises unequal values more. So, as our data is imbalanced \n",
    " it's better to use F-Score as evaluation metric."
   ]
  },
  {
   "cell_type": "markdown",
   "metadata": {},
   "source": [
    "##### Splitting the data into train & test"
   ]
  },
  {
   "cell_type": "code",
   "execution_count": 47,
   "metadata": {},
   "outputs": [
    {
     "name": "stdout",
     "output_type": "stream",
     "text": [
      "Training samples: 6,813\n",
      "Test samples: 2,921\n"
     ]
    }
   ],
   "source": [
    "from sklearn.model_selection import train_test_split\n",
    "\n",
    "X_train, X_test, y_train, y_test = train_test_split(X_s, y_s, test_size=0.3)\n",
    "\n",
    "print(f'Training samples: {X_train.shape[0]:,}')\n",
    "print(f'Test samples: {X_test.shape[0]:,}')"
   ]
  },
  {
   "cell_type": "markdown",
   "metadata": {},
   "source": [
    "##### Creating pipeline with Standrad Scaler"
   ]
  },
  {
   "cell_type": "code",
   "execution_count": 48,
   "metadata": {},
   "outputs": [],
   "source": [
    "from sklearn.pipeline import Pipeline\n",
    "from sklearn.impute import SimpleImputer\n",
    "from sklearn.preprocessing import StandardScaler\n",
    "\n",
    "processing_pipeline = Pipeline([('impute_missing', SimpleImputer(missing_values=0,strategy='median')),('scaler', StandardScaler())])\n"
   ]
  },
  {
   "cell_type": "markdown",
   "metadata": {},
   "source": [
    "### Prediction using LogisticRegression"
   ]
  },
  {
   "cell_type": "code",
   "execution_count": 49,
   "metadata": {},
   "outputs": [],
   "source": [
    "from sklearn.linear_model import LogisticRegression\n",
    "from sklearn.metrics import accuracy_score, f1_score\n",
    "from sklearn.metrics import classification_report"
   ]
  },
  {
   "cell_type": "code",
   "execution_count": 50,
   "metadata": {},
   "outputs": [],
   "source": [
    "modeling_pipeline = Pipeline([('data_processing', processing_pipeline),('lr', LogisticRegression(penalty='l2'))])\n",
    "LR = modeling_pipeline.fit(X_train, y_train)"
   ]
  },
  {
   "cell_type": "code",
   "execution_count": 51,
   "metadata": {},
   "outputs": [
    {
     "name": "stdout",
     "output_type": "stream",
     "text": [
      "Test score: 0.9325573433755563\n",
      "Training Score: 0.9311610157052693\n"
     ]
    }
   ],
   "source": [
    "#calculating the accuracy score on test data and Training data \n",
    "predictions=LR.predict(X_test)\n",
    "print(\"Test score:\",accuracy_score(predictions, y_test))\n",
    "predictions_train = LR.predict(X_train)\n",
    "print(\"Training Score:\",accuracy_score(predictions_train, y_train))"
   ]
  },
  {
   "cell_type": "markdown",
   "metadata": {},
   "source": [
    "Training accuracy and Test accuracy are close to each other, so there is no case of over-fitting or under-fitting."
   ]
  },
  {
   "cell_type": "markdown",
   "metadata": {},
   "source": [
    "##### Plotting the ROC_AUC_CURVE"
   ]
  },
  {
   "cell_type": "code",
   "execution_count": 52,
   "metadata": {},
   "outputs": [
    {
     "data": {
      "text/plain": [
       "<sklearn.metrics._plot.roc_curve.RocCurveDisplay at 0x12162ee9e48>"
      ]
     },
     "execution_count": 52,
     "metadata": {},
     "output_type": "execute_result"
    },
    {
     "data": {
      "image/png": "[encoded data removed]",
      "text/plain": [
       "<Figure size 432x288 with 1 Axes>"
      ]
     },
     "metadata": {
      "needs_background": "light"
     },
     "output_type": "display_data"
    }
   ],
   "source": [
    "from sklearn.metrics import roc_auc_score, plot_roc_curve\n",
    "plot_roc_curve(LR, X_test,y_test,name='Logistic Regression')"
   ]
  },
  {
   "cell_type": "code",
   "execution_count": 53,
   "metadata": {},
   "outputs": [
    {
     "name": "stdout",
     "output_type": "stream",
     "text": [
      "f1_score: 0.9367576243980739\n"
     ]
    }
   ],
   "source": [
    "from sklearn.metrics import confusion_matrix,f1_score\n",
    "print('f1_score:',f1_score(y_test, predictions))"
   ]
  },
  {
   "cell_type": "markdown",
   "metadata": {},
   "source": [
    "Inferences:\n",
    "\n",
    "> f1_score is 94.1% with Logistic Regression with L2 penalty and AUC value is 96% that implies, the model is 96% accurate in distinguishing the classes."
   ]
  },
  {
   "cell_type": "markdown",
   "metadata": {},
   "source": [
    "##### Logistic Regression using Grid Search CV at various regularization strengths and liblinear solver"
   ]
  },
  {
   "cell_type": "code",
   "execution_count": 54,
   "metadata": {},
   "outputs": [],
   "source": [
    "from sklearn.linear_model import LogisticRegression\n",
    "from sklearn.model_selection import GridSearchCV\n",
    "from sklearn.pipeline import Pipeline\n",
    "\n",
    "P_LR = Pipeline([('processing', processing_pipeline),\n",
    "             ('lr', LogisticRegression(penalty='l2',solver='liblinear'))])\n",
    "\n",
    "params = {'lr__C': [0.01, 0.1, 1, 10,100]}\n",
    "\n",
    "LR = GridSearchCV(P_LR, param_grid=params, cv=10, scoring='f1', refit=True)\n",
    "LR = LR.fit(X_train, y_train)\n",
    "LR_pred = LR.predict(X_test)\n"
   ]
  },
  {
   "cell_type": "code",
   "execution_count": 55,
   "metadata": {},
   "outputs": [
    {
     "name": "stdout",
     "output_type": "stream",
     "text": [
      "Test score: 0.9325573433755563\n",
      "Training Score: 0.9311610157052693\n"
     ]
    }
   ],
   "source": [
    "#calculating the accuracy score on test data and Training data \n",
    "predictions=LR.predict(X_test)\n",
    "print(\"Test score:\",accuracy_score(predictions, y_test))\n",
    "predictions_train = LR.predict(X_train)\n",
    "print(\"Training Score:\",accuracy_score(predictions_train, y_train))"
   ]
  },
  {
   "cell_type": "code",
   "execution_count": 57,
   "metadata": {},
   "outputs": [
    {
     "data": {
      "text/plain": [
       "<sklearn.metrics._plot.roc_curve.RocCurveDisplay at 0x12167edf4c8>"
      ]
     },
     "execution_count": 57,
     "metadata": {},
     "output_type": "execute_result"
    },
    {
     "data": {
      "image/png": "[encoded data removed]",
      "text/plain": [
       "<Figure size 432x288 with 1 Axes>"
      ]
     },
     "metadata": {
      "needs_background": "light"
     },
     "output_type": "display_data"
    }
   ],
   "source": [
    "from sklearn.metrics import roc_auc_score, plot_roc_curve\n",
    "plot_roc_curve(LR, X_test,y_test,name='Logistic Regression using Grid Search Cross Validation & Liblinear solver')"
   ]
  },
  {
   "cell_type": "code",
   "execution_count": 58,
   "metadata": {},
   "outputs": [
    {
     "name": "stdout",
     "output_type": "stream",
     "text": [
      "f1_score: 0.9367576243980739\n"
     ]
    }
   ],
   "source": [
    "from sklearn.metrics import confusion_matrix,f1_score\n",
    "print('f1_score:',f1_score(y_test, LR_pred))\n"
   ]
  },
  {
   "cell_type": "code",
   "execution_count": 59,
   "metadata": {},
   "outputs": [
    {
     "data": {
      "text/plain": [
       "{'lr__C': 0.1}"
      ]
     },
     "execution_count": 59,
     "metadata": {},
     "output_type": "execute_result"
    }
   ],
   "source": [
    "LR.best_params_"
   ]
  },
  {
   "cell_type": "markdown",
   "metadata": {},
   "source": [
    "Inferences:\n",
    "\n",
    ">Training accuracy and Test accuracy are close to each other, so there is no case of over-fitting or under-fitting.\n",
    "\n",
    ">f1_score is 94.1% with Logistic Regression with 10 folds Cross Validation,L2 penalty and liblinear solver."
   ]
  },
  {
   "cell_type": "markdown",
   "metadata": {},
   "source": [
    "##### Logistic Regression using  Grid Search CV at various regularization strengths and saga solver"
   ]
  },
  {
   "cell_type": "code",
   "execution_count": 62,
   "metadata": {},
   "outputs": [],
   "source": [
    "from sklearn.linear_model import LogisticRegression\n",
    "from sklearn.model_selection import GridSearchCV\n",
    "from sklearn.pipeline import Pipeline\n",
    "\n",
    "P_LR = Pipeline([('processing', processing_pipeline),\n",
    "             ('lr', LogisticRegression(solver='saga'))])\n",
    "\n",
    "params = {'lr__C': [0.01, 0.1, 1, 10,100]}\n",
    "\n",
    "LR = GridSearchCV(P_LR, param_grid=params, cv=10, scoring='f1', refit=True)\n",
    "LR = LR.fit(X_train, y_train)\n",
    "LR_pred = LR.predict(X_test)\n",
    "\n"
   ]
  },
  {
   "cell_type": "code",
   "execution_count": 63,
   "metadata": {},
   "outputs": [
    {
     "name": "stdout",
     "output_type": "stream",
     "text": [
      "Test score: 0.9325573433755563\n",
      "Training Score: 0.9311610157052693\n"
     ]
    }
   ],
   "source": [
    "#calculating the accuracy score on test data and Training data \n",
    "predictions=LR.predict(X_test)\n",
    "print(\"Test score:\",accuracy_score(predictions, y_test))\n",
    "predictions_train = LR.predict(X_train)\n",
    "print(\"Training Score:\",accuracy_score(predictions_train, y_train))"
   ]
  },
  {
   "cell_type": "code",
   "execution_count": 64,
   "metadata": {},
   "outputs": [
    {
     "data": {
      "text/plain": [
       "<sklearn.metrics._plot.roc_curve.RocCurveDisplay at 0x1216887be48>"
      ]
     },
     "execution_count": 64,
     "metadata": {},
     "output_type": "execute_result"
    },
    {
     "data": {
      "image/png": "[encoded data removed]",
      "text/plain": [
       "<Figure size 432x288 with 1 Axes>"
      ]
     },
     "metadata": {
      "needs_background": "light"
     },
     "output_type": "display_data"
    }
   ],
   "source": [
    "from sklearn.metrics import roc_auc_score, plot_roc_curve\n",
    "plot_roc_curve(LR, X_test,y_test,name='Logistic Regression using Grid Search CV at various regularization strengths and saga solver')"
   ]
  },
  {
   "cell_type": "code",
   "execution_count": 65,
   "metadata": {},
   "outputs": [
    {
     "name": "stdout",
     "output_type": "stream",
     "text": [
      "f1_score: 0.9367576243980739\n"
     ]
    }
   ],
   "source": [
    "from sklearn.metrics import confusion_matrix,f1_score\n",
    "print('f1_score:',f1_score(y_test, LR_pred))"
   ]
  },
  {
   "cell_type": "code",
   "execution_count": 88,
   "metadata": {},
   "outputs": [
    {
     "data": {
      "text/plain": [
       "{'lr__C': 0.1}"
      ]
     },
     "execution_count": 88,
     "metadata": {},
     "output_type": "execute_result"
    }
   ],
   "source": [
    "LR.best_params_"
   ]
  },
  {
   "cell_type": "markdown",
   "metadata": {},
   "source": [
    "Inferences:\n",
    "\n",
    ">Training accuracy and Test accuracy are close to each other, so there is no case of over-fitting or under-fitting.\n",
    "\n",
    ">f1_score is 94.1% with Logistic Regression with 10 folds Cross Validation,L2 penalty and Saga solver."
   ]
  },
  {
   "cell_type": "markdown",
   "metadata": {},
   "source": [
    "### Prediction using  K-Nearest Neighbours "
   ]
  },
  {
   "cell_type": "code",
   "execution_count": 67,
   "metadata": {},
   "outputs": [],
   "source": [
    "from sklearn.pipeline import Pipeline\n",
    "from sklearn.preprocessing import StandardScaler\n",
    "from sklearn.neighbors import KNeighborsClassifier\n",
    "from sklearn.model_selection import GridSearchCV\n",
    "from sklearn.metrics import ConfusionMatrixDisplay\n",
    "\n",
    "knn_m= Pipeline([('processing', processing_pipeline),('model', KNeighborsClassifier())])\n",
    "\n",
    "param_grid = [\n",
    "  {'model__n_neighbors': [1, 3, 7, 10, 15], 'model__weights': ['uniform','distance']}\n",
    " ]\n",
    "\n",
    "knn_results = GridSearchCV(estimator=knn_m, param_grid=param_grid, scoring='f1', refit=True, cv=5)\n",
    "knn_results = knn_results.fit(X_train, y_train)"
   ]
  },
  {
   "cell_type": "code",
   "execution_count": 68,
   "metadata": {},
   "outputs": [
    {
     "name": "stdout",
     "output_type": "stream",
     "text": [
      "Training Score: 0.9898723029502422\n",
      "Test score: 0.9887024991441288\n"
     ]
    }
   ],
   "source": [
    "#calculating the accuracy score on test data and Training data \n",
    "predictions_train = knn_results.predict(X_train)\n",
    "print(\"Training Score:\",accuracy_score(predictions_train, y_train))\n",
    "predictions=knn_results.predict(X_test)\n",
    "print(\"Test score:\",accuracy_score(predictions, y_test))"
   ]
  },
  {
   "cell_type": "code",
   "execution_count": 69,
   "metadata": {},
   "outputs": [
    {
     "data": {
      "text/plain": [
       "<sklearn.metrics._plot.roc_curve.RocCurveDisplay at 0x121688d1e08>"
      ]
     },
     "execution_count": 69,
     "metadata": {},
     "output_type": "execute_result"
    },
    {
     "data": {
      "image/png": "[encoded data removed]",
      "text/plain": [
       "<Figure size 432x288 with 1 Axes>"
      ]
     },
     "metadata": {
      "needs_background": "light"
     },
     "output_type": "display_data"
    }
   ],
   "source": [
    "from sklearn.metrics import roc_auc_score, plot_roc_curve\n",
    "plot_roc_curve(knn_results, X_test,y_test,name='Prediction using K-Nearest Neighbours')"
   ]
  },
  {
   "cell_type": "code",
   "execution_count": 70,
   "metadata": {},
   "outputs": [
    {
     "name": "stdout",
     "output_type": "stream",
     "text": [
      "f1_score: 0.9888173500508303\n"
     ]
    }
   ],
   "source": [
    "knn_results_p= knn_results.predict(X_test)\n",
    "from sklearn.metrics import confusion_matrix,f1_score\n",
    "print('f1_score:',f1_score(y_test, knn_results_p))"
   ]
  },
  {
   "cell_type": "code",
   "execution_count": 92,
   "metadata": {},
   "outputs": [
    {
     "data": {
      "text/plain": [
       "{'model__n_neighbors': 1, 'model__weights': 'uniform'}"
      ]
     },
     "execution_count": 92,
     "metadata": {},
     "output_type": "execute_result"
    }
   ],
   "source": [
    "knn_results.best_params_"
   ]
  },
  {
   "cell_type": "markdown",
   "metadata": {},
   "source": [
    "Inferences:\n",
    "\n",
    "> Training accuracy and Test accuracy are close to each other, so there is no case of over-fitting or under-fitting.\n",
    "\n",
    "> f1_score is 99.1% using K-Nearest Neighbours, which is better then Logistic regression."
   ]
  },
  {
   "cell_type": "markdown",
   "metadata": {},
   "source": [
    "### Prediction using Decision Tree"
   ]
  },
  {
   "cell_type": "code",
   "execution_count": 71,
   "metadata": {},
   "outputs": [],
   "source": [
    "from sklearn.tree import DecisionTreeClassifier\n",
    "from sklearn.model_selection import GridSearchCV\n",
    "from sklearn.pipeline import Pipeline\n",
    "\n",
    "p_dt = Pipeline([('processing', processing_pipeline),('dt', DecisionTreeClassifier())])\n",
    "params = {'dt__max_depth': [1, 5, 10, 15, 25, 50, 100],'dt__min_samples_split': [3, 10, 15]}\n",
    "\n",
    "dt = GridSearchCV(p_dt, param_grid=params, cv=10, scoring='f1', refit=True)\n",
    "dt = dt.fit(X_train, y_train)\n",
    "dt_p = dt.predict(X_test)"
   ]
  },
  {
   "cell_type": "code",
   "execution_count": 72,
   "metadata": {},
   "outputs": [
    {
     "name": "stdout",
     "output_type": "stream",
     "text": [
      "Training Score: 0.9898723029502422\n",
      "Test score: 0.9887024991441288\n"
     ]
    }
   ],
   "source": [
    "#calculating the accuracy score on test data and Training data \n",
    "predictions_train = dt.predict(X_train)\n",
    "print(\"Training Score:\",accuracy_score(predictions_train, y_train))\n",
    "predictions=dt.predict(X_test)\n",
    "print(\"Test score:\",accuracy_score(predictions, y_test))"
   ]
  },
  {
   "cell_type": "code",
   "execution_count": 73,
   "metadata": {},
   "outputs": [
    {
     "data": {
      "text/plain": [
       "<sklearn.metrics._plot.roc_curve.RocCurveDisplay at 0x121001b3948>"
      ]
     },
     "execution_count": 73,
     "metadata": {},
     "output_type": "execute_result"
    },
    {
     "data": {
      "image/png": "[encoded data removed]",
      "text/plain": [
       "<Figure size 432x288 with 1 Axes>"
      ]
     },
     "metadata": {
      "needs_background": "light"
     },
     "output_type": "display_data"
    }
   ],
   "source": [
    "from sklearn.metrics import roc_auc_score, plot_roc_curve\n",
    "plot_roc_curve(dt, X_test,y_test,name='Prediction using Decision Tree')"
   ]
  },
  {
   "cell_type": "code",
   "execution_count": 74,
   "metadata": {},
   "outputs": [
    {
     "name": "stdout",
     "output_type": "stream",
     "text": [
      "f1_score: 0.9888173500508303\n"
     ]
    }
   ],
   "source": [
    "from sklearn.metrics import confusion_matrix,f1_score\n",
    "print('f1_score:',f1_score(y_test, dt_p))"
   ]
  },
  {
   "cell_type": "code",
   "execution_count": 75,
   "metadata": {},
   "outputs": [
    {
     "data": {
      "text/plain": [
       "{'dt__max_depth': 10, 'dt__min_samples_split': 3}"
      ]
     },
     "execution_count": 75,
     "metadata": {},
     "output_type": "execute_result"
    }
   ],
   "source": [
    "dt.best_params_"
   ]
  },
  {
   "cell_type": "markdown",
   "metadata": {},
   "source": [
    "Inferences:\n",
    "\n",
    "> Training accuracy and Test accuracy are close to each other, so there is no case of over-fitting or under-fitting.\n",
    "\n",
    "> f1_score is 99.1% using Decision Tree, which is better then Logistic regression and K-Nearest Neighbours."
   ]
  },
  {
   "cell_type": "markdown",
   "metadata": {},
   "source": [
    "### Prediction using RandomForest"
   ]
  },
  {
   "cell_type": "code",
   "execution_count": 76,
   "metadata": {},
   "outputs": [],
   "source": [
    "from sklearn.ensemble import RandomForestClassifier\n",
    "from sklearn.model_selection import GridSearchCV\n",
    "p_RF = Pipeline([('processing', processing_pipeline),('RF', RandomForestClassifier())])\n",
    "#params = {'RF__max_depth': [1, 5, 10, 15],'RF__min_samples_split': [3, 10]}\n",
    "\n",
    "#RF = GridSearchCV(p_RF, cv=10, scoring='f1', refit=True)\n",
    "RF = p_RF.fit(X_train, y_train)\n",
    "RF_p = RF.predict(X_test)"
   ]
  },
  {
   "cell_type": "code",
   "execution_count": 77,
   "metadata": {},
   "outputs": [
    {
     "name": "stdout",
     "output_type": "stream",
     "text": [
      "Training Score: 0.9898723029502422\n",
      "Test score: 0.9887024991441288\n"
     ]
    }
   ],
   "source": [
    "#calculating the accuracy score on test data and Training data \n",
    "predictions_train = RF.predict(X_train)\n",
    "print(\"Training Score:\",accuracy_score(predictions_train, y_train))\n",
    "predictions=RF.predict(X_test)\n",
    "print(\"Test score:\",accuracy_score(predictions, y_test))"
   ]
  },
  {
   "cell_type": "code",
   "execution_count": 79,
   "metadata": {},
   "outputs": [
    {
     "data": {
      "text/plain": [
       "<sklearn.metrics._plot.roc_curve.RocCurveDisplay at 0x12100063448>"
      ]
     },
     "execution_count": 79,
     "metadata": {},
     "output_type": "execute_result"
    },
    {
     "data": {
      "image/png": "[encoded data removed]",
      "text/plain": [
       "<Figure size 432x288 with 1 Axes>"
      ]
     },
     "metadata": {
      "needs_background": "light"
     },
     "output_type": "display_data"
    }
   ],
   "source": [
    "from sklearn.metrics import roc_auc_score, plot_roc_curve\n",
    "plot_roc_curve(RF, X_test,y_test,name='Prediction using RandomForest')"
   ]
  },
  {
   "cell_type": "code",
   "execution_count": 80,
   "metadata": {},
   "outputs": [
    {
     "name": "stdout",
     "output_type": "stream",
     "text": [
      "f1_score: 0.9888173500508303\n"
     ]
    }
   ],
   "source": [
    "from sklearn.metrics import confusion_matrix,f1_score\n",
    "print('f1_score:',f1_score(y_test, RF_p))"
   ]
  },
  {
   "cell_type": "markdown",
   "metadata": {},
   "source": [
    "Inferences:\n",
    "\n",
    "> Training accuracy and Test accuracy are close to each other, so there is no case of over-fitting or under-fitting.\n",
    "\n",
    "> f1_score is 99.1% using RandomForest, which is better then Logistic regression and K-Nearest Neighbours and quiet comparable to the decision tree algorithm."
   ]
  },
  {
   "cell_type": "markdown",
   "metadata": {},
   "source": [
    "### Prediction using Xgboost"
   ]
  },
  {
   "cell_type": "code",
   "execution_count": 81,
   "metadata": {},
   "outputs": [
    {
     "name": "stdout",
     "output_type": "stream",
     "text": [
      "Requirement already satisfied: xgboost in c:\\users\\lenovo\\anaconda3\\lib\\site-packages (1.6.0)\n",
      "Requirement already satisfied: numpy in c:\\users\\lenovo\\anaconda3\\lib\\site-packages (from xgboost) (1.18.1)\n",
      "Requirement already satisfied: scipy in c:\\users\\lenovo\\anaconda3\\lib\\site-packages (from xgboost) (1.4.1)\n"
     ]
    }
   ],
   "source": [
    "!pip install xgboost"
   ]
  },
  {
   "cell_type": "code",
   "execution_count": 83,
   "metadata": {},
   "outputs": [],
   "source": [
    "import xgboost as xgb \n",
    "from sklearn.ensemble import RandomForestClassifier\n",
    "p_xgb = Pipeline([('processing', processing_pipeline),('xgb', xgb.XGBClassifier())])\n",
    "\n",
    "xgb = p_xgb.fit(X_train, y_train)\n",
    "xgb_p = xgb.predict(X_test)"
   ]
  },
  {
   "cell_type": "code",
   "execution_count": 84,
   "metadata": {},
   "outputs": [
    {
     "name": "stdout",
     "output_type": "stream",
     "text": [
      "Training Score: 0.9898723029502422\n",
      "Test score: 0.9887024991441288\n"
     ]
    }
   ],
   "source": [
    "#calculating the accuracy score on test data and Training data \n",
    "predictions_train = xgb.predict(X_train)\n",
    "print(\"Training Score:\",accuracy_score(predictions_train, y_train))\n",
    "predictions=xgb.predict(X_test)\n",
    "print(\"Test score:\",accuracy_score(predictions, y_test))"
   ]
  },
  {
   "cell_type": "code",
   "execution_count": 85,
   "metadata": {},
   "outputs": [
    {
     "data": {
      "text/plain": [
       "<sklearn.metrics._plot.roc_curve.RocCurveDisplay at 0x12100435d48>"
      ]
     },
     "execution_count": 85,
     "metadata": {},
     "output_type": "execute_result"
    },
    {
     "data": {
      "image/png": "[encoded data removed]",
      "text/plain": [
       "<Figure size 432x288 with 1 Axes>"
      ]
     },
     "metadata": {
      "needs_background": "light"
     },
     "output_type": "display_data"
    }
   ],
   "source": [
    "from sklearn.metrics import roc_auc_score, plot_roc_curve\n",
    "plot_roc_curve(xgb, X_test,y_test,name='Prediction using Xgboost')"
   ]
  },
  {
   "cell_type": "code",
   "execution_count": 87,
   "metadata": {},
   "outputs": [
    {
     "name": "stdout",
     "output_type": "stream",
     "text": [
      "f1_score: 0.9888173500508303\n"
     ]
    }
   ],
   "source": [
    "from sklearn.metrics import confusion_matrix,f1_score\n",
    "print('f1_score:',f1_score(y_test, xgb_p))"
   ]
  },
  {
   "cell_type": "markdown",
   "metadata": {},
   "source": [
    "Inferences:\n",
    "\n",
    "> Training accuracy and Test accuracy are close to each other, so there is no case of over-fitting or under-fitting.\n",
    "\n",
    "> f1_score is 99.1% using Xgboost classifier, which is better then Logistic regression and K-Nearest Neighbours and quiet comparable to the decision tree and RandomForest algorithm."
   ]
  },
  {
   "cell_type": "markdown",
   "metadata": {},
   "source": [
    "### Prediction using SVM\n"
   ]
  },
  {
   "cell_type": "code",
   "execution_count": 88,
   "metadata": {},
   "outputs": [],
   "source": [
    "from sklearn.svm import SVC\n",
    "from sklearn.model_selection import GridSearchCV\n",
    "p_svm= Pipeline([('processing', processing_pipeline),('clf', SVC(probability=True))])"
   ]
  },
  {
   "cell_type": "code",
   "execution_count": 89,
   "metadata": {},
   "outputs": [],
   "source": [
    "# fitting the model \n",
    "svm = p_svm.fit(X_train, y_train)\n",
    "svm_p = svm.predict(X_test)"
   ]
  },
  {
   "cell_type": "code",
   "execution_count": 90,
   "metadata": {},
   "outputs": [
    {
     "name": "stdout",
     "output_type": "stream",
     "text": [
      "Training Score: 0.9631586672537795\n",
      "Test score: 0.9626840123245464\n"
     ]
    }
   ],
   "source": [
    "#calculating the accuracy score on test data and Training data \n",
    "predictions_train = svm.predict(X_train)\n",
    "print(\"Training Score:\",accuracy_score(predictions_train, y_train))\n",
    "predictions=svm.predict(X_test)\n",
    "print(\"Test score:\",accuracy_score(predictions, y_test))"
   ]
  },
  {
   "cell_type": "code",
   "execution_count": 91,
   "metadata": {},
   "outputs": [
    {
     "data": {
      "text/plain": [
       "<sklearn.metrics._plot.roc_curve.RocCurveDisplay at 0x121005367c8>"
      ]
     },
     "execution_count": 91,
     "metadata": {},
     "output_type": "execute_result"
    },
    {
     "data": {
      "image/png": "[encoded data removed]",
      "text/plain": [
       "<Figure size 432x288 with 1 Axes>"
      ]
     },
     "metadata": {
      "needs_background": "light"
     },
     "output_type": "display_data"
    }
   ],
   "source": [
    "from sklearn.metrics import roc_auc_score, plot_roc_curve\n",
    "plot_roc_curve(svm, X_test,y_test,name='Prediction using SVM')"
   ]
  },
  {
   "cell_type": "code",
   "execution_count": 92,
   "metadata": {},
   "outputs": [
    {
     "name": "stdout",
     "output_type": "stream",
     "text": [
      "f1_score: 0.96399074991741\n"
     ]
    }
   ],
   "source": [
    "from sklearn.metrics import confusion_matrix,f1_score\n",
    "print('f1_score:',f1_score(y_test, svm_p))"
   ]
  },
  {
   "cell_type": "markdown",
   "metadata": {},
   "source": [
    "Inferences:\n",
    "\n",
    ">Training accuracy and Test accuracy are close to each other, so there is no case of over-fitting or under-fitting.\n",
    "\n",
    ">f1_score is 96.9% using SVM classifier, which is better then Logistic regression and K-Nearest Neighbours and lower than decision tree, Xgboost and RandomForest algorithm.\n"
   ]
  },
  {
   "cell_type": "markdown",
   "metadata": {},
   "source": [
    "**Explorative Data Analysis Outcomes:**"
   ]
  },
  {
   "cell_type": "markdown",
   "metadata": {},
   "source": [
    "2021, 2018 are the years with most consumer complaints reported.\n",
    "\n",
    "January is month with most consumer complaints reported.\n",
    "\n",
    "2018, 2021 are the years with most consumer complaints settled/resolved.\n",
    "\n",
    "March, January are the months with most consumer complaints resolved.\n",
    "\n",
    "Travel Insurances and Home insurances are the most sought after insurance policies.\n",
    "\n",
    "Disposition type Company Position Substantiated has the highest values in the dataset.\n",
    "\n",
    "The improper claim settlemets are the primary reason for complaint filings.\n",
    "\n",
    "2021 is the year with most complaints filed and 2022 is the year with most of them resolved.\n",
    "\n",
    "Claim handling segment is the most highest segmnet with high recovery amounts then followed by complaints due to marketing and sales segments.\n",
    "\n",
    "2018 is the year with highest sum of claims recovered.\n",
    "\n",
    "February is the Month with highest sum of claims recovered.\n",
    "\n",
    "Compaints are resolved with the highest recovery amounts in Claim handling category.\n",
    "\n",
    "\n",
    "Machine Learning Outcomes\n",
    "Evaluation Metric: F-Score\n",
    "\n",
    "1) The metrics such as Precision, Sensitivity, Recall, Specificity, F-Score, ROC-AUC Curve is used to evaluate the Classification problem.Here, we could observe that the output data is slightly imbalnced, here we could use the F-1 Score. F-1 score is generally useful when working with the imbalanced dataset and it also combines precision with recall into a single metric.\n",
    "\n",
    "2) f1_score is 94.1% with Logistic Regression with L2 penalty and AUC value is 96% that implies, the model is 96% accurate in distinguishing the classes.\n",
    "\n",
    "3) f1_score is 94.1% with Logistic Regression with 10 folds Cross Validation,L2 penalty and liblinear solver.\n",
    "\n",
    "4) f1_score is 94.1% with Logistic Regression with 10 folds Cross Validation,L2 penalty and Saga solver.\n",
    "\n",
    "5) f1_score is 99.1% using K-Nearest Neighbours, which is better then Logistic regression.\n",
    "\n",
    "6) f1_score is 99.1% using Decision Tree, which is better then Logistic regression and K-Nearest Neighbours.\n",
    "\n",
    "7) f1_score is 99.1% using RandomForest, which is better then Logistic regression and K-Nearest Neighbours and quiet comparable to the decision tree algorithm.\n",
    "\n",
    "8) f1_score is 99.1% using Xgboost classifier, which is better then Logistic regression and K-Nearest Neighbours and quiet comparable to the decision tree and RandomForest algorithm.\n",
    "\n",
    "9) f1_score is 96.9% using SVM classifier, which is better then Logistic regression and K-Nearest Neighbours and lower than decision tree, Xgboost and RandomForest algorithm.\n",
    "\n",
    "10) By comparing all the above implemented models, we can conclude that K-Nearest Neighbours, Decision Tree, RandomForest, Xgboost classifiers has improved the performance of the model and any one of the models can be choosed for prtical business applications.\n",
    "\n",
    "Further Improvements and outcomes:\n",
    "\n",
    "It's better to have a business understanding of the data and the how seerity the data is. The basic understanding helps in formatting the data and making it suitable for production scale applications and for developing consumer end applications.\n",
    "\n",
    "Further, the results can be imporved by having vast knowledge on the business doamin, which could be useful in undertsnding and pre-processing the data. Thus, the outliers and any random noise can be removed.\n",
    "\n",
    "More advanced algorithms like CNN, Neural networks along with Tensor-flow models can imporve the performance of the model."
   ]
  },
  {
   "cell_type": "code",
   "execution_count": null,
   "metadata": {},
   "outputs": [],
   "source": []
  }
 ],
 "metadata": {
  "kernelspec": {
   "display_name": "Python 3",
   "language": "python",
   "name": "python3"
  },
  "language_info": {
   "codemirror_mode": {
    "name": "ipython",
    "version": 3
   },
   "file_extension": ".py",
   "mimetype": "text/x-python",
   "name": "python",
   "nbconvert_exporter": "python",
   "pygments_lexer": "ipython3",
   "version": "3.7.6"
  }
 },
 "nbformat": 4,
 "nbformat_minor": 4
}
